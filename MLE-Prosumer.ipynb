{
 "cells": [
  {
   "cell_type": "code",
   "execution_count": 5,
   "id": "4be6cb07",
   "metadata": {},
   "outputs": [],
   "source": [
    "import pandas as pd\n",
    "import numpy as np"
   ]
  },
  {
   "cell_type": "code",
   "execution_count": 22,
   "id": "eba6095f",
   "metadata": {},
   "outputs": [],
   "source": [
    "datosDemanda = pd.read_csv(\"Demand13.csv\")\n",
    "datosProduccion = pd.read_csv(\"Supply13.csv\")"
   ]
  },
  {
   "cell_type": "code",
   "execution_count": null,
   "id": "5e11c8e9",
   "metadata": {},
   "outputs": [],
   "source": []
  },
  {
   "cell_type": "code",
   "execution_count": 23,
   "id": "0704b649",
   "metadata": {},
   "outputs": [],
   "source": [
    "datosDemanda[\"total\"] = datosDemanda.sum(axis=1)\n",
    "datosProduccion[\"total\"] = datosProduccion.sum(axis=1)"
   ]
  },
  {
   "cell_type": "code",
   "execution_count": 10,
   "id": "bdfcbe87",
   "metadata": {},
   "outputs": [
    {
     "name": "stdout",
     "output_type": "stream",
     "text": [
      "       Hours  Baghdad  Nynwa  Kirkuk  Slah El-Din  Anbar  Dyala  Babil  Kerb.  \\\n",
      "0          1     3294   1243     757          488    471    598    525    514   \n",
      "1          2     2973   1151     753          477    436    570    500    469   \n",
      "2          3     2758   1105     727          471    419    604    478    430   \n",
      "3          4     2703   1220     717          470    463    564    497    465   \n",
      "4          5     2954   1358     751          519    515    626    553    517   \n",
      "...      ...      ...    ...     ...          ...    ...    ...    ...    ...   \n",
      "26347     20     4894   1906    1206         1008    912   1112   1112    914   \n",
      "26348     21     4550   1798    1158          928    862   1047   1027    869   \n",
      "26349     22     4326   1683    1091          868    818   1001    972    807   \n",
      "26350     23     4090   1567     988          819    782    935    892    780   \n",
      "26351     24     3954   1465     942          780    750    879    838    728   \n",
      "\n",
      "       Najaf  Dywan.  Wasit  Muthnna  Thi-Qar  Mesan  Basrah  total  \n",
      "0        474     307    404      208      573    369    1254  11480  \n",
      "1        437     284    374      193      536    342    1100  10597  \n",
      "2        420     273    359      185      519    328    1056  10135  \n",
      "3        451     301    397      204      522    363    1100  10441  \n",
      "4        502     335    442      228      574    404    1298  11581  \n",
      "...      ...     ...    ...      ...      ...    ...     ...    ...  \n",
      "26347    885     683    885      390     1092    701    2025  19745  \n",
      "26348    811     634    831      353      985    640    1883  18397  \n",
      "26349    751     603    767      327      914    586    1809  17345  \n",
      "26350    702     564    737      314      842    533    1675  16243  \n",
      "26351    656     541    719      301      799    495    1494  15365  \n",
      "\n",
      "[26352 rows x 17 columns]\n"
     ]
    },
    {
     "data": {
      "text/html": [
       "<div>\n",
       "<style scoped>\n",
       "    .dataframe tbody tr th:only-of-type {\n",
       "        vertical-align: middle;\n",
       "    }\n",
       "\n",
       "    .dataframe tbody tr th {\n",
       "        vertical-align: top;\n",
       "    }\n",
       "\n",
       "    .dataframe thead th {\n",
       "        text-align: right;\n",
       "    }\n",
       "</style>\n",
       "<table border=\"1\" class=\"dataframe\">\n",
       "  <thead>\n",
       "    <tr style=\"text-align: right;\">\n",
       "      <th></th>\n",
       "      <th>Hours</th>\n",
       "      <th>Baghdad</th>\n",
       "      <th>Nynwa</th>\n",
       "      <th>Kirkuk</th>\n",
       "      <th>Slah El-Din</th>\n",
       "      <th>Anbar</th>\n",
       "      <th>Dyala</th>\n",
       "      <th>Babil</th>\n",
       "      <th>Kerb.</th>\n",
       "      <th>Najaf</th>\n",
       "      <th>Dywan.</th>\n",
       "      <th>Wasit</th>\n",
       "      <th>Muthnna</th>\n",
       "      <th>Thi-Qar</th>\n",
       "      <th>Mesan</th>\n",
       "      <th>Basrah</th>\n",
       "      <th>total</th>\n",
       "    </tr>\n",
       "  </thead>\n",
       "  <tbody>\n",
       "    <tr>\n",
       "      <th>0</th>\n",
       "      <td>1</td>\n",
       "      <td>3294</td>\n",
       "      <td>1243</td>\n",
       "      <td>757</td>\n",
       "      <td>488</td>\n",
       "      <td>471</td>\n",
       "      <td>598</td>\n",
       "      <td>525</td>\n",
       "      <td>514</td>\n",
       "      <td>474</td>\n",
       "      <td>307</td>\n",
       "      <td>404</td>\n",
       "      <td>208</td>\n",
       "      <td>573</td>\n",
       "      <td>369</td>\n",
       "      <td>1254</td>\n",
       "      <td>11480</td>\n",
       "    </tr>\n",
       "    <tr>\n",
       "      <th>1</th>\n",
       "      <td>2</td>\n",
       "      <td>2973</td>\n",
       "      <td>1151</td>\n",
       "      <td>753</td>\n",
       "      <td>477</td>\n",
       "      <td>436</td>\n",
       "      <td>570</td>\n",
       "      <td>500</td>\n",
       "      <td>469</td>\n",
       "      <td>437</td>\n",
       "      <td>284</td>\n",
       "      <td>374</td>\n",
       "      <td>193</td>\n",
       "      <td>536</td>\n",
       "      <td>342</td>\n",
       "      <td>1100</td>\n",
       "      <td>10597</td>\n",
       "    </tr>\n",
       "    <tr>\n",
       "      <th>2</th>\n",
       "      <td>3</td>\n",
       "      <td>2758</td>\n",
       "      <td>1105</td>\n",
       "      <td>727</td>\n",
       "      <td>471</td>\n",
       "      <td>419</td>\n",
       "      <td>604</td>\n",
       "      <td>478</td>\n",
       "      <td>430</td>\n",
       "      <td>420</td>\n",
       "      <td>273</td>\n",
       "      <td>359</td>\n",
       "      <td>185</td>\n",
       "      <td>519</td>\n",
       "      <td>328</td>\n",
       "      <td>1056</td>\n",
       "      <td>10135</td>\n",
       "    </tr>\n",
       "    <tr>\n",
       "      <th>3</th>\n",
       "      <td>4</td>\n",
       "      <td>2703</td>\n",
       "      <td>1220</td>\n",
       "      <td>717</td>\n",
       "      <td>470</td>\n",
       "      <td>463</td>\n",
       "      <td>564</td>\n",
       "      <td>497</td>\n",
       "      <td>465</td>\n",
       "      <td>451</td>\n",
       "      <td>301</td>\n",
       "      <td>397</td>\n",
       "      <td>204</td>\n",
       "      <td>522</td>\n",
       "      <td>363</td>\n",
       "      <td>1100</td>\n",
       "      <td>10441</td>\n",
       "    </tr>\n",
       "    <tr>\n",
       "      <th>4</th>\n",
       "      <td>5</td>\n",
       "      <td>2954</td>\n",
       "      <td>1358</td>\n",
       "      <td>751</td>\n",
       "      <td>519</td>\n",
       "      <td>515</td>\n",
       "      <td>626</td>\n",
       "      <td>553</td>\n",
       "      <td>517</td>\n",
       "      <td>502</td>\n",
       "      <td>335</td>\n",
       "      <td>442</td>\n",
       "      <td>228</td>\n",
       "      <td>574</td>\n",
       "      <td>404</td>\n",
       "      <td>1298</td>\n",
       "      <td>11581</td>\n",
       "    </tr>\n",
       "  </tbody>\n",
       "</table>\n",
       "</div>"
      ],
      "text/plain": [
       "   Hours  Baghdad  Nynwa  Kirkuk  Slah El-Din  Anbar  Dyala  Babil  Kerb.  \\\n",
       "0      1     3294   1243     757          488    471    598    525    514   \n",
       "1      2     2973   1151     753          477    436    570    500    469   \n",
       "2      3     2758   1105     727          471    419    604    478    430   \n",
       "3      4     2703   1220     717          470    463    564    497    465   \n",
       "4      5     2954   1358     751          519    515    626    553    517   \n",
       "\n",
       "   Najaf  Dywan.  Wasit  Muthnna  Thi-Qar  Mesan  Basrah  total  \n",
       "0    474     307    404      208      573    369    1254  11480  \n",
       "1    437     284    374      193      536    342    1100  10597  \n",
       "2    420     273    359      185      519    328    1056  10135  \n",
       "3    451     301    397      204      522    363    1100  10441  \n",
       "4    502     335    442      228      574    404    1298  11581  "
      ]
     },
     "execution_count": 10,
     "metadata": {},
     "output_type": "execute_result"
    }
   ],
   "source": [
    "print(datosDemanda)\n",
    "datosDemanda.head()"
   ]
  },
  {
   "cell_type": "code",
   "execution_count": 24,
   "id": "a10a407d",
   "metadata": {},
   "outputs": [],
   "source": [
    "df1 = datosDemanda[[\"Hours\", \"total\"]]"
   ]
  },
  {
   "cell_type": "code",
   "execution_count": 25,
   "id": "910fc197",
   "metadata": {},
   "outputs": [],
   "source": [
    "df_grouped = df1.groupby(df1[\"Hours\"]//24).sum()"
   ]
  },
  {
   "cell_type": "code",
   "execution_count": 26,
   "id": "06164ed6",
   "metadata": {},
   "outputs": [
    {
     "name": "stdout",
     "output_type": "stream",
     "text": [
      "        Hours      total\n",
      "Hours                   \n",
      "0      303048  443929019\n",
      "1       26352   18659914\n"
     ]
    }
   ],
   "source": [
    "print(df_grouped)"
   ]
  },
  {
   "cell_type": "code",
   "execution_count": 19,
   "id": "3f88d131",
   "metadata": {},
   "outputs": [],
   "source": [
    "days = pd.date_range(start='1/1/2019', periods=len(df_grouped), freq='D')"
   ]
  },
  {
   "cell_type": "code",
   "execution_count": 20,
   "id": "5afc0639",
   "metadata": {},
   "outputs": [],
   "source": [
    "df_grouped['fecha'] = days"
   ]
  },
  {
   "cell_type": "code",
   "execution_count": 21,
   "id": "e2c23fed",
   "metadata": {},
   "outputs": [
    {
     "name": "stdout",
     "output_type": "stream",
     "text": [
      "        Hours      total      fecha\n",
      "Hours                              \n",
      "0      303048  887858038 2019-01-01\n",
      "1       26352   37319828 2019-01-02\n"
     ]
    }
   ],
   "source": [
    "print(df_grouped)"
   ]
  },
  {
   "cell_type": "code",
   "execution_count": null,
   "id": "b0bb8d44",
   "metadata": {},
   "outputs": [],
   "source": []
  }
 ],
 "metadata": {
  "kernelspec": {
   "display_name": "Python 3 (ipykernel)",
   "language": "python",
   "name": "python3"
  },
  "language_info": {
   "codemirror_mode": {
    "name": "ipython",
    "version": 3
   },
   "file_extension": ".py",
   "mimetype": "text/x-python",
   "name": "python",
   "nbconvert_exporter": "python",
   "pygments_lexer": "ipython3",
   "version": "3.9.13"
  }
 },
 "nbformat": 4,
 "nbformat_minor": 5
}
