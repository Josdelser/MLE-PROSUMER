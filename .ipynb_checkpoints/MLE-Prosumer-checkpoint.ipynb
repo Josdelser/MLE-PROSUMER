{
 "cells": [
  {
   "cell_type": "code",
   "execution_count": 136,
   "id": "4be6cb07",
   "metadata": {},
   "outputs": [],
   "source": [
    "import pandas as pd\n",
    "import numpy as np\n",
    "import datetime\n",
    "import seaborn as sns\n",
    "import matplotlib.pyplot as plt\n",
    "sns.set()\n",
    "from sklearn.preprocessing import MinMaxScaler\n",
    "from keras.models import Sequential\n",
    "from keras.layers import Dense\n",
    "from keras.layers import LSTM\n",
    "from sklearn.metrics import accuracy_score\n",
    "from statsmodels.tsa.stattools import adfuller\n",
    "from statsmodels.tsa.arima.model import ARIMA\n",
    "from pmdarima import auto_arima\n",
    "from sklearn.metrics import mean_squared_error\n",
    "from statsmodels.tsa.statespace.sarimax import SARIMAX\n",
    "import statsmodels.api as sm\n",
    "import warnings\n",
    "warnings.filterwarnings(\"ignore\")\n",
    "np.random.seed(1)"
   ]
  },
  {
   "cell_type": "markdown",
   "id": "9dc5c512",
   "metadata": {},
   "source": [
    "# Importante"
   ]
  },
  {
   "cell_type": "markdown",
   "id": "82702c54",
   "metadata": {},
   "source": [
    "Para las redes neuronales estamos usandos Keras, el cual requiere de tensorflow en el back para poder usarse. Antes de correr ciertos algoritmos se deberá tener configurado el entorno.\n",
    "\n",
    "Tambien hay que instalar pmdarima --> pip install pmdarima\n"
   ]
  },
  {
   "cell_type": "markdown",
   "id": "2289920a",
   "metadata": {},
   "source": [
    "Primero leemos los dataset por separado. Luego pasamos a dividir el problema en 5 partes: La primera y segunda será sobre la demanda donde se estudiará el consumo total del pais por horas y luego por dias, la tercera y cuarta lo mismo pero con los datos de produccion y la quitan será buscar relacion entre la demanda y la produccion incluyendo eventos que afecten a estos datos"
   ]
  },
  {
   "cell_type": "code",
   "execution_count": 137,
   "id": "70690a9e",
   "metadata": {},
   "outputs": [],
   "source": [
    "datosDemandaBruto = pd.read_csv(\"Demand13.csv\")\n",
    "datosProduccionBruto = pd.read_csv(\"Supply13.csv\")"
   ]
  },
  {
   "cell_type": "code",
   "execution_count": 138,
   "id": "063efde1",
   "metadata": {},
   "outputs": [
    {
     "name": "stdout",
     "output_type": "stream",
     "text": [
      "       Hours  Baghdad  Nynwa  Kirkuk  Slah El-Din  Anbar  Dyala  Babil  Kerb.  \\\n",
      "0          1     3294   1243     757          488    471    598    525    514   \n",
      "1          2     2973   1151     753          477    436    570    500    469   \n",
      "2          3     2758   1105     727          471    419    604    478    430   \n",
      "3          4     2703   1220     717          470    463    564    497    465   \n",
      "4          5     2954   1358     751          519    515    626    553    517   \n",
      "...      ...      ...    ...     ...          ...    ...    ...    ...    ...   \n",
      "26347     20     4894   1906    1206         1008    912   1112   1112    914   \n",
      "26348     21     4550   1798    1158          928    862   1047   1027    869   \n",
      "26349     22     4326   1683    1091          868    818   1001    972    807   \n",
      "26350     23     4090   1567     988          819    782    935    892    780   \n",
      "26351     24     3954   1465     942          780    750    879    838    728   \n",
      "\n",
      "       Najaf  Dywan.  Wasit  Muthnna  Thi-Qar  Mesan  Basrah  \n",
      "0        474     307    404      208      573    369    1254  \n",
      "1        437     284    374      193      536    342    1100  \n",
      "2        420     273    359      185      519    328    1056  \n",
      "3        451     301    397      204      522    363    1100  \n",
      "4        502     335    442      228      574    404    1298  \n",
      "...      ...     ...    ...      ...      ...    ...     ...  \n",
      "26347    885     683    885      390     1092    701    2025  \n",
      "26348    811     634    831      353      985    640    1883  \n",
      "26349    751     603    767      327      914    586    1809  \n",
      "26350    702     564    737      314      842    533    1675  \n",
      "26351    656     541    719      301      799    495    1494  \n",
      "\n",
      "[26352 rows x 16 columns]\n"
     ]
    },
    {
     "data": {
      "text/html": [
       "<div>\n",
       "<style scoped>\n",
       "    .dataframe tbody tr th:only-of-type {\n",
       "        vertical-align: middle;\n",
       "    }\n",
       "\n",
       "    .dataframe tbody tr th {\n",
       "        vertical-align: top;\n",
       "    }\n",
       "\n",
       "    .dataframe thead th {\n",
       "        text-align: right;\n",
       "    }\n",
       "</style>\n",
       "<table border=\"1\" class=\"dataframe\">\n",
       "  <thead>\n",
       "    <tr style=\"text-align: right;\">\n",
       "      <th></th>\n",
       "      <th>Hours</th>\n",
       "      <th>Baghdad</th>\n",
       "      <th>Nynwa</th>\n",
       "      <th>Kirkuk</th>\n",
       "      <th>Slah El-Din</th>\n",
       "      <th>Anbar</th>\n",
       "      <th>Dyala</th>\n",
       "      <th>Babil</th>\n",
       "      <th>Kerb.</th>\n",
       "      <th>Najaf</th>\n",
       "      <th>Dywan.</th>\n",
       "      <th>Wasit</th>\n",
       "      <th>Muthnna</th>\n",
       "      <th>Thi-Qar</th>\n",
       "      <th>Mesan</th>\n",
       "      <th>Basrah</th>\n",
       "    </tr>\n",
       "  </thead>\n",
       "  <tbody>\n",
       "    <tr>\n",
       "      <th>0</th>\n",
       "      <td>1</td>\n",
       "      <td>3294</td>\n",
       "      <td>1243</td>\n",
       "      <td>757</td>\n",
       "      <td>488</td>\n",
       "      <td>471</td>\n",
       "      <td>598</td>\n",
       "      <td>525</td>\n",
       "      <td>514</td>\n",
       "      <td>474</td>\n",
       "      <td>307</td>\n",
       "      <td>404</td>\n",
       "      <td>208</td>\n",
       "      <td>573</td>\n",
       "      <td>369</td>\n",
       "      <td>1254</td>\n",
       "    </tr>\n",
       "    <tr>\n",
       "      <th>1</th>\n",
       "      <td>2</td>\n",
       "      <td>2973</td>\n",
       "      <td>1151</td>\n",
       "      <td>753</td>\n",
       "      <td>477</td>\n",
       "      <td>436</td>\n",
       "      <td>570</td>\n",
       "      <td>500</td>\n",
       "      <td>469</td>\n",
       "      <td>437</td>\n",
       "      <td>284</td>\n",
       "      <td>374</td>\n",
       "      <td>193</td>\n",
       "      <td>536</td>\n",
       "      <td>342</td>\n",
       "      <td>1100</td>\n",
       "    </tr>\n",
       "    <tr>\n",
       "      <th>2</th>\n",
       "      <td>3</td>\n",
       "      <td>2758</td>\n",
       "      <td>1105</td>\n",
       "      <td>727</td>\n",
       "      <td>471</td>\n",
       "      <td>419</td>\n",
       "      <td>604</td>\n",
       "      <td>478</td>\n",
       "      <td>430</td>\n",
       "      <td>420</td>\n",
       "      <td>273</td>\n",
       "      <td>359</td>\n",
       "      <td>185</td>\n",
       "      <td>519</td>\n",
       "      <td>328</td>\n",
       "      <td>1056</td>\n",
       "    </tr>\n",
       "    <tr>\n",
       "      <th>3</th>\n",
       "      <td>4</td>\n",
       "      <td>2703</td>\n",
       "      <td>1220</td>\n",
       "      <td>717</td>\n",
       "      <td>470</td>\n",
       "      <td>463</td>\n",
       "      <td>564</td>\n",
       "      <td>497</td>\n",
       "      <td>465</td>\n",
       "      <td>451</td>\n",
       "      <td>301</td>\n",
       "      <td>397</td>\n",
       "      <td>204</td>\n",
       "      <td>522</td>\n",
       "      <td>363</td>\n",
       "      <td>1100</td>\n",
       "    </tr>\n",
       "    <tr>\n",
       "      <th>4</th>\n",
       "      <td>5</td>\n",
       "      <td>2954</td>\n",
       "      <td>1358</td>\n",
       "      <td>751</td>\n",
       "      <td>519</td>\n",
       "      <td>515</td>\n",
       "      <td>626</td>\n",
       "      <td>553</td>\n",
       "      <td>517</td>\n",
       "      <td>502</td>\n",
       "      <td>335</td>\n",
       "      <td>442</td>\n",
       "      <td>228</td>\n",
       "      <td>574</td>\n",
       "      <td>404</td>\n",
       "      <td>1298</td>\n",
       "    </tr>\n",
       "  </tbody>\n",
       "</table>\n",
       "</div>"
      ],
      "text/plain": [
       "   Hours  Baghdad  Nynwa  Kirkuk  Slah El-Din  Anbar  Dyala  Babil  Kerb.  \\\n",
       "0      1     3294   1243     757          488    471    598    525    514   \n",
       "1      2     2973   1151     753          477    436    570    500    469   \n",
       "2      3     2758   1105     727          471    419    604    478    430   \n",
       "3      4     2703   1220     717          470    463    564    497    465   \n",
       "4      5     2954   1358     751          519    515    626    553    517   \n",
       "\n",
       "   Najaf  Dywan.  Wasit  Muthnna  Thi-Qar  Mesan  Basrah  \n",
       "0    474     307    404      208      573    369    1254  \n",
       "1    437     284    374      193      536    342    1100  \n",
       "2    420     273    359      185      519    328    1056  \n",
       "3    451     301    397      204      522    363    1100  \n",
       "4    502     335    442      228      574    404    1298  "
      ]
     },
     "execution_count": 138,
     "metadata": {},
     "output_type": "execute_result"
    }
   ],
   "source": [
    "print(datosDemandaBruto)\n",
    "datosDemandaBruto.head()"
   ]
  },
  {
   "cell_type": "code",
   "execution_count": 139,
   "id": "b32754da",
   "metadata": {},
   "outputs": [
    {
     "name": "stdout",
     "output_type": "stream",
     "text": [
      "       Hours  Bagh.  Nynwa  Kirkuk  Slah El-Din  Anbar  Dyala  Babil  Kerb.  \\\n",
      "0          1   3294    740     668          488    394    598    525    514   \n",
      "1          2   2973    751     753          477    387    570    500    469   \n",
      "2          3   2758    760     727          471    374    604    478    430   \n",
      "3          4   2703    759     717          470    365    546    490    433   \n",
      "4          5   2794    727     751          470    374    578    539    472   \n",
      "...      ...    ...    ...     ...          ...    ...    ...    ...    ...   \n",
      "26347     20   3364    765     762          418    421    587    648    608   \n",
      "26348     21   3437    748     751          412    418    617    678    638   \n",
      "26349     22   3368    761     751          420    411    603    719    689   \n",
      "26350     23   3373    801     782          424    406    614    663    681   \n",
      "26351     24   3169    853     759          422    404    604    568    593   \n",
      "\n",
      "       Najaf  Dywan.  Wasit  Muthnna  Thi-Qar  Mesan  Basrah  \n",
      "0        474     246    397      185      573    294    1104  \n",
      "1        437     223    362      177      536    269    1030  \n",
      "2        420     210    347      169      519    229     956  \n",
      "3        420     202    350      172      522    232     953  \n",
      "4        449     246    389      191      574    275    1003  \n",
      "...      ...     ...    ...      ...      ...    ...     ...  \n",
      "26347    581     470    661      327      866    585    1691  \n",
      "26348    605     489    612      302      825    527    1580  \n",
      "26349    631     453    565      277      766    456    1450  \n",
      "26350    620     387    496      250      690    327    1288  \n",
      "26351    569     317    433      222      610    297    1180  \n",
      "\n",
      "[26352 rows x 16 columns]\n"
     ]
    },
    {
     "data": {
      "text/html": [
       "<div>\n",
       "<style scoped>\n",
       "    .dataframe tbody tr th:only-of-type {\n",
       "        vertical-align: middle;\n",
       "    }\n",
       "\n",
       "    .dataframe tbody tr th {\n",
       "        vertical-align: top;\n",
       "    }\n",
       "\n",
       "    .dataframe thead th {\n",
       "        text-align: right;\n",
       "    }\n",
       "</style>\n",
       "<table border=\"1\" class=\"dataframe\">\n",
       "  <thead>\n",
       "    <tr style=\"text-align: right;\">\n",
       "      <th></th>\n",
       "      <th>Hours</th>\n",
       "      <th>Bagh.</th>\n",
       "      <th>Nynwa</th>\n",
       "      <th>Kirkuk</th>\n",
       "      <th>Slah El-Din</th>\n",
       "      <th>Anbar</th>\n",
       "      <th>Dyala</th>\n",
       "      <th>Babil</th>\n",
       "      <th>Kerb.</th>\n",
       "      <th>Najaf</th>\n",
       "      <th>Dywan.</th>\n",
       "      <th>Wasit</th>\n",
       "      <th>Muthnna</th>\n",
       "      <th>Thi-Qar</th>\n",
       "      <th>Mesan</th>\n",
       "      <th>Basrah</th>\n",
       "    </tr>\n",
       "  </thead>\n",
       "  <tbody>\n",
       "    <tr>\n",
       "      <th>0</th>\n",
       "      <td>1</td>\n",
       "      <td>3294</td>\n",
       "      <td>740</td>\n",
       "      <td>668</td>\n",
       "      <td>488</td>\n",
       "      <td>394</td>\n",
       "      <td>598</td>\n",
       "      <td>525</td>\n",
       "      <td>514</td>\n",
       "      <td>474</td>\n",
       "      <td>246</td>\n",
       "      <td>397</td>\n",
       "      <td>185</td>\n",
       "      <td>573</td>\n",
       "      <td>294</td>\n",
       "      <td>1104</td>\n",
       "    </tr>\n",
       "    <tr>\n",
       "      <th>1</th>\n",
       "      <td>2</td>\n",
       "      <td>2973</td>\n",
       "      <td>751</td>\n",
       "      <td>753</td>\n",
       "      <td>477</td>\n",
       "      <td>387</td>\n",
       "      <td>570</td>\n",
       "      <td>500</td>\n",
       "      <td>469</td>\n",
       "      <td>437</td>\n",
       "      <td>223</td>\n",
       "      <td>362</td>\n",
       "      <td>177</td>\n",
       "      <td>536</td>\n",
       "      <td>269</td>\n",
       "      <td>1030</td>\n",
       "    </tr>\n",
       "    <tr>\n",
       "      <th>2</th>\n",
       "      <td>3</td>\n",
       "      <td>2758</td>\n",
       "      <td>760</td>\n",
       "      <td>727</td>\n",
       "      <td>471</td>\n",
       "      <td>374</td>\n",
       "      <td>604</td>\n",
       "      <td>478</td>\n",
       "      <td>430</td>\n",
       "      <td>420</td>\n",
       "      <td>210</td>\n",
       "      <td>347</td>\n",
       "      <td>169</td>\n",
       "      <td>519</td>\n",
       "      <td>229</td>\n",
       "      <td>956</td>\n",
       "    </tr>\n",
       "    <tr>\n",
       "      <th>3</th>\n",
       "      <td>4</td>\n",
       "      <td>2703</td>\n",
       "      <td>759</td>\n",
       "      <td>717</td>\n",
       "      <td>470</td>\n",
       "      <td>365</td>\n",
       "      <td>546</td>\n",
       "      <td>490</td>\n",
       "      <td>433</td>\n",
       "      <td>420</td>\n",
       "      <td>202</td>\n",
       "      <td>350</td>\n",
       "      <td>172</td>\n",
       "      <td>522</td>\n",
       "      <td>232</td>\n",
       "      <td>953</td>\n",
       "    </tr>\n",
       "    <tr>\n",
       "      <th>4</th>\n",
       "      <td>5</td>\n",
       "      <td>2794</td>\n",
       "      <td>727</td>\n",
       "      <td>751</td>\n",
       "      <td>470</td>\n",
       "      <td>374</td>\n",
       "      <td>578</td>\n",
       "      <td>539</td>\n",
       "      <td>472</td>\n",
       "      <td>449</td>\n",
       "      <td>246</td>\n",
       "      <td>389</td>\n",
       "      <td>191</td>\n",
       "      <td>574</td>\n",
       "      <td>275</td>\n",
       "      <td>1003</td>\n",
       "    </tr>\n",
       "  </tbody>\n",
       "</table>\n",
       "</div>"
      ],
      "text/plain": [
       "   Hours  Bagh.  Nynwa  Kirkuk  Slah El-Din  Anbar  Dyala  Babil  Kerb.  \\\n",
       "0      1   3294    740     668          488    394    598    525    514   \n",
       "1      2   2973    751     753          477    387    570    500    469   \n",
       "2      3   2758    760     727          471    374    604    478    430   \n",
       "3      4   2703    759     717          470    365    546    490    433   \n",
       "4      5   2794    727     751          470    374    578    539    472   \n",
       "\n",
       "   Najaf  Dywan.  Wasit  Muthnna  Thi-Qar  Mesan  Basrah  \n",
       "0    474     246    397      185      573    294    1104  \n",
       "1    437     223    362      177      536    269    1030  \n",
       "2    420     210    347      169      519    229     956  \n",
       "3    420     202    350      172      522    232     953  \n",
       "4    449     246    389      191      574    275    1003  "
      ]
     },
     "execution_count": 139,
     "metadata": {},
     "output_type": "execute_result"
    }
   ],
   "source": [
    "print(datosProduccionBruto)\n",
    "datosProduccionBruto.head()"
   ]
  },
  {
   "cell_type": "markdown",
   "id": "a5d2a49e",
   "metadata": {},
   "source": [
    "Para el total de horas sumaremos el valor de todas las columna, ya que cada columna representa el valor de cada provincia, creando una nueva columna con esto mismo. PODEMOS CREAR OTRO DATASET O DEJARLO AQUI Y VER QUE PROVINCIA ES LA QUE MAS AFECTA A ESTOS DATOS."
   ]
  },
  {
   "cell_type": "code",
   "execution_count": 140,
   "id": "6bde4e90",
   "metadata": {},
   "outputs": [],
   "source": [
    "datosDemandaTotalHoras = pd.DataFrame()\n",
    "datosProduccionTotalHoras = pd.DataFrame()"
   ]
  },
  {
   "cell_type": "code",
   "execution_count": 141,
   "id": "51d15e55",
   "metadata": {},
   "outputs": [],
   "source": [
    "datosDemandaTotalHoras[\"total\"] = datosDemandaBruto.iloc[:, 1:].sum(axis=1)\n",
    "datosProduccionTotalHoras[\"total\"] = datosProduccionBruto.iloc[:, 1:].sum(axis=1)"
   ]
  },
  {
   "cell_type": "code",
   "execution_count": 142,
   "id": "27759597",
   "metadata": {},
   "outputs": [],
   "source": [
    "datosDemandaTotalHoras[\"Hours\"] = datosDemandaBruto[\"Hours\"]\n",
    "datosProduccionTotalHoras[\"Hours\"] = datosProduccionBruto[\"Hours\"]"
   ]
  },
  {
   "cell_type": "code",
   "execution_count": 143,
   "id": "adc47800",
   "metadata": {},
   "outputs": [],
   "source": [
    "datosDemandaTotalSinHoras = pd.DataFrame()\n",
    "datosProduccionTotalSinHoras = pd.DataFrame()"
   ]
  },
  {
   "cell_type": "code",
   "execution_count": 144,
   "id": "fd5ec50e",
   "metadata": {},
   "outputs": [],
   "source": [
    "datosDemandaTotalSinHoras[\"total\"] = datosDemandaBruto.iloc[:, 1:].sum(axis=1)\n",
    "datosProduccionTotalSinHoras[\"total\"] = datosProduccionBruto.iloc[:, 1:].sum(axis=1)"
   ]
  },
  {
   "cell_type": "code",
   "execution_count": 145,
   "id": "1d035f16",
   "metadata": {},
   "outputs": [
    {
     "data": {
      "text/html": [
       "<div>\n",
       "<style scoped>\n",
       "    .dataframe tbody tr th:only-of-type {\n",
       "        vertical-align: middle;\n",
       "    }\n",
       "\n",
       "    .dataframe tbody tr th {\n",
       "        vertical-align: top;\n",
       "    }\n",
       "\n",
       "    .dataframe thead th {\n",
       "        text-align: right;\n",
       "    }\n",
       "</style>\n",
       "<table border=\"1\" class=\"dataframe\">\n",
       "  <thead>\n",
       "    <tr style=\"text-align: right;\">\n",
       "      <th></th>\n",
       "      <th>total</th>\n",
       "      <th>Hours</th>\n",
       "    </tr>\n",
       "  </thead>\n",
       "  <tbody>\n",
       "    <tr>\n",
       "      <th>0</th>\n",
       "      <td>11479</td>\n",
       "      <td>1</td>\n",
       "    </tr>\n",
       "    <tr>\n",
       "      <th>1</th>\n",
       "      <td>10595</td>\n",
       "      <td>2</td>\n",
       "    </tr>\n",
       "    <tr>\n",
       "      <th>2</th>\n",
       "      <td>10132</td>\n",
       "      <td>3</td>\n",
       "    </tr>\n",
       "    <tr>\n",
       "      <th>3</th>\n",
       "      <td>10437</td>\n",
       "      <td>4</td>\n",
       "    </tr>\n",
       "    <tr>\n",
       "      <th>4</th>\n",
       "      <td>11576</td>\n",
       "      <td>5</td>\n",
       "    </tr>\n",
       "  </tbody>\n",
       "</table>\n",
       "</div>"
      ],
      "text/plain": [
       "   total  Hours\n",
       "0  11479      1\n",
       "1  10595      2\n",
       "2  10132      3\n",
       "3  10437      4\n",
       "4  11576      5"
      ]
     },
     "execution_count": 145,
     "metadata": {},
     "output_type": "execute_result"
    }
   ],
   "source": [
    "datosDemandaTotalHoras.head()\n"
   ]
  },
  {
   "cell_type": "code",
   "execution_count": 146,
   "id": "1de599e2",
   "metadata": {},
   "outputs": [
    {
     "data": {
      "text/html": [
       "<div>\n",
       "<style scoped>\n",
       "    .dataframe tbody tr th:only-of-type {\n",
       "        vertical-align: middle;\n",
       "    }\n",
       "\n",
       "    .dataframe tbody tr th {\n",
       "        vertical-align: top;\n",
       "    }\n",
       "\n",
       "    .dataframe thead th {\n",
       "        text-align: right;\n",
       "    }\n",
       "</style>\n",
       "<table border=\"1\" class=\"dataframe\">\n",
       "  <thead>\n",
       "    <tr style=\"text-align: right;\">\n",
       "      <th></th>\n",
       "      <th>total</th>\n",
       "    </tr>\n",
       "  </thead>\n",
       "  <tbody>\n",
       "    <tr>\n",
       "      <th>0</th>\n",
       "      <td>11479</td>\n",
       "    </tr>\n",
       "    <tr>\n",
       "      <th>1</th>\n",
       "      <td>10595</td>\n",
       "    </tr>\n",
       "    <tr>\n",
       "      <th>2</th>\n",
       "      <td>10132</td>\n",
       "    </tr>\n",
       "    <tr>\n",
       "      <th>3</th>\n",
       "      <td>10437</td>\n",
       "    </tr>\n",
       "    <tr>\n",
       "      <th>4</th>\n",
       "      <td>11576</td>\n",
       "    </tr>\n",
       "  </tbody>\n",
       "</table>\n",
       "</div>"
      ],
      "text/plain": [
       "   total\n",
       "0  11479\n",
       "1  10595\n",
       "2  10132\n",
       "3  10437\n",
       "4  11576"
      ]
     },
     "execution_count": 146,
     "metadata": {},
     "output_type": "execute_result"
    }
   ],
   "source": [
    "datosDemandaTotalSinHoras.head()"
   ]
  },
  {
   "cell_type": "markdown",
   "id": "c18e8d9d",
   "metadata": {},
   "source": [
    "Ahora partimos de un nuevo dataset el cual tiene una columna con las demanda/produccion por horas, es decir cada fila es una hora y cada 24 filas es un día. Una vez tenemos estos dos dataset, vamos a pasar estas horas a dias para tener los otros dos dataset faltantes."
   ]
  },
  {
   "cell_type": "code",
   "execution_count": 147,
   "id": "28935f02",
   "metadata": {},
   "outputs": [],
   "source": [
    "suma_24_demanda = []\n",
    "suma_24_produccion = []"
   ]
  },
  {
   "cell_type": "code",
   "execution_count": 148,
   "id": "bd31d318",
   "metadata": {},
   "outputs": [],
   "source": [
    "for i in range(0, len(datosDemandaTotalSinHoras), 24):\n",
    "    end = i + 24\n",
    "    if end > len(datosDemandaTotalSinHoras):\n",
    "        end = len(datosDemandaTotalSinHoras)\n",
    "    suma_24_demanda.append(datosDemandaTotalSinHoras[i:end].sum(axis=0).sum())"
   ]
  },
  {
   "cell_type": "code",
   "execution_count": 149,
   "id": "f3a33be9",
   "metadata": {},
   "outputs": [],
   "source": [
    "for i in range(0, len(datosProduccionTotalSinHoras), 24):\n",
    "    end = i + 24\n",
    "    if end > len(datosProduccionTotalSinHoras):\n",
    "        end = len(datosProduccionTotalSinHoras)\n",
    "    suma_24_produccion.append(datosProduccionTotalSinHoras[i:end].sum(axis=0).sum())"
   ]
  },
  {
   "cell_type": "code",
   "execution_count": 150,
   "id": "0e37a9d5",
   "metadata": {},
   "outputs": [],
   "source": [
    "datosDemandaTotalDias = pd.DataFrame({'Total': suma_24_demanda})\n",
    "datosProduccionTotalDias = pd.DataFrame({'Total': suma_24_produccion})"
   ]
  },
  {
   "cell_type": "code",
   "execution_count": 151,
   "id": "59b07e5d",
   "metadata": {},
   "outputs": [],
   "source": [
    "diasDemanda = pd.date_range(start='2019-01-01', periods=len(suma_24_demanda), freq='D')\n",
    "diasProduccion = pd.date_range(start='2019-01-01', periods=len(suma_24_produccion), freq='D')"
   ]
  },
  {
   "cell_type": "code",
   "execution_count": 152,
   "id": "6e7124b1",
   "metadata": {},
   "outputs": [],
   "source": [
    "datosDemandaTotalDias[\"fecha\"] = diasDemanda\n",
    "datosProduccionTotalDias[\"fecha\"] = diasProduccion"
   ]
  },
  {
   "cell_type": "markdown",
   "id": "7d26d624",
   "metadata": {},
   "source": [
    "Despues de hacer todas estas transformaciones ya tenemos los 4 dataset que queremos: datosDemandaTotalHoras/datosProduccionTotalHoras los cuales tiene la produccion total por ahora y datosDemandaTotalDias/datosProduccionTotalDias los cuales tienen la produccion por dias"
   ]
  },
  {
   "cell_type": "code",
   "execution_count": 153,
   "id": "b6ebc2b1",
   "metadata": {},
   "outputs": [
    {
     "data": {
      "text/html": [
       "<div>\n",
       "<style scoped>\n",
       "    .dataframe tbody tr th:only-of-type {\n",
       "        vertical-align: middle;\n",
       "    }\n",
       "\n",
       "    .dataframe tbody tr th {\n",
       "        vertical-align: top;\n",
       "    }\n",
       "\n",
       "    .dataframe thead th {\n",
       "        text-align: right;\n",
       "    }\n",
       "</style>\n",
       "<table border=\"1\" class=\"dataframe\">\n",
       "  <thead>\n",
       "    <tr style=\"text-align: right;\">\n",
       "      <th></th>\n",
       "      <th>total</th>\n",
       "      <th>Hours</th>\n",
       "    </tr>\n",
       "  </thead>\n",
       "  <tbody>\n",
       "    <tr>\n",
       "      <th>0</th>\n",
       "      <td>11479</td>\n",
       "      <td>1</td>\n",
       "    </tr>\n",
       "    <tr>\n",
       "      <th>1</th>\n",
       "      <td>10595</td>\n",
       "      <td>2</td>\n",
       "    </tr>\n",
       "    <tr>\n",
       "      <th>2</th>\n",
       "      <td>10132</td>\n",
       "      <td>3</td>\n",
       "    </tr>\n",
       "    <tr>\n",
       "      <th>3</th>\n",
       "      <td>10437</td>\n",
       "      <td>4</td>\n",
       "    </tr>\n",
       "    <tr>\n",
       "      <th>4</th>\n",
       "      <td>11576</td>\n",
       "      <td>5</td>\n",
       "    </tr>\n",
       "  </tbody>\n",
       "</table>\n",
       "</div>"
      ],
      "text/plain": [
       "   total  Hours\n",
       "0  11479      1\n",
       "1  10595      2\n",
       "2  10132      3\n",
       "3  10437      4\n",
       "4  11576      5"
      ]
     },
     "execution_count": 153,
     "metadata": {},
     "output_type": "execute_result"
    }
   ],
   "source": [
    "datosDemandaTotalHoras.head()\n"
   ]
  },
  {
   "cell_type": "code",
   "execution_count": 154,
   "id": "867da621",
   "metadata": {},
   "outputs": [
    {
     "data": {
      "text/html": [
       "<div>\n",
       "<style scoped>\n",
       "    .dataframe tbody tr th:only-of-type {\n",
       "        vertical-align: middle;\n",
       "    }\n",
       "\n",
       "    .dataframe tbody tr th {\n",
       "        vertical-align: top;\n",
       "    }\n",
       "\n",
       "    .dataframe thead th {\n",
       "        text-align: right;\n",
       "    }\n",
       "</style>\n",
       "<table border=\"1\" class=\"dataframe\">\n",
       "  <thead>\n",
       "    <tr style=\"text-align: right;\">\n",
       "      <th></th>\n",
       "      <th>total</th>\n",
       "      <th>Hours</th>\n",
       "    </tr>\n",
       "  </thead>\n",
       "  <tbody>\n",
       "    <tr>\n",
       "      <th>0</th>\n",
       "      <td>10494</td>\n",
       "      <td>1</td>\n",
       "    </tr>\n",
       "    <tr>\n",
       "      <th>1</th>\n",
       "      <td>9914</td>\n",
       "      <td>2</td>\n",
       "    </tr>\n",
       "    <tr>\n",
       "      <th>2</th>\n",
       "      <td>9452</td>\n",
       "      <td>3</td>\n",
       "    </tr>\n",
       "    <tr>\n",
       "      <th>3</th>\n",
       "      <td>9334</td>\n",
       "      <td>4</td>\n",
       "    </tr>\n",
       "    <tr>\n",
       "      <th>4</th>\n",
       "      <td>9832</td>\n",
       "      <td>5</td>\n",
       "    </tr>\n",
       "  </tbody>\n",
       "</table>\n",
       "</div>"
      ],
      "text/plain": [
       "   total  Hours\n",
       "0  10494      1\n",
       "1   9914      2\n",
       "2   9452      3\n",
       "3   9334      4\n",
       "4   9832      5"
      ]
     },
     "execution_count": 154,
     "metadata": {},
     "output_type": "execute_result"
    }
   ],
   "source": [
    "datosProduccionTotalHoras.head()"
   ]
  },
  {
   "cell_type": "code",
   "execution_count": 155,
   "id": "ff13d765",
   "metadata": {},
   "outputs": [
    {
     "data": {
      "text/html": [
       "<div>\n",
       "<style scoped>\n",
       "    .dataframe tbody tr th:only-of-type {\n",
       "        vertical-align: middle;\n",
       "    }\n",
       "\n",
       "    .dataframe tbody tr th {\n",
       "        vertical-align: top;\n",
       "    }\n",
       "\n",
       "    .dataframe thead th {\n",
       "        text-align: right;\n",
       "    }\n",
       "</style>\n",
       "<table border=\"1\" class=\"dataframe\">\n",
       "  <thead>\n",
       "    <tr style=\"text-align: right;\">\n",
       "      <th></th>\n",
       "      <th>Total</th>\n",
       "      <th>fecha</th>\n",
       "    </tr>\n",
       "  </thead>\n",
       "  <tbody>\n",
       "    <tr>\n",
       "      <th>0</th>\n",
       "      <td>379726</td>\n",
       "      <td>2019-01-01</td>\n",
       "    </tr>\n",
       "    <tr>\n",
       "      <th>1</th>\n",
       "      <td>383590</td>\n",
       "      <td>2019-01-02</td>\n",
       "    </tr>\n",
       "    <tr>\n",
       "      <th>2</th>\n",
       "      <td>378901</td>\n",
       "      <td>2019-01-03</td>\n",
       "    </tr>\n",
       "    <tr>\n",
       "      <th>3</th>\n",
       "      <td>378180</td>\n",
       "      <td>2019-01-04</td>\n",
       "    </tr>\n",
       "    <tr>\n",
       "      <th>4</th>\n",
       "      <td>385805</td>\n",
       "      <td>2019-01-05</td>\n",
       "    </tr>\n",
       "  </tbody>\n",
       "</table>\n",
       "</div>"
      ],
      "text/plain": [
       "    Total      fecha\n",
       "0  379726 2019-01-01\n",
       "1  383590 2019-01-02\n",
       "2  378901 2019-01-03\n",
       "3  378180 2019-01-04\n",
       "4  385805 2019-01-05"
      ]
     },
     "execution_count": 155,
     "metadata": {},
     "output_type": "execute_result"
    }
   ],
   "source": [
    "datosDemandaTotalDias.head()"
   ]
  },
  {
   "cell_type": "code",
   "execution_count": 156,
   "id": "ce430d2b",
   "metadata": {},
   "outputs": [
    {
     "data": {
      "text/html": [
       "<div>\n",
       "<style scoped>\n",
       "    .dataframe tbody tr th:only-of-type {\n",
       "        vertical-align: middle;\n",
       "    }\n",
       "\n",
       "    .dataframe tbody tr th {\n",
       "        vertical-align: top;\n",
       "    }\n",
       "\n",
       "    .dataframe thead th {\n",
       "        text-align: right;\n",
       "    }\n",
       "</style>\n",
       "<table border=\"1\" class=\"dataframe\">\n",
       "  <thead>\n",
       "    <tr style=\"text-align: right;\">\n",
       "      <th></th>\n",
       "      <th>Total</th>\n",
       "      <th>fecha</th>\n",
       "    </tr>\n",
       "  </thead>\n",
       "  <tbody>\n",
       "    <tr>\n",
       "      <th>0</th>\n",
       "      <td>289005</td>\n",
       "      <td>2019-01-01</td>\n",
       "    </tr>\n",
       "    <tr>\n",
       "      <th>1</th>\n",
       "      <td>288843</td>\n",
       "      <td>2019-01-02</td>\n",
       "    </tr>\n",
       "    <tr>\n",
       "      <th>2</th>\n",
       "      <td>283581</td>\n",
       "      <td>2019-01-03</td>\n",
       "    </tr>\n",
       "    <tr>\n",
       "      <th>3</th>\n",
       "      <td>285621</td>\n",
       "      <td>2019-01-04</td>\n",
       "    </tr>\n",
       "    <tr>\n",
       "      <th>4</th>\n",
       "      <td>283991</td>\n",
       "      <td>2019-01-05</td>\n",
       "    </tr>\n",
       "  </tbody>\n",
       "</table>\n",
       "</div>"
      ],
      "text/plain": [
       "    Total      fecha\n",
       "0  289005 2019-01-01\n",
       "1  288843 2019-01-02\n",
       "2  283581 2019-01-03\n",
       "3  285621 2019-01-04\n",
       "4  283991 2019-01-05"
      ]
     },
     "execution_count": 156,
     "metadata": {},
     "output_type": "execute_result"
    }
   ],
   "source": [
    "datosProduccionTotalDias.head()"
   ]
  },
  {
   "cell_type": "markdown",
   "id": "d2abcbda",
   "metadata": {},
   "source": [
    "# Series Temporales\n"
   ]
  },
  {
   "cell_type": "markdown",
   "id": "089e74c8",
   "metadata": {},
   "source": [
    "Ahora vamos a hacer transformaciones de estos dataset para sacar obtener el dataset final el cual tendrá las columnas de demanda y produccion, tambien cambiaremos el indice a la fecha para trabajar con las series temporales"
   ]
  },
  {
   "cell_type": "code",
   "execution_count": 157,
   "id": "9a80bd74",
   "metadata": {},
   "outputs": [],
   "source": [
    "data = pd.merge(datosDemandaTotalDias, datosProduccionTotalDias, on='fecha')"
   ]
  },
  {
   "cell_type": "code",
   "execution_count": 158,
   "id": "66eb2fe1",
   "metadata": {},
   "outputs": [],
   "source": [
    "data = data.rename(columns={'Total_x': 'Demanda','Total_y': 'Produccion'})"
   ]
  },
  {
   "cell_type": "code",
   "execution_count": 159,
   "id": "502462f3",
   "metadata": {},
   "outputs": [],
   "source": [
    "data = data.set_index('fecha')"
   ]
  },
  {
   "cell_type": "code",
   "execution_count": 160,
   "id": "518f14a4",
   "metadata": {},
   "outputs": [],
   "source": [
    "data = data[data.index < pd.to_datetime(\"31-12-2021\")]"
   ]
  },
  {
   "cell_type": "code",
   "execution_count": 161,
   "id": "ec5ecd7a",
   "metadata": {},
   "outputs": [
    {
     "name": "stdout",
     "output_type": "stream",
     "text": [
      "<class 'pandas.core.frame.DataFrame'>\n",
      "DatetimeIndex: 1095 entries, 2019-01-01 to 2021-12-30\n",
      "Data columns (total 2 columns):\n",
      " #   Column      Non-Null Count  Dtype\n",
      "---  ------      --------------  -----\n",
      " 0   Demanda     1095 non-null   int64\n",
      " 1   Produccion  1095 non-null   int64\n",
      "dtypes: int64(2)\n",
      "memory usage: 25.7 KB\n"
     ]
    }
   ],
   "source": [
    "data.info()"
   ]
  },
  {
   "cell_type": "code",
   "execution_count": 162,
   "id": "6bee0aad",
   "metadata": {},
   "outputs": [
    {
     "data": {
      "text/html": [
       "<div>\n",
       "<style scoped>\n",
       "    .dataframe tbody tr th:only-of-type {\n",
       "        vertical-align: middle;\n",
       "    }\n",
       "\n",
       "    .dataframe tbody tr th {\n",
       "        vertical-align: top;\n",
       "    }\n",
       "\n",
       "    .dataframe thead th {\n",
       "        text-align: right;\n",
       "    }\n",
       "</style>\n",
       "<table border=\"1\" class=\"dataframe\">\n",
       "  <thead>\n",
       "    <tr style=\"text-align: right;\">\n",
       "      <th></th>\n",
       "      <th>Demanda</th>\n",
       "      <th>Produccion</th>\n",
       "    </tr>\n",
       "    <tr>\n",
       "      <th>fecha</th>\n",
       "      <th></th>\n",
       "      <th></th>\n",
       "    </tr>\n",
       "  </thead>\n",
       "  <tbody>\n",
       "    <tr>\n",
       "      <th>2019-01-01</th>\n",
       "      <td>379726</td>\n",
       "      <td>289005</td>\n",
       "    </tr>\n",
       "    <tr>\n",
       "      <th>2019-01-02</th>\n",
       "      <td>383590</td>\n",
       "      <td>288843</td>\n",
       "    </tr>\n",
       "    <tr>\n",
       "      <th>2019-01-03</th>\n",
       "      <td>378901</td>\n",
       "      <td>283581</td>\n",
       "    </tr>\n",
       "    <tr>\n",
       "      <th>2019-01-04</th>\n",
       "      <td>378180</td>\n",
       "      <td>285621</td>\n",
       "    </tr>\n",
       "    <tr>\n",
       "      <th>2019-01-05</th>\n",
       "      <td>385805</td>\n",
       "      <td>283991</td>\n",
       "    </tr>\n",
       "    <tr>\n",
       "      <th>...</th>\n",
       "      <td>...</td>\n",
       "      <td>...</td>\n",
       "    </tr>\n",
       "    <tr>\n",
       "      <th>2021-12-26</th>\n",
       "      <td>466243</td>\n",
       "      <td>299610</td>\n",
       "    </tr>\n",
       "    <tr>\n",
       "      <th>2021-12-27</th>\n",
       "      <td>435243</td>\n",
       "      <td>291977</td>\n",
       "    </tr>\n",
       "    <tr>\n",
       "      <th>2021-12-28</th>\n",
       "      <td>420410</td>\n",
       "      <td>279246</td>\n",
       "    </tr>\n",
       "    <tr>\n",
       "      <th>2021-12-29</th>\n",
       "      <td>411592</td>\n",
       "      <td>261122</td>\n",
       "    </tr>\n",
       "    <tr>\n",
       "      <th>2021-12-30</th>\n",
       "      <td>378184</td>\n",
       "      <td>248905</td>\n",
       "    </tr>\n",
       "  </tbody>\n",
       "</table>\n",
       "<p>1095 rows × 2 columns</p>\n",
       "</div>"
      ],
      "text/plain": [
       "            Demanda  Produccion\n",
       "fecha                          \n",
       "2019-01-01   379726      289005\n",
       "2019-01-02   383590      288843\n",
       "2019-01-03   378901      283581\n",
       "2019-01-04   378180      285621\n",
       "2019-01-05   385805      283991\n",
       "...             ...         ...\n",
       "2021-12-26   466243      299610\n",
       "2021-12-27   435243      291977\n",
       "2021-12-28   420410      279246\n",
       "2021-12-29   411592      261122\n",
       "2021-12-30   378184      248905\n",
       "\n",
       "[1095 rows x 2 columns]"
      ]
     },
     "execution_count": 162,
     "metadata": {},
     "output_type": "execute_result"
    }
   ],
   "source": [
    "data"
   ]
  },
  {
   "cell_type": "code",
   "execution_count": 163,
   "id": "3fcfc017",
   "metadata": {},
   "outputs": [
    {
     "data": {
      "text/html": [
       "<div>\n",
       "<style scoped>\n",
       "    .dataframe tbody tr th:only-of-type {\n",
       "        vertical-align: middle;\n",
       "    }\n",
       "\n",
       "    .dataframe tbody tr th {\n",
       "        vertical-align: top;\n",
       "    }\n",
       "\n",
       "    .dataframe thead th {\n",
       "        text-align: right;\n",
       "    }\n",
       "</style>\n",
       "<table border=\"1\" class=\"dataframe\">\n",
       "  <thead>\n",
       "    <tr style=\"text-align: right;\">\n",
       "      <th></th>\n",
       "      <th>Demanda</th>\n",
       "      <th>Produccion</th>\n",
       "    </tr>\n",
       "  </thead>\n",
       "  <tbody>\n",
       "    <tr>\n",
       "      <th>count</th>\n",
       "      <td>1095.000000</td>\n",
       "      <td>1095.000000</td>\n",
       "    </tr>\n",
       "    <tr>\n",
       "      <th>mean</th>\n",
       "      <td>420994.799087</td>\n",
       "      <td>322561.829224</td>\n",
       "    </tr>\n",
       "    <tr>\n",
       "      <th>std</th>\n",
       "      <td>108713.245473</td>\n",
       "      <td>69567.326734</td>\n",
       "    </tr>\n",
       "    <tr>\n",
       "      <th>min</th>\n",
       "      <td>234522.000000</td>\n",
       "      <td>187266.000000</td>\n",
       "    </tr>\n",
       "    <tr>\n",
       "      <th>25%</th>\n",
       "      <td>325740.000000</td>\n",
       "      <td>258997.500000</td>\n",
       "    </tr>\n",
       "    <tr>\n",
       "      <th>50%</th>\n",
       "      <td>411592.000000</td>\n",
       "      <td>303169.000000</td>\n",
       "    </tr>\n",
       "    <tr>\n",
       "      <th>75%</th>\n",
       "      <td>498163.500000</td>\n",
       "      <td>391964.000000</td>\n",
       "    </tr>\n",
       "    <tr>\n",
       "      <th>max</th>\n",
       "      <td>664606.000000</td>\n",
       "      <td>453020.000000</td>\n",
       "    </tr>\n",
       "  </tbody>\n",
       "</table>\n",
       "</div>"
      ],
      "text/plain": [
       "             Demanda     Produccion\n",
       "count    1095.000000    1095.000000\n",
       "mean   420994.799087  322561.829224\n",
       "std    108713.245473   69567.326734\n",
       "min    234522.000000  187266.000000\n",
       "25%    325740.000000  258997.500000\n",
       "50%    411592.000000  303169.000000\n",
       "75%    498163.500000  391964.000000\n",
       "max    664606.000000  453020.000000"
      ]
     },
     "execution_count": 163,
     "metadata": {},
     "output_type": "execute_result"
    }
   ],
   "source": [
    "data.describe()"
   ]
  },
  {
   "cell_type": "markdown",
   "id": "8b3b1ff1",
   "metadata": {},
   "source": [
    "Ya de primera podemos observar que vamos a tener dias donde la demanda supera a la produccion, y ademas de media siempre vamos a tener mayor demanda que produccion"
   ]
  },
  {
   "cell_type": "code",
   "execution_count": 164,
   "id": "1f915439",
   "metadata": {},
   "outputs": [
    {
     "data": {
      "text/html": [
       "<div>\n",
       "<style scoped>\n",
       "    .dataframe tbody tr th:only-of-type {\n",
       "        vertical-align: middle;\n",
       "    }\n",
       "\n",
       "    .dataframe tbody tr th {\n",
       "        vertical-align: top;\n",
       "    }\n",
       "\n",
       "    .dataframe thead th {\n",
       "        text-align: right;\n",
       "    }\n",
       "</style>\n",
       "<table border=\"1\" class=\"dataframe\">\n",
       "  <thead>\n",
       "    <tr style=\"text-align: right;\">\n",
       "      <th></th>\n",
       "      <th>Demanda</th>\n",
       "      <th>Produccion</th>\n",
       "    </tr>\n",
       "    <tr>\n",
       "      <th>fecha</th>\n",
       "      <th></th>\n",
       "      <th></th>\n",
       "    </tr>\n",
       "  </thead>\n",
       "  <tbody>\n",
       "    <tr>\n",
       "      <th>2019-01-31</th>\n",
       "      <td>12344034</td>\n",
       "      <td>8892026</td>\n",
       "    </tr>\n",
       "    <tr>\n",
       "      <th>2019-02-28</th>\n",
       "      <td>10327355</td>\n",
       "      <td>7753904</td>\n",
       "    </tr>\n",
       "    <tr>\n",
       "      <th>2019-03-31</th>\n",
       "      <td>9566047</td>\n",
       "      <td>7603419</td>\n",
       "    </tr>\n",
       "    <tr>\n",
       "      <th>2019-04-30</th>\n",
       "      <td>8329040</td>\n",
       "      <td>6860510</td>\n",
       "    </tr>\n",
       "    <tr>\n",
       "      <th>2019-05-31</th>\n",
       "      <td>11823599</td>\n",
       "      <td>10597214</td>\n",
       "    </tr>\n",
       "    <tr>\n",
       "      <th>2019-06-30</th>\n",
       "      <td>14146614</td>\n",
       "      <td>11740792</td>\n",
       "    </tr>\n",
       "    <tr>\n",
       "      <th>2019-07-31</th>\n",
       "      <td>15465729</td>\n",
       "      <td>12511220</td>\n",
       "    </tr>\n",
       "    <tr>\n",
       "      <th>2019-08-31</th>\n",
       "      <td>15627938</td>\n",
       "      <td>12676743</td>\n",
       "    </tr>\n",
       "    <tr>\n",
       "      <th>2019-09-30</th>\n",
       "      <td>14477503</td>\n",
       "      <td>11977411</td>\n",
       "    </tr>\n",
       "    <tr>\n",
       "      <th>2019-10-31</th>\n",
       "      <td>11810422</td>\n",
       "      <td>9998288</td>\n",
       "    </tr>\n",
       "    <tr>\n",
       "      <th>2019-11-30</th>\n",
       "      <td>7949894</td>\n",
       "      <td>7243726</td>\n",
       "    </tr>\n",
       "    <tr>\n",
       "      <th>2019-12-31</th>\n",
       "      <td>11446699</td>\n",
       "      <td>8653209</td>\n",
       "    </tr>\n",
       "    <tr>\n",
       "      <th>2020-01-31</th>\n",
       "      <td>13489781</td>\n",
       "      <td>9110785</td>\n",
       "    </tr>\n",
       "    <tr>\n",
       "      <th>2020-02-29</th>\n",
       "      <td>11022374</td>\n",
       "      <td>8862696</td>\n",
       "    </tr>\n",
       "    <tr>\n",
       "      <th>2020-03-31</th>\n",
       "      <td>8662324</td>\n",
       "      <td>7728448</td>\n",
       "    </tr>\n",
       "    <tr>\n",
       "      <th>2020-04-30</th>\n",
       "      <td>8747987</td>\n",
       "      <td>8081607</td>\n",
       "    </tr>\n",
       "    <tr>\n",
       "      <th>2020-05-31</th>\n",
       "      <td>12767656</td>\n",
       "      <td>10977659</td>\n",
       "    </tr>\n",
       "    <tr>\n",
       "      <th>2020-06-30</th>\n",
       "      <td>14905798</td>\n",
       "      <td>11627558</td>\n",
       "    </tr>\n",
       "    <tr>\n",
       "      <th>2020-07-31</th>\n",
       "      <td>18199501</td>\n",
       "      <td>12252714</td>\n",
       "    </tr>\n",
       "    <tr>\n",
       "      <th>2020-08-31</th>\n",
       "      <td>17827320</td>\n",
       "      <td>12969990</td>\n",
       "    </tr>\n",
       "    <tr>\n",
       "      <th>2020-09-30</th>\n",
       "      <td>16403785</td>\n",
       "      <td>12160900</td>\n",
       "    </tr>\n",
       "    <tr>\n",
       "      <th>2020-10-31</th>\n",
       "      <td>10320331</td>\n",
       "      <td>9483095</td>\n",
       "    </tr>\n",
       "    <tr>\n",
       "      <th>2020-11-30</th>\n",
       "      <td>8397757</td>\n",
       "      <td>7106362</td>\n",
       "    </tr>\n",
       "    <tr>\n",
       "      <th>2020-12-31</th>\n",
       "      <td>11644426</td>\n",
       "      <td>7536600</td>\n",
       "    </tr>\n",
       "    <tr>\n",
       "      <th>2021-01-31</th>\n",
       "      <td>13005501</td>\n",
       "      <td>8091202</td>\n",
       "    </tr>\n",
       "    <tr>\n",
       "      <th>2021-02-28</th>\n",
       "      <td>10390139</td>\n",
       "      <td>7253635</td>\n",
       "    </tr>\n",
       "    <tr>\n",
       "      <th>2021-03-31</th>\n",
       "      <td>9342708</td>\n",
       "      <td>7317690</td>\n",
       "    </tr>\n",
       "    <tr>\n",
       "      <th>2021-04-30</th>\n",
       "      <td>10272893</td>\n",
       "      <td>8450198</td>\n",
       "    </tr>\n",
       "    <tr>\n",
       "      <th>2021-05-31</th>\n",
       "      <td>14984538</td>\n",
       "      <td>11166675</td>\n",
       "    </tr>\n",
       "    <tr>\n",
       "      <th>2021-06-30</th>\n",
       "      <td>16670675</td>\n",
       "      <td>11921123</td>\n",
       "    </tr>\n",
       "    <tr>\n",
       "      <th>2021-07-31</th>\n",
       "      <td>19392643</td>\n",
       "      <td>13231958</td>\n",
       "    </tr>\n",
       "    <tr>\n",
       "      <th>2021-08-31</th>\n",
       "      <td>19935514</td>\n",
       "      <td>13392505</td>\n",
       "    </tr>\n",
       "    <tr>\n",
       "      <th>2021-09-30</th>\n",
       "      <td>14896197</td>\n",
       "      <td>11319400</td>\n",
       "    </tr>\n",
       "    <tr>\n",
       "      <th>2021-10-31</th>\n",
       "      <td>14652679</td>\n",
       "      <td>10581169</td>\n",
       "    </tr>\n",
       "    <tr>\n",
       "      <th>2021-11-30</th>\n",
       "      <td>9516929</td>\n",
       "      <td>7544319</td>\n",
       "    </tr>\n",
       "    <tr>\n",
       "      <th>2021-12-31</th>\n",
       "      <td>12224975</td>\n",
       "      <td>8528453</td>\n",
       "    </tr>\n",
       "  </tbody>\n",
       "</table>\n",
       "</div>"
      ],
      "text/plain": [
       "             Demanda  Produccion\n",
       "fecha                           \n",
       "2019-01-31  12344034     8892026\n",
       "2019-02-28  10327355     7753904\n",
       "2019-03-31   9566047     7603419\n",
       "2019-04-30   8329040     6860510\n",
       "2019-05-31  11823599    10597214\n",
       "2019-06-30  14146614    11740792\n",
       "2019-07-31  15465729    12511220\n",
       "2019-08-31  15627938    12676743\n",
       "2019-09-30  14477503    11977411\n",
       "2019-10-31  11810422     9998288\n",
       "2019-11-30   7949894     7243726\n",
       "2019-12-31  11446699     8653209\n",
       "2020-01-31  13489781     9110785\n",
       "2020-02-29  11022374     8862696\n",
       "2020-03-31   8662324     7728448\n",
       "2020-04-30   8747987     8081607\n",
       "2020-05-31  12767656    10977659\n",
       "2020-06-30  14905798    11627558\n",
       "2020-07-31  18199501    12252714\n",
       "2020-08-31  17827320    12969990\n",
       "2020-09-30  16403785    12160900\n",
       "2020-10-31  10320331     9483095\n",
       "2020-11-30   8397757     7106362\n",
       "2020-12-31  11644426     7536600\n",
       "2021-01-31  13005501     8091202\n",
       "2021-02-28  10390139     7253635\n",
       "2021-03-31   9342708     7317690\n",
       "2021-04-30  10272893     8450198\n",
       "2021-05-31  14984538    11166675\n",
       "2021-06-30  16670675    11921123\n",
       "2021-07-31  19392643    13231958\n",
       "2021-08-31  19935514    13392505\n",
       "2021-09-30  14896197    11319400\n",
       "2021-10-31  14652679    10581169\n",
       "2021-11-30   9516929     7544319\n",
       "2021-12-31  12224975     8528453"
      ]
     },
     "execution_count": 164,
     "metadata": {},
     "output_type": "execute_result"
    }
   ],
   "source": [
    "dataMes= data.resample('m').sum()\n",
    "dataMes"
   ]
  },
  {
   "cell_type": "code",
   "execution_count": 165,
   "id": "5c1c5cfb",
   "metadata": {},
   "outputs": [
    {
     "data": {
      "text/html": [
       "<div>\n",
       "<style scoped>\n",
       "    .dataframe tbody tr th:only-of-type {\n",
       "        vertical-align: middle;\n",
       "    }\n",
       "\n",
       "    .dataframe tbody tr th {\n",
       "        vertical-align: top;\n",
       "    }\n",
       "\n",
       "    .dataframe thead th {\n",
       "        text-align: right;\n",
       "    }\n",
       "</style>\n",
       "<table border=\"1\" class=\"dataframe\">\n",
       "  <thead>\n",
       "    <tr style=\"text-align: right;\">\n",
       "      <th></th>\n",
       "      <th>Demanda</th>\n",
       "      <th>Produccion</th>\n",
       "    </tr>\n",
       "    <tr>\n",
       "      <th>fecha</th>\n",
       "      <th></th>\n",
       "      <th></th>\n",
       "    </tr>\n",
       "  </thead>\n",
       "  <tbody>\n",
       "    <tr>\n",
       "      <th>2019-12-31</th>\n",
       "      <td>143314874</td>\n",
       "      <td>116508462</td>\n",
       "    </tr>\n",
       "    <tr>\n",
       "      <th>2020-12-31</th>\n",
       "      <td>152389040</td>\n",
       "      <td>117898414</td>\n",
       "    </tr>\n",
       "    <tr>\n",
       "      <th>2021-12-31</th>\n",
       "      <td>165285391</td>\n",
       "      <td>118798327</td>\n",
       "    </tr>\n",
       "  </tbody>\n",
       "</table>\n",
       "</div>"
      ],
      "text/plain": [
       "              Demanda  Produccion\n",
       "fecha                            \n",
       "2019-12-31  143314874   116508462\n",
       "2020-12-31  152389040   117898414\n",
       "2021-12-31  165285391   118798327"
      ]
     },
     "execution_count": 165,
     "metadata": {},
     "output_type": "execute_result"
    }
   ],
   "source": [
    "data.resample('y').sum()"
   ]
  },
  {
   "cell_type": "code",
   "execution_count": 166,
   "id": "e7095911",
   "metadata": {},
   "outputs": [
    {
     "data": {
      "text/plain": [
       "<AxesSubplot:xlabel='fecha'>"
      ]
     },
     "execution_count": 166,
     "metadata": {},
     "output_type": "execute_result"
    },
    {
     "data": {
      "image/png": "[encoded data removed]",
      "text/plain": [
       "<Figure size 1500x500 with 1 Axes>"
      ]
     },
     "metadata": {},
     "output_type": "display_data"
    }
   ],
   "source": [
    "data.plot(figsize=(15,5))"
   ]
  },
  {
   "cell_type": "code",
   "execution_count": 167,
   "id": "475c108f",
   "metadata": {},
   "outputs": [
    {
     "data": {
      "text/plain": [
       "<AxesSubplot:>"
      ]
     },
     "execution_count": 167,
     "metadata": {},
     "output_type": "execute_result"
    },
    {
     "data": {
      "image/png": "[encoded data removed]",
      "text/plain": [
       "<Figure size 640x480 with 1 Axes>"
      ]
     },
     "metadata": {},
     "output_type": "display_data"
    }
   ],
   "source": [
    "data.plot.box()"
   ]
  },
  {
   "cell_type": "markdown",
   "id": "e13e02c6",
   "metadata": {},
   "source": [
    "Vemos que la produccion nunca abaste la demanda, ademas nos fijamos que en los meses de verano siempre tenemos un pico de demanda que ademas aumenta con los años mientras que la produccion de mantiene"
   ]
  },
  {
   "cell_type": "markdown",
   "id": "319f51f5",
   "metadata": {},
   "source": [
    "Vamos a pasar a comprobar si nuestra serie de tiempo es estacionario o no. Para ello vamos a seguir el modelo Dickey-Fuller"
   ]
  },
  {
   "cell_type": "code",
   "execution_count": 195,
   "id": "91a52ae0",
   "metadata": {},
   "outputs": [],
   "source": [
    "def test_stationarity(timeseries):\n",
    "    \n",
    "    rolmean = timeseries.rolling(12).mean()\n",
    "    rolstd = timeseries.rolling(12).std()\n",
    "    orig = plt.plot(timeseries, color='blue',label='Original')\n",
    "    mean = plt.plot(rolmean, color='red', label='Media móvil')\n",
    "    std = plt.plot(rolstd, color='black', label = 'Desviacion estandar')\n",
    "    plt.legend(loc='best')\n",
    "    plt.title('Media móvil & Desviacion estandar')\n",
    "    plt.show(block=False)\n",
    "    \n",
    "    print ('Resultados del Dickey-Fuller Test:')\n",
    "   \n",
    "    dftest = adfuller(timeseries, autolag='AIC')\n",
    "    dfoutput = pd.Series(dftest[0:4], index=['Estadístico de prueba','p-value','#Lags Used','Numero de observaciones'])\n",
    "    for key,value in dftest[4].items():\n",
    "        dfoutput['Valores criticos (%s)'%key] = value\n",
    "    print(dfoutput)"
   ]
  },
  {
   "cell_type": "code",
   "execution_count": 196,
   "id": "8f7aa885",
   "metadata": {},
   "outputs": [
    {
     "data": {
      "image/png": "[encoded data removed]",
      "text/plain": [
       "<Figure size 640x480 with 1 Axes>"
      ]
     },
     "metadata": {},
     "output_type": "display_data"
    },
    {
     "name": "stdout",
     "output_type": "stream",
     "text": [
      "Resultados del Dickey-Fuller Test:\n",
      "Estadístico de prueba        -3.080073\n",
      "p-value                       0.028063\n",
      "#Lags Used                   16.000000\n",
      "Numero de observaciones    1078.000000\n",
      "Valores criticos (1%)        -3.436431\n",
      "Valores criticos (5%)        -2.864225\n",
      "Valores criticos (10%)       -2.568200\n",
      "dtype: float64\n"
     ]
    }
   ],
   "source": [
    "adfullerDemanda = test_stationarity(data['Demanda'])"
   ]
  },
  {
   "cell_type": "markdown",
   "id": "c3c36fb3",
   "metadata": {},
   "source": [
    "Según estos resultados vemos observamos que podemos afirmar que al demanda es estacionario por diversos motivos, el p-value nos indica que tenemos una probabilidad muy baja del 2.68% de que los resultados observados en la serie de tiempo se deban al azar que nos indica que podemos rechazar la hipotesis nula. Luego el estadístico de prueba es menor que los valores críticos para los niveles de significación de 1% y 5% y no difiere mucho del 10% por lo que volvemos a rechazar la hipotesis nula. "
   ]
  },
  {
   "cell_type": "code",
   "execution_count": 197,
   "id": "21a1429b",
   "metadata": {},
   "outputs": [
    {
     "data": {
      "image/png": "[encoded data removed]",
      "text/plain": [
       "<Figure size 640x480 with 1 Axes>"
      ]
     },
     "metadata": {},
     "output_type": "display_data"
    },
    {
     "name": "stdout",
     "output_type": "stream",
     "text": [
      "Resultados del Dickey-Fuller Test:\n",
      "Estadístico de prueba        -2.022303\n",
      "p-value                       0.276880\n",
      "#Lags Used                    4.000000\n",
      "Numero de observaciones    1090.000000\n",
      "Valores criticos (1%)        -3.436364\n",
      "Valores criticos (5%)        -2.864195\n",
      "Valores criticos (10%)       -2.568184\n",
      "dtype: float64\n"
     ]
    }
   ],
   "source": [
    "adfullerProduccion = test_stationarity(data['Produccion'])"
   ]
  },
  {
   "cell_type": "markdown",
   "id": "88d071d5",
   "metadata": {},
   "source": [
    "Con la produccion vemos que ocurre todo lo contrario, el p-value es mayor que el valor de significancia del 0,05 y ademas nuestro estadistico de prueba es mayor que todos los valores criticos. Por lo cual decidimos que la serie de tiempo no es estacionaria."
   ]
  },
  {
   "cell_type": "markdown",
   "id": "4050f1e3",
   "metadata": {},
   "source": [
    "## ARIMA"
   ]
  },
  {
   "cell_type": "markdown",
   "id": "a866f2c3",
   "metadata": {},
   "source": [
    "Sabiendo que la demanda si es estacionaria, vamos a aplicarle un modelo de  regresion autorregresiva integrada de media movil (ARIMA)"
   ]
  },
  {
   "cell_type": "code",
   "execution_count": 198,
   "id": "5eeb4722",
   "metadata": {},
   "outputs": [],
   "source": [
    "dataArima= dataMes['Demanda']\n"
   ]
  },
  {
   "cell_type": "code",
   "execution_count": 200,
   "id": "1057300b",
   "metadata": {},
   "outputs": [],
   "source": [
    "train_data_arima = dataArima[:int(len(dataArima)*0.8)]\n",
    "test_data_arima = dataArima[int(len(dataArima)*0.8):]\n"
   ]
  },
  {
   "cell_type": "code",
   "execution_count": 42,
   "id": "dd6e2092",
   "metadata": {},
   "outputs": [],
   "source": [
    "def modelo_arima(p,d,q):\n",
    "    model = ARIMA(train_data_arima, order=(p,d,q))\n",
    "    model_fit = model.fit()\n",
    "    print(model_fit.summary())"
   ]
  },
  {
   "cell_type": "code",
   "execution_count": 43,
   "id": "1ea7cc21",
   "metadata": {},
   "outputs": [
    {
     "name": "stdout",
     "output_type": "stream",
     "text": [
      "                               SARIMAX Results                                \n",
      "==============================================================================\n",
      "Dep. Variable:                Demanda   No. Observations:                   28\n",
      "Model:                 ARIMA(1, 1, 1)   Log Likelihood                -436.052\n",
      "Date:                Sun, 29 Jan 2023   AIC                            878.104\n",
      "Time:                        16:56:59   BIC                            881.991\n",
      "Sample:                    01-31-2019   HQIC                           879.260\n",
      "                         - 04-30-2021                                         \n",
      "Covariance Type:                  opg                                         \n",
      "==============================================================================\n",
      "                 coef    std err          z      P>|z|      [0.025      0.975]\n",
      "------------------------------------------------------------------------------\n",
      "ar.L1         -0.2176      1.231     -0.177      0.860      -2.631       2.196\n",
      "ma.L1          0.3382      1.249      0.271      0.787      -2.109       2.786\n",
      "sigma2      5.968e+12   4.28e-13   1.39e+25      0.000    5.97e+12    5.97e+12\n",
      "===================================================================================\n",
      "Ljung-Box (L1) (Q):                   1.16   Jarque-Bera (JB):                 0.40\n",
      "Prob(Q):                              0.28   Prob(JB):                         0.82\n",
      "Heteroskedasticity (H):               1.48   Skew:                            -0.14\n",
      "Prob(H) (two-sided):                  0.57   Kurtosis:                         2.48\n",
      "===================================================================================\n",
      "\n",
      "Warnings:\n",
      "[1] Covariance matrix calculated using the outer product of gradients (complex-step).\n",
      "[2] Covariance matrix is singular or near-singular, with condition number 5.1e+41. Standard errors may be unstable.\n",
      "                               SARIMAX Results                                \n",
      "==============================================================================\n",
      "Dep. Variable:                Demanda   No. Observations:                   28\n",
      "Model:                 ARIMA(2, 1, 1)   Log Likelihood                -434.471\n",
      "Date:                Sun, 29 Jan 2023   AIC                            876.943\n",
      "Time:                        16:56:59   BIC                            882.126\n",
      "Sample:                    01-31-2019   HQIC                           878.484\n",
      "                         - 04-30-2021                                         \n",
      "Covariance Type:                  opg                                         \n",
      "==============================================================================\n",
      "                 coef    std err          z      P>|z|      [0.025      0.975]\n",
      "------------------------------------------------------------------------------\n",
      "ar.L1          0.5195      0.286      1.817      0.069      -0.041       1.080\n",
      "ar.L2         -0.2779      0.117     -2.370      0.018      -0.508      -0.048\n",
      "ma.L1         -0.4523      0.329     -1.374      0.170      -1.098       0.193\n",
      "sigma2      4.429e+12   6.86e-14   6.46e+25      0.000    4.43e+12    4.43e+12\n",
      "===================================================================================\n",
      "Ljung-Box (L1) (Q):                   0.88   Jarque-Bera (JB):                 0.61\n",
      "Prob(Q):                              0.35   Prob(JB):                         0.74\n",
      "Heteroskedasticity (H):               1.02   Skew:                            -0.32\n",
      "Prob(H) (two-sided):                  0.97   Kurtosis:                         2.64\n",
      "===================================================================================\n",
      "\n",
      "Warnings:\n",
      "[1] Covariance matrix calculated using the outer product of gradients (complex-step).\n",
      "[2] Covariance matrix is singular or near-singular, with condition number 6.26e+41. Standard errors may be unstable.\n",
      "                               SARIMAX Results                                \n",
      "==============================================================================\n",
      "Dep. Variable:                Demanda   No. Observations:                   28\n",
      "Model:                 ARIMA(2, 1, 2)   Log Likelihood                -431.166\n",
      "Date:                Sun, 29 Jan 2023   AIC                            872.333\n",
      "Time:                        16:56:59   BIC                            878.812\n",
      "Sample:                    01-31-2019   HQIC                           874.260\n",
      "                         - 04-30-2021                                         \n",
      "Covariance Type:                  opg                                         \n",
      "==============================================================================\n",
      "                 coef    std err          z      P>|z|      [0.025      0.975]\n",
      "------------------------------------------------------------------------------\n",
      "ar.L1          0.9822      0.116      8.442      0.000       0.754       1.210\n",
      "ar.L2         -0.9858      0.097    -10.189      0.000      -1.175      -0.796\n",
      "ma.L1         -1.0289      0.355     -2.896      0.004      -1.725      -0.333\n",
      "ma.L2          0.9677      0.406      2.385      0.017       0.173       1.763\n",
      "sigma2      4.956e+12   1.07e-13   4.62e+25      0.000    4.96e+12    4.96e+12\n",
      "===================================================================================\n",
      "Ljung-Box (L1) (Q):                   1.03   Jarque-Bera (JB):                 2.16\n",
      "Prob(Q):                              0.31   Prob(JB):                         0.34\n",
      "Heteroskedasticity (H):               2.11   Skew:                            -0.68\n",
      "Prob(H) (two-sided):                  0.28   Kurtosis:                         3.23\n",
      "===================================================================================\n",
      "\n",
      "Warnings:\n",
      "[1] Covariance matrix calculated using the outer product of gradients (complex-step).\n",
      "[2] Covariance matrix is singular or near-singular, with condition number 1.08e+41. Standard errors may be unstable.\n"
     ]
    }
   ],
   "source": [
    "modelo_arima(1,1,1)\n",
    "modelo_arima(2,1,1)\n",
    "modelo_arima(2,1,2)\n"
   ]
  },
  {
   "cell_type": "markdown",
   "id": "5598f032",
   "metadata": {},
   "source": [
    "Vamos a probar con una funcion que nos saca lo mejores valores"
   ]
  },
  {
   "cell_type": "markdown",
   "id": "ae9af908",
   "metadata": {},
   "source": [
    "Vemos que el mejor AIC lo tiene el modelo para los valores (2,1,2)"
   ]
  },
  {
   "cell_type": "code",
   "execution_count": 44,
   "id": "d678f0f8",
   "metadata": {},
   "outputs": [],
   "source": [
    "modelfinal = ARIMA(train_data_arima, order=(2, 1, 2))\n",
    "model_fit1 = modelfinal.fit()"
   ]
  },
  {
   "cell_type": "code",
   "execution_count": 45,
   "id": "88045e46",
   "metadata": {},
   "outputs": [],
   "source": [
    "forecast = model_fit1.forecast(steps=10)[0]\n"
   ]
  },
  {
   "cell_type": "code",
   "execution_count": 46,
   "id": "807afbd3",
   "metadata": {},
   "outputs": [
    {
     "name": "stdout",
     "output_type": "stream",
     "text": [
      "11083108.429485487\n"
     ]
    }
   ],
   "source": [
    "print(forecast)"
   ]
  },
  {
   "cell_type": "code",
   "execution_count": 47,
   "id": "d379cc01",
   "metadata": {},
   "outputs": [
    {
     "data": {
      "text/plain": [
       "2021-05-31    1.108311e+07\n",
       "2021-06-30    1.302891e+07\n",
       "2021-07-31    1.414135e+07\n",
       "2021-08-31    1.331580e+07\n",
       "2021-09-30    1.140825e+07\n",
       "2021-10-31    1.034849e+07\n",
       "2021-11-30    1.118810e+07\n",
       "2021-12-31    1.305750e+07\n",
       "Freq: M, Name: predicted_mean, dtype: float64"
      ]
     },
     "execution_count": 47,
     "metadata": {},
     "output_type": "execute_result"
    }
   ],
   "source": [
    "predictions = model_fit1.predict(start=len(train_data_arima), end=len(dataArima)-1, typ='levels')\n",
    "predictions"
   ]
  },
  {
   "cell_type": "code",
   "execution_count": 48,
   "id": "0c2c1f52",
   "metadata": {},
   "outputs": [
    {
     "name": "stdout",
     "output_type": "stream",
     "text": [
      "MSE: 16757263017719.627\n"
     ]
    }
   ],
   "source": [
    "mse = mean_squared_error(test_data_arima, predictions)\n",
    "print('MSE:', mse)"
   ]
  },
  {
   "cell_type": "code",
   "execution_count": 49,
   "id": "1f65f557",
   "metadata": {},
   "outputs": [
    {
     "data": {
      "image/png": "[encoded data removed]",
      "text/plain": [
       "<Figure size 640x480 with 1 Axes>"
      ]
     },
     "metadata": {},
     "output_type": "display_data"
    }
   ],
   "source": [
    "plt.plot(dataArima.index[int(len(dataArima)*0.8):], test_data_arima, label='Valores reales')\n",
    "plt.plot(dataArima.index[int(len(dataArima)*0.8):], predictions, label='Predicciones')\n",
    "plt.legend()\n",
    "plt.show()"
   ]
  },
  {
   "cell_type": "markdown",
   "id": "0c70fdfa",
   "metadata": {},
   "source": [
    "PRIMERO HAGO ARIMA Y LUEGO REDES NEURONALES"
   ]
  },
  {
   "cell_type": "markdown",
   "id": "ed581e0b",
   "metadata": {},
   "source": [
    "Estudiando un poco la relación que existe entre la demanda y la produccion encontramos que esta última siempre va a estar condicionada por la demanda ya que no se puede dar el caso de que la produccion sea mayor que la demanda. Vamos a aplicar un modelo de Deep learning conocido como Redes neuronales recurrentes(RNN) EXPLICAR UN POCO MAS DE ESTO"
   ]
  },
  {
   "cell_type": "code",
   "execution_count": 126,
   "id": "855df210",
   "metadata": {},
   "outputs": [],
   "source": [
    "#data['Demanda'] = data['Demanda'].astype(float)\n",
    "#data['Produccion'] = data['Produccion'].astype(float)"
   ]
  },
  {
   "cell_type": "code",
   "execution_count": 184,
   "id": "50e6fc82",
   "metadata": {},
   "outputs": [],
   "source": [
    "scaler = MinMaxScaler(feature_range=(0, 1))\n",
    "data['Demanda'] = scaler.fit_transform(data[['Demanda']])\n",
    "data['Produccion'] = scaler.fit_transform(data[['Produccion']])"
   ]
  },
  {
   "cell_type": "code",
   "execution_count": 185,
   "id": "a0c93ece",
   "metadata": {},
   "outputs": [],
   "source": [
    "timesteps = 30"
   ]
  },
  {
   "cell_type": "code",
   "execution_count": 186,
   "id": "ad87f3e7",
   "metadata": {},
   "outputs": [],
   "source": [
    "x = []\n",
    "y = []\n",
    "for i in range(timesteps, len(data)):\n",
    "    x.append(data[i-timesteps:i][['Demanda', 'Produccion']].values)\n",
    "    y.append(data['Produccion'][i])"
   ]
  },
  {
   "cell_type": "code",
   "execution_count": 187,
   "id": "755a825b",
   "metadata": {},
   "outputs": [],
   "source": [
    "x = np.array(x)\n",
    "y = np.array(y)"
   ]
  },
  {
   "cell_type": "code",
   "execution_count": 188,
   "id": "5f4e8a5d",
   "metadata": {},
   "outputs": [],
   "source": [
    "train_size = int(len(data) * 0.67)\n",
    "x_train = x[:train_size, :, :]\n",
    "y_train = y[:train_size]\n",
    "x_test = x[train_size:, :, :]\n",
    "y_test = y[train_size:]"
   ]
  },
  {
   "cell_type": "code",
   "execution_count": 189,
   "id": "1520e256",
   "metadata": {},
   "outputs": [],
   "source": [
    "model = Sequential()\n",
    "model.add(LSTM(50, return_sequences=True, input_shape=(x_train.shape[1], x_train.shape[2])))\n",
    "model.add(LSTM(50))\n",
    "model.add(Dense(1))\n",
    "model.compile(loss='mean_squared_error', optimizer='adam')"
   ]
  },
  {
   "cell_type": "code",
   "execution_count": 190,
   "id": "775bec8e",
   "metadata": {},
   "outputs": [
    {
     "data": {
      "text/plain": [
       "<keras.callbacks.History at 0x21d77a53250>"
      ]
     },
     "execution_count": 190,
     "metadata": {},
     "output_type": "execute_result"
    }
   ],
   "source": [
    "model.fit(x_train, y_train, epochs=100, batch_size=32, verbose=0)"
   ]
  },
  {
   "cell_type": "code",
   "execution_count": 191,
   "id": "d4fa358f",
   "metadata": {},
   "outputs": [
    {
     "name": "stdout",
     "output_type": "stream",
     "text": [
      "11/11 [==============================] - 1s 10ms/step\n"
     ]
    }
   ],
   "source": [
    "y_pred = model.predict(x_test)"
   ]
  },
  {
   "cell_type": "code",
   "execution_count": 192,
   "id": "0e863375",
   "metadata": {},
   "outputs": [],
   "source": [
    "y_pred = scaler.inverse_transform(y_pred.reshape(-1, 1))\n",
    "y_test = scaler.inverse_transform(y_test.reshape(-1, 1))"
   ]
  },
  {
   "cell_type": "code",
   "execution_count": 193,
   "id": "cb2bc886",
   "metadata": {},
   "outputs": [
    {
     "data": {
      "text/plain": [
       "array([[0.26916435],\n",
       "       [0.26872167],\n",
       "       [0.26845345],\n",
       "       [0.27830738],\n",
       "       [0.2683567 ],\n",
       "       [0.2537669 ],\n",
       "       [0.23574288],\n",
       "       [0.2265371 ],\n",
       "       [0.22795399],\n",
       "       [0.22192085],\n",
       "       [0.2343223 ],\n",
       "       [0.2749502 ],\n",
       "       [0.29137698],\n",
       "       [0.28271076],\n",
       "       [0.27127838],\n",
       "       [0.26322183],\n",
       "       [0.22311604],\n",
       "       [0.23745161],\n",
       "       [0.32354793],\n",
       "       [0.31421655],\n",
       "       [0.2932368 ],\n",
       "       [0.29215172],\n",
       "       [0.2641381 ],\n",
       "       [0.23661968],\n",
       "       [0.24377549],\n",
       "       [0.2487941 ],\n",
       "       [0.2579465 ],\n",
       "       [0.25997457],\n",
       "       [0.26218867],\n",
       "       [0.26378644],\n",
       "       [0.24496318],\n",
       "       [0.2266262 ],\n",
       "       [0.21268612],\n",
       "       [0.21650055],\n",
       "       [0.22762446],\n",
       "       [0.21775457],\n",
       "       [0.20477033],\n",
       "       [0.20202868],\n",
       "       [0.17232236],\n",
       "       [0.15274994],\n",
       "       [0.15413615],\n",
       "       [0.14910342],\n",
       "       [0.12545311],\n",
       "       [0.10487045],\n",
       "       [0.07864778],\n",
       "       [0.10121913],\n",
       "       [0.12054486],\n",
       "       [0.13850719],\n",
       "       [0.14985944],\n",
       "       [0.15373139],\n",
       "       [0.15773039],\n",
       "       [0.1661766 ],\n",
       "       [0.17940009],\n",
       "       [0.19356644],\n",
       "       [0.18196751],\n",
       "       [0.188089  ],\n",
       "       [0.19188435],\n",
       "       [0.17113875],\n",
       "       [0.19104353],\n",
       "       [0.2177415 ],\n",
       "       [0.23236135],\n",
       "       [0.2360104 ],\n",
       "       [0.22901557],\n",
       "       [0.22627386],\n",
       "       [0.23154905],\n",
       "       [0.24565183],\n",
       "       [0.27109346],\n",
       "       [0.28640094],\n",
       "       [0.30083364],\n",
       "       [0.28272152],\n",
       "       [0.27644423],\n",
       "       [0.25579566],\n",
       "       [0.2513011 ],\n",
       "       [0.23557743],\n",
       "       [0.25406253],\n",
       "       [0.315114  ],\n",
       "       [0.35436708],\n",
       "       [0.38717195],\n",
       "       [0.40126523],\n",
       "       [0.4045888 ],\n",
       "       [0.42940328],\n",
       "       [0.47022015],\n",
       "       [0.47878322],\n",
       "       [0.5101246 ],\n",
       "       [0.5265105 ],\n",
       "       [0.51536936],\n",
       "       [0.5399825 ],\n",
       "       [0.55138487],\n",
       "       [0.5702292 ],\n",
       "       [0.57255363],\n",
       "       [0.56549263],\n",
       "       [0.5373337 ],\n",
       "       [0.58876175],\n",
       "       [0.5733405 ],\n",
       "       [0.5600243 ],\n",
       "       [0.57780004],\n",
       "       [0.58592445],\n",
       "       [0.6028591 ],\n",
       "       [0.5976446 ],\n",
       "       [0.59979796],\n",
       "       [0.6029154 ],\n",
       "       [0.6111021 ],\n",
       "       [0.61947   ],\n",
       "       [0.61241806],\n",
       "       [0.6110067 ],\n",
       "       [0.61060655],\n",
       "       [0.656298  ],\n",
       "       [0.7173388 ],\n",
       "       [0.7285733 ],\n",
       "       [0.727755  ],\n",
       "       [0.72552735],\n",
       "       [0.69656426],\n",
       "       [0.6842533 ],\n",
       "       [0.7034259 ],\n",
       "       [0.7320126 ],\n",
       "       [0.7774568 ],\n",
       "       [0.79186326],\n",
       "       [0.7790065 ],\n",
       "       [0.78922856],\n",
       "       [0.7734331 ],\n",
       "       [0.73782206],\n",
       "       [0.75232655],\n",
       "       [0.76105064],\n",
       "       [0.7697019 ],\n",
       "       [0.7832924 ],\n",
       "       [0.8143692 ],\n",
       "       [0.7976303 ],\n",
       "       [0.79491925],\n",
       "       [0.7992415 ],\n",
       "       [0.8380828 ],\n",
       "       [0.85788643],\n",
       "       [0.8605388 ],\n",
       "       [0.8511884 ],\n",
       "       [0.83693564],\n",
       "       [0.81742823],\n",
       "       [0.83685106],\n",
       "       [0.8329726 ],\n",
       "       [0.87366694],\n",
       "       [0.8810561 ],\n",
       "       [0.90269107],\n",
       "       [0.9131274 ],\n",
       "       [0.7502975 ],\n",
       "       [0.6655429 ],\n",
       "       [0.76226276],\n",
       "       [0.7696846 ],\n",
       "       [0.77587366],\n",
       "       [0.75916505],\n",
       "       [0.7296074 ],\n",
       "       [0.79402614],\n",
       "       [0.7027372 ],\n",
       "       [0.7313621 ],\n",
       "       [0.7584715 ],\n",
       "       [0.5728891 ],\n",
       "       [0.76019305],\n",
       "       [0.86381537],\n",
       "       [0.9044992 ],\n",
       "       [0.9264001 ],\n",
       "       [0.9525216 ],\n",
       "       [0.9497195 ],\n",
       "       [0.9463852 ],\n",
       "       [0.9607619 ],\n",
       "       [0.9811427 ],\n",
       "       [0.9454267 ],\n",
       "       [0.9514246 ],\n",
       "       [0.9413106 ],\n",
       "       [0.9613165 ],\n",
       "       [0.9990954 ],\n",
       "       [0.97285163],\n",
       "       [0.958642  ],\n",
       "       [0.93691754],\n",
       "       [0.93381566],\n",
       "       [0.93485683],\n",
       "       [0.95829314],\n",
       "       [0.9567234 ],\n",
       "       [0.89218056],\n",
       "       [0.9295868 ],\n",
       "       [0.9318086 ],\n",
       "       [0.9378175 ],\n",
       "       [0.91060376],\n",
       "       [0.9480404 ],\n",
       "       [0.94574815],\n",
       "       [0.9610899 ],\n",
       "       [0.941869  ],\n",
       "       [0.95627326],\n",
       "       [0.9389116 ],\n",
       "       [0.9322671 ],\n",
       "       [0.9196128 ],\n",
       "       [0.88537025],\n",
       "       [0.8911601 ],\n",
       "       [0.8327619 ],\n",
       "       [0.89207757],\n",
       "       [0.8855891 ],\n",
       "       [0.7696372 ],\n",
       "       [0.81401813],\n",
       "       [0.87812364],\n",
       "       [0.8911312 ],\n",
       "       [0.9287204 ],\n",
       "       [0.95262873],\n",
       "       [0.9696929 ],\n",
       "       [0.98897743],\n",
       "       [0.986245  ],\n",
       "       [0.986713  ],\n",
       "       [0.9842599 ],\n",
       "       [0.987751  ],\n",
       "       [0.97726136],\n",
       "       [0.99924046],\n",
       "       [0.9681758 ],\n",
       "       [0.96130747],\n",
       "       [0.9751789 ],\n",
       "       [0.98214227],\n",
       "       [0.9727276 ],\n",
       "       [0.97606003],\n",
       "       [1.00165   ],\n",
       "       [0.741705  ],\n",
       "       [0.6720268 ],\n",
       "       [0.7274137 ],\n",
       "       [0.8433517 ],\n",
       "       [0.9015167 ],\n",
       "       [0.8414976 ],\n",
       "       [0.7975161 ],\n",
       "       [0.73331195],\n",
       "       [0.6991907 ],\n",
       "       [0.6895095 ],\n",
       "       [0.68458664],\n",
       "       [0.6983819 ],\n",
       "       [0.69334435],\n",
       "       [0.69223404],\n",
       "       [0.7068043 ],\n",
       "       [0.71285087],\n",
       "       [0.6883272 ],\n",
       "       [0.6704139 ],\n",
       "       [0.6633249 ],\n",
       "       [0.6353701 ],\n",
       "       [0.6344269 ],\n",
       "       [0.6584558 ],\n",
       "       [0.6607918 ],\n",
       "       [0.6647582 ],\n",
       "       [0.6744445 ],\n",
       "       [0.66574526],\n",
       "       [0.6192293 ],\n",
       "       [0.6241569 ],\n",
       "       [0.72847307],\n",
       "       [0.71968395],\n",
       "       [0.3416666 ],\n",
       "       [0.32905617],\n",
       "       [0.3804647 ],\n",
       "       [0.4126355 ],\n",
       "       [0.42902723],\n",
       "       [0.43478918],\n",
       "       [0.4609094 ],\n",
       "       [0.50103444],\n",
       "       [0.5108578 ],\n",
       "       [0.43972403],\n",
       "       [0.43562758],\n",
       "       [0.49699518],\n",
       "       [0.5617969 ],\n",
       "       [0.5922736 ],\n",
       "       [0.63498354],\n",
       "       [0.64183104],\n",
       "       [0.63440424],\n",
       "       [0.63604   ],\n",
       "       [0.6589238 ],\n",
       "       [0.664801  ],\n",
       "       [0.6738679 ],\n",
       "       [0.6703184 ],\n",
       "       [0.67830163],\n",
       "       [0.69452685],\n",
       "       [0.6750079 ],\n",
       "       [0.6931293 ],\n",
       "       [0.6944552 ],\n",
       "       [0.69599926],\n",
       "       [0.715712  ],\n",
       "       [0.6894056 ],\n",
       "       [0.73843104],\n",
       "       [0.3646145 ],\n",
       "       [0.3263003 ],\n",
       "       [0.3339015 ],\n",
       "       [0.33280125],\n",
       "       [0.30960733],\n",
       "       [0.30520472],\n",
       "       [0.29578552],\n",
       "       [0.29113674],\n",
       "       [0.286189  ],\n",
       "       [0.2724249 ],\n",
       "       [0.2386553 ],\n",
       "       [0.21587963],\n",
       "       [0.20888685],\n",
       "       [0.09551232],\n",
       "       [0.12090119],\n",
       "       [0.15647547],\n",
       "       [0.17732432],\n",
       "       [0.17512034],\n",
       "       [0.18545473],\n",
       "       [0.20171638],\n",
       "       [0.19218288],\n",
       "       [0.17403775],\n",
       "       [0.16897252],\n",
       "       [0.15859935],\n",
       "       [0.13849308],\n",
       "       [0.11244881],\n",
       "       [0.13634215],\n",
       "       [0.16138905],\n",
       "       [0.18259107],\n",
       "       [0.15602103],\n",
       "       [0.13880435],\n",
       "       [0.29732624],\n",
       "       [0.36961952],\n",
       "       [0.3648937 ],\n",
       "       [0.35625386],\n",
       "       [0.3502451 ],\n",
       "       [0.3374734 ],\n",
       "       [0.34208825],\n",
       "       [0.3627178 ],\n",
       "       [0.37779725],\n",
       "       [0.39360777],\n",
       "       [0.42032915],\n",
       "       [0.42431942],\n",
       "       [0.42927504],\n",
       "       [0.4062084 ],\n",
       "       [0.4137028 ],\n",
       "       [0.40555134],\n",
       "       [0.40053147],\n",
       "       [0.4269921 ],\n",
       "       [0.44213247],\n",
       "       [0.4359404 ],\n",
       "       [0.42961115],\n",
       "       [0.40609166],\n",
       "       [0.403692  ],\n",
       "       [0.42764074],\n",
       "       [0.4031499 ],\n",
       "       [0.36167282],\n",
       "       [0.30934736]], dtype=float32)"
      ]
     },
     "execution_count": 193,
     "metadata": {},
     "output_type": "execute_result"
    }
   ],
   "source": [
    "y_pred"
   ]
  },
  {
   "cell_type": "code",
   "execution_count": 194,
   "id": "e8f0377b",
   "metadata": {},
   "outputs": [
    {
     "data": {
      "image/png": "[encoded data removed]",
      "text/plain": [
       "<Figure size 640x480 with 1 Axes>"
      ]
     },
     "metadata": {},
     "output_type": "display_data"
    }
   ],
   "source": [
    "plt.plot(y_test, label='Real')\n",
    "plt.plot(y_pred, label='Predicho')\n",
    "plt.xlabel('Dias')\n",
    "plt.ylabel('Energia Producida')\n",
    "plt.legend()\n",
    "plt.show()"
   ]
  },
  {
   "cell_type": "markdown",
   "id": "3b681ebb",
   "metadata": {},
   "source": [
    "## RNN por mes "
   ]
  },
  {
   "cell_type": "markdown",
   "id": "c9afd13c",
   "metadata": {},
   "source": [
    "El codigo está perfecto no tocarlo, solo cambiar nombres"
   ]
  },
  {
   "cell_type": "code",
   "execution_count": 52,
   "id": "13fc622b",
   "metadata": {},
   "outputs": [],
   "source": [
    "X = dataMes.drop(\"Demanda\", axis=1)\n",
    "y = dataMes[\"Demanda\"]"
   ]
  },
  {
   "cell_type": "code",
   "execution_count": 53,
   "id": "308e9fea",
   "metadata": {},
   "outputs": [],
   "source": [
    "from sklearn.preprocessing import MinMaxScaler\n",
    "scaler = MinMaxScaler()\n",
    "X = scaler.fit_transform(X)\n",
    "y = scaler.fit_transform(y.values.reshape(-1, 1))"
   ]
  },
  {
   "cell_type": "code",
   "execution_count": 54,
   "id": "951707e6",
   "metadata": {},
   "outputs": [],
   "source": [
    "from sklearn.model_selection import train_test_split\n",
    "X_train, X_test, y_train, y_test = train_test_split(X, y, test_size=0.2)"
   ]
  },
  {
   "cell_type": "code",
   "execution_count": 55,
   "id": "ea8227d0",
   "metadata": {},
   "outputs": [],
   "source": [
    "X_train = X_train.reshape(-1, 1, X_train.shape[1])\n",
    "X_test = X_test.reshape(-1, 1, X_test.shape[1])"
   ]
  },
  {
   "cell_type": "code",
   "execution_count": 56,
   "id": "a36ca8d7",
   "metadata": {},
   "outputs": [],
   "source": [
    "from keras.models import Sequential\n",
    "from keras.layers import LSTM, Dense\n",
    "model = Sequential()\n",
    "model.add(LSTM(32, input_shape=(X_train.shape[1], X_train.shape[2])))\n",
    "model.add(Dense(1))\n",
    "model.compile(loss='mean_squared_error', optimizer='adam')"
   ]
  },
  {
   "cell_type": "code",
   "execution_count": 57,
   "id": "8e58c1cb",
   "metadata": {},
   "outputs": [],
   "source": [
    "history = model.fit(X_train, y_train, epochs=50, batch_size=32, validation_data=(X_test, y_test), verbose=0)"
   ]
  },
  {
   "cell_type": "code",
   "execution_count": 58,
   "id": "7853cc45",
   "metadata": {},
   "outputs": [
    {
     "name": "stdout",
     "output_type": "stream",
     "text": [
      "Train Loss: 0.1067543625831604\n",
      "Test Loss: 0.16481725871562958\n"
     ]
    }
   ],
   "source": [
    "train_loss = model.evaluate(X_train, y_train, verbose=0)\n",
    "test_loss = model.evaluate(X_test, y_test, verbose=0)\n",
    "print(\"Train Loss:\", train_loss)\n",
    "print(\"Test Loss:\", test_loss)"
   ]
  },
  {
   "cell_type": "code",
   "execution_count": 59,
   "id": "37ac022f",
   "metadata": {},
   "outputs": [
    {
     "name": "stdout",
     "output_type": "stream",
     "text": [
      "1/1 [==============================] - 0s 377ms/step\n"
     ]
    }
   ],
   "source": [
    "y_pred = model.predict(X_test)"
   ]
  },
  {
   "cell_type": "code",
   "execution_count": 60,
   "id": "cd83fe51",
   "metadata": {},
   "outputs": [],
   "source": [
    "y_pred = scaler.inverse_transform(y_pred)\n",
    "y_test = scaler.inverse_transform(y_test)"
   ]
  },
  {
   "cell_type": "code",
   "execution_count": 61,
   "id": "17c41b26",
   "metadata": {},
   "outputs": [
    {
     "data": {
      "image/png": "[encoded data removed]",
      "text/plain": [
       "<Figure size 640x480 with 1 Axes>"
      ]
     },
     "metadata": {},
     "output_type": "display_data"
    }
   ],
   "source": [
    "plt.plot(y_test, label='Valor real')\n",
    "plt.plot(y_pred, label='Predicción')\n",
    "plt.legend()\n",
    "plt.show()"
   ]
  },
  {
   "cell_type": "code",
   "execution_count": 62,
   "id": "6a881f6c",
   "metadata": {},
   "outputs": [],
   "source": [
    "error = np.mean(np.abs((y_test - y_pred) / y_test)) * 100\n",
    "accuracy = 100 - error"
   ]
  },
  {
   "cell_type": "code",
   "execution_count": 63,
   "id": "08951cf6",
   "metadata": {},
   "outputs": [],
   "source": [
    "mse = np.mean((y_pred - y_test)**2)"
   ]
  },
  {
   "cell_type": "code",
   "execution_count": 64,
   "id": "66313a68",
   "metadata": {},
   "outputs": [
    {
     "data": {
      "text/plain": [
       "23.83849750478435"
      ]
     },
     "execution_count": 64,
     "metadata": {},
     "output_type": "execute_result"
    }
   ],
   "source": [
    "error"
   ]
  },
  {
   "cell_type": "code",
   "execution_count": 65,
   "id": "dad6c9bc",
   "metadata": {},
   "outputs": [
    {
     "data": {
      "text/plain": [
       "76.16150249521564"
      ]
     },
     "execution_count": 65,
     "metadata": {},
     "output_type": "execute_result"
    }
   ],
   "source": [
    "accuracy"
   ]
  },
  {
   "cell_type": "code",
   "execution_count": 66,
   "id": "21ebc8fb",
   "metadata": {},
   "outputs": [
    {
     "data": {
      "text/plain": [
       "23676839455195.367"
      ]
     },
     "execution_count": 66,
     "metadata": {},
     "output_type": "execute_result"
    }
   ],
   "source": [
    "mse"
   ]
  },
  {
   "cell_type": "code",
   "execution_count": null,
   "id": "88994042",
   "metadata": {},
   "outputs": [],
   "source": []
  }
 ],
 "metadata": {
  "kernelspec": {
   "display_name": "Python 3 (ipykernel)",
   "language": "python",
   "name": "python3"
  },
  "language_info": {
   "codemirror_mode": {
    "name": "ipython",
    "version": 3
   },
   "file_extension": ".py",
   "mimetype": "text/x-python",
   "name": "python",
   "nbconvert_exporter": "python",
   "pygments_lexer": "ipython3",
   "version": "3.9.13"
  }
 },
 "nbformat": 4,
 "nbformat_minor": 5
}
