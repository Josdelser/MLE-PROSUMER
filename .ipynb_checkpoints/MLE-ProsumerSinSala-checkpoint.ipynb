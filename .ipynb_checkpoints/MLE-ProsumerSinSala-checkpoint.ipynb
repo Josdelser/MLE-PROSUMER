{
 "cells": [
  {
   "cell_type": "code",
   "execution_count": 132,
   "id": "4be6cb07",
   "metadata": {},
   "outputs": [],
   "source": [
    "import pandas as pd\n",
    "import numpy as np\n",
    "import datetime\n",
    "import seaborn as sns\n",
    "import matplotlib.pyplot as plt\n",
    "sns.set()\n",
    "from sklearn.preprocessing import MinMaxScaler\n",
    "from sklearn.metrics import accuracy_score\n",
    "from statsmodels.tsa.stattools import adfuller\n",
    "from statsmodels.tsa.arima.model import ARIMA\n",
    "from sklearn.metrics import mean_squared_error\n",
    "from statsmodels.tsa.statespace.sarimax import SARIMAX\n",
    "import statsmodels.api as sm\n",
    "import warnings\n",
    "warnings.filterwarnings(\"ignore\")\n",
    "np.random.seed(1)\n",
    "from keras.models import Sequential\n",
    "from keras.layers import Dense\n",
    "from keras.layers import LSTM"
   ]
  },
  {
   "cell_type": "markdown",
   "id": "9dc5c512",
   "metadata": {},
   "source": [
    "# Importante"
   ]
  },
  {
   "cell_type": "markdown",
   "id": "82702c54",
   "metadata": {},
   "source": [
    "Para las redes neuronales estamos usandos Keras, el cual requiere de tensorflow en el back para poder usarse. Antes de correr ciertos algoritmos se deberá tener configurado el entorno. Tambien hay que instalar pmdarima\n",
    "\n",
    "pip install keras\n",
    "pip install tensorflow\n",
    "pip install pmdarima\n"
   ]
  },
  {
   "cell_type": "markdown",
   "id": "2289920a",
   "metadata": {},
   "source": [
    "Primero leemos los dataset por separado. Luego pasamos a dividir el problema en 5 partes: La primera y segunda será sobre la demanda donde se estudiará el consumo total del pais por horas y luego por dias, la tercera y cuarta lo mismo pero con los datos de produccion y la quitan será buscar relacion entre la demanda y la produccion incluyendo eventos que afecten a estos datos"
   ]
  },
  {
   "cell_type": "code",
   "execution_count": 133,
   "id": "70690a9e",
   "metadata": {},
   "outputs": [],
   "source": [
    "datosDemandaBruto = pd.read_csv(\"Demand13.csv\")\n",
    "datosProduccionBruto = pd.read_csv(\"Supply13.csv\")"
   ]
  },
  {
   "cell_type": "code",
   "execution_count": 134,
   "id": "063efde1",
   "metadata": {},
   "outputs": [
    {
     "name": "stdout",
     "output_type": "stream",
     "text": [
      "       Hours  Baghdad  Nynwa  Kirkuk  Slah El-Din  Anbar  Dyala  Babil  Kerb.  \\\n",
      "0          1     3294   1243     757          488    471    598    525    514   \n",
      "1          2     2973   1151     753          477    436    570    500    469   \n",
      "2          3     2758   1105     727          471    419    604    478    430   \n",
      "3          4     2703   1220     717          470    463    564    497    465   \n",
      "4          5     2954   1358     751          519    515    626    553    517   \n",
      "...      ...      ...    ...     ...          ...    ...    ...    ...    ...   \n",
      "26347     20     4894   1906    1206         1008    912   1112   1112    914   \n",
      "26348     21     4550   1798    1158          928    862   1047   1027    869   \n",
      "26349     22     4326   1683    1091          868    818   1001    972    807   \n",
      "26350     23     4090   1567     988          819    782    935    892    780   \n",
      "26351     24     3954   1465     942          780    750    879    838    728   \n",
      "\n",
      "       Najaf  Dywan.  Wasit  Muthnna  Thi-Qar  Mesan  Basrah  \n",
      "0        474     307    404      208      573    369    1254  \n",
      "1        437     284    374      193      536    342    1100  \n",
      "2        420     273    359      185      519    328    1056  \n",
      "3        451     301    397      204      522    363    1100  \n",
      "4        502     335    442      228      574    404    1298  \n",
      "...      ...     ...    ...      ...      ...    ...     ...  \n",
      "26347    885     683    885      390     1092    701    2025  \n",
      "26348    811     634    831      353      985    640    1883  \n",
      "26349    751     603    767      327      914    586    1809  \n",
      "26350    702     564    737      314      842    533    1675  \n",
      "26351    656     541    719      301      799    495    1494  \n",
      "\n",
      "[26352 rows x 16 columns]\n"
     ]
    },
    {
     "data": {
      "text/html": [
       "<div>\n",
       "<style scoped>\n",
       "    .dataframe tbody tr th:only-of-type {\n",
       "        vertical-align: middle;\n",
       "    }\n",
       "\n",
       "    .dataframe tbody tr th {\n",
       "        vertical-align: top;\n",
       "    }\n",
       "\n",
       "    .dataframe thead th {\n",
       "        text-align: right;\n",
       "    }\n",
       "</style>\n",
       "<table border=\"1\" class=\"dataframe\">\n",
       "  <thead>\n",
       "    <tr style=\"text-align: right;\">\n",
       "      <th></th>\n",
       "      <th>Hours</th>\n",
       "      <th>Baghdad</th>\n",
       "      <th>Nynwa</th>\n",
       "      <th>Kirkuk</th>\n",
       "      <th>Slah El-Din</th>\n",
       "      <th>Anbar</th>\n",
       "      <th>Dyala</th>\n",
       "      <th>Babil</th>\n",
       "      <th>Kerb.</th>\n",
       "      <th>Najaf</th>\n",
       "      <th>Dywan.</th>\n",
       "      <th>Wasit</th>\n",
       "      <th>Muthnna</th>\n",
       "      <th>Thi-Qar</th>\n",
       "      <th>Mesan</th>\n",
       "      <th>Basrah</th>\n",
       "    </tr>\n",
       "  </thead>\n",
       "  <tbody>\n",
       "    <tr>\n",
       "      <th>0</th>\n",
       "      <td>1</td>\n",
       "      <td>3294</td>\n",
       "      <td>1243</td>\n",
       "      <td>757</td>\n",
       "      <td>488</td>\n",
       "      <td>471</td>\n",
       "      <td>598</td>\n",
       "      <td>525</td>\n",
       "      <td>514</td>\n",
       "      <td>474</td>\n",
       "      <td>307</td>\n",
       "      <td>404</td>\n",
       "      <td>208</td>\n",
       "      <td>573</td>\n",
       "      <td>369</td>\n",
       "      <td>1254</td>\n",
       "    </tr>\n",
       "    <tr>\n",
       "      <th>1</th>\n",
       "      <td>2</td>\n",
       "      <td>2973</td>\n",
       "      <td>1151</td>\n",
       "      <td>753</td>\n",
       "      <td>477</td>\n",
       "      <td>436</td>\n",
       "      <td>570</td>\n",
       "      <td>500</td>\n",
       "      <td>469</td>\n",
       "      <td>437</td>\n",
       "      <td>284</td>\n",
       "      <td>374</td>\n",
       "      <td>193</td>\n",
       "      <td>536</td>\n",
       "      <td>342</td>\n",
       "      <td>1100</td>\n",
       "    </tr>\n",
       "    <tr>\n",
       "      <th>2</th>\n",
       "      <td>3</td>\n",
       "      <td>2758</td>\n",
       "      <td>1105</td>\n",
       "      <td>727</td>\n",
       "      <td>471</td>\n",
       "      <td>419</td>\n",
       "      <td>604</td>\n",
       "      <td>478</td>\n",
       "      <td>430</td>\n",
       "      <td>420</td>\n",
       "      <td>273</td>\n",
       "      <td>359</td>\n",
       "      <td>185</td>\n",
       "      <td>519</td>\n",
       "      <td>328</td>\n",
       "      <td>1056</td>\n",
       "    </tr>\n",
       "    <tr>\n",
       "      <th>3</th>\n",
       "      <td>4</td>\n",
       "      <td>2703</td>\n",
       "      <td>1220</td>\n",
       "      <td>717</td>\n",
       "      <td>470</td>\n",
       "      <td>463</td>\n",
       "      <td>564</td>\n",
       "      <td>497</td>\n",
       "      <td>465</td>\n",
       "      <td>451</td>\n",
       "      <td>301</td>\n",
       "      <td>397</td>\n",
       "      <td>204</td>\n",
       "      <td>522</td>\n",
       "      <td>363</td>\n",
       "      <td>1100</td>\n",
       "    </tr>\n",
       "    <tr>\n",
       "      <th>4</th>\n",
       "      <td>5</td>\n",
       "      <td>2954</td>\n",
       "      <td>1358</td>\n",
       "      <td>751</td>\n",
       "      <td>519</td>\n",
       "      <td>515</td>\n",
       "      <td>626</td>\n",
       "      <td>553</td>\n",
       "      <td>517</td>\n",
       "      <td>502</td>\n",
       "      <td>335</td>\n",
       "      <td>442</td>\n",
       "      <td>228</td>\n",
       "      <td>574</td>\n",
       "      <td>404</td>\n",
       "      <td>1298</td>\n",
       "    </tr>\n",
       "  </tbody>\n",
       "</table>\n",
       "</div>"
      ],
      "text/plain": [
       "   Hours  Baghdad  Nynwa  Kirkuk  Slah El-Din  Anbar  Dyala  Babil  Kerb.  \\\n",
       "0      1     3294   1243     757          488    471    598    525    514   \n",
       "1      2     2973   1151     753          477    436    570    500    469   \n",
       "2      3     2758   1105     727          471    419    604    478    430   \n",
       "3      4     2703   1220     717          470    463    564    497    465   \n",
       "4      5     2954   1358     751          519    515    626    553    517   \n",
       "\n",
       "   Najaf  Dywan.  Wasit  Muthnna  Thi-Qar  Mesan  Basrah  \n",
       "0    474     307    404      208      573    369    1254  \n",
       "1    437     284    374      193      536    342    1100  \n",
       "2    420     273    359      185      519    328    1056  \n",
       "3    451     301    397      204      522    363    1100  \n",
       "4    502     335    442      228      574    404    1298  "
      ]
     },
     "execution_count": 134,
     "metadata": {},
     "output_type": "execute_result"
    }
   ],
   "source": [
    "print(datosDemandaBruto)\n",
    "datosDemandaBruto.head()"
   ]
  },
  {
   "cell_type": "code",
   "execution_count": 135,
   "id": "b32754da",
   "metadata": {},
   "outputs": [
    {
     "name": "stdout",
     "output_type": "stream",
     "text": [
      "       Hours  Bagh.  Nynwa  Kirkuk  Slah El-Din  Anbar  Dyala  Babil  Kerb.  \\\n",
      "0          1   3294    740     668          488    394    598    525    514   \n",
      "1          2   2973    751     753          477    387    570    500    469   \n",
      "2          3   2758    760     727          471    374    604    478    430   \n",
      "3          4   2703    759     717          470    365    546    490    433   \n",
      "4          5   2794    727     751          470    374    578    539    472   \n",
      "...      ...    ...    ...     ...          ...    ...    ...    ...    ...   \n",
      "26347     20   3364    765     762          418    421    587    648    608   \n",
      "26348     21   3437    748     751          412    418    617    678    638   \n",
      "26349     22   3368    761     751          420    411    603    719    689   \n",
      "26350     23   3373    801     782          424    406    614    663    681   \n",
      "26351     24   3169    853     759          422    404    604    568    593   \n",
      "\n",
      "       Najaf  Dywan.  Wasit  Muthnna  Thi-Qar  Mesan  Basrah  \n",
      "0        474     246    397      185      573    294    1104  \n",
      "1        437     223    362      177      536    269    1030  \n",
      "2        420     210    347      169      519    229     956  \n",
      "3        420     202    350      172      522    232     953  \n",
      "4        449     246    389      191      574    275    1003  \n",
      "...      ...     ...    ...      ...      ...    ...     ...  \n",
      "26347    581     470    661      327      866    585    1691  \n",
      "26348    605     489    612      302      825    527    1580  \n",
      "26349    631     453    565      277      766    456    1450  \n",
      "26350    620     387    496      250      690    327    1288  \n",
      "26351    569     317    433      222      610    297    1180  \n",
      "\n",
      "[26352 rows x 16 columns]\n"
     ]
    },
    {
     "data": {
      "text/html": [
       "<div>\n",
       "<style scoped>\n",
       "    .dataframe tbody tr th:only-of-type {\n",
       "        vertical-align: middle;\n",
       "    }\n",
       "\n",
       "    .dataframe tbody tr th {\n",
       "        vertical-align: top;\n",
       "    }\n",
       "\n",
       "    .dataframe thead th {\n",
       "        text-align: right;\n",
       "    }\n",
       "</style>\n",
       "<table border=\"1\" class=\"dataframe\">\n",
       "  <thead>\n",
       "    <tr style=\"text-align: right;\">\n",
       "      <th></th>\n",
       "      <th>Hours</th>\n",
       "      <th>Bagh.</th>\n",
       "      <th>Nynwa</th>\n",
       "      <th>Kirkuk</th>\n",
       "      <th>Slah El-Din</th>\n",
       "      <th>Anbar</th>\n",
       "      <th>Dyala</th>\n",
       "      <th>Babil</th>\n",
       "      <th>Kerb.</th>\n",
       "      <th>Najaf</th>\n",
       "      <th>Dywan.</th>\n",
       "      <th>Wasit</th>\n",
       "      <th>Muthnna</th>\n",
       "      <th>Thi-Qar</th>\n",
       "      <th>Mesan</th>\n",
       "      <th>Basrah</th>\n",
       "    </tr>\n",
       "  </thead>\n",
       "  <tbody>\n",
       "    <tr>\n",
       "      <th>0</th>\n",
       "      <td>1</td>\n",
       "      <td>3294</td>\n",
       "      <td>740</td>\n",
       "      <td>668</td>\n",
       "      <td>488</td>\n",
       "      <td>394</td>\n",
       "      <td>598</td>\n",
       "      <td>525</td>\n",
       "      <td>514</td>\n",
       "      <td>474</td>\n",
       "      <td>246</td>\n",
       "      <td>397</td>\n",
       "      <td>185</td>\n",
       "      <td>573</td>\n",
       "      <td>294</td>\n",
       "      <td>1104</td>\n",
       "    </tr>\n",
       "    <tr>\n",
       "      <th>1</th>\n",
       "      <td>2</td>\n",
       "      <td>2973</td>\n",
       "      <td>751</td>\n",
       "      <td>753</td>\n",
       "      <td>477</td>\n",
       "      <td>387</td>\n",
       "      <td>570</td>\n",
       "      <td>500</td>\n",
       "      <td>469</td>\n",
       "      <td>437</td>\n",
       "      <td>223</td>\n",
       "      <td>362</td>\n",
       "      <td>177</td>\n",
       "      <td>536</td>\n",
       "      <td>269</td>\n",
       "      <td>1030</td>\n",
       "    </tr>\n",
       "    <tr>\n",
       "      <th>2</th>\n",
       "      <td>3</td>\n",
       "      <td>2758</td>\n",
       "      <td>760</td>\n",
       "      <td>727</td>\n",
       "      <td>471</td>\n",
       "      <td>374</td>\n",
       "      <td>604</td>\n",
       "      <td>478</td>\n",
       "      <td>430</td>\n",
       "      <td>420</td>\n",
       "      <td>210</td>\n",
       "      <td>347</td>\n",
       "      <td>169</td>\n",
       "      <td>519</td>\n",
       "      <td>229</td>\n",
       "      <td>956</td>\n",
       "    </tr>\n",
       "    <tr>\n",
       "      <th>3</th>\n",
       "      <td>4</td>\n",
       "      <td>2703</td>\n",
       "      <td>759</td>\n",
       "      <td>717</td>\n",
       "      <td>470</td>\n",
       "      <td>365</td>\n",
       "      <td>546</td>\n",
       "      <td>490</td>\n",
       "      <td>433</td>\n",
       "      <td>420</td>\n",
       "      <td>202</td>\n",
       "      <td>350</td>\n",
       "      <td>172</td>\n",
       "      <td>522</td>\n",
       "      <td>232</td>\n",
       "      <td>953</td>\n",
       "    </tr>\n",
       "    <tr>\n",
       "      <th>4</th>\n",
       "      <td>5</td>\n",
       "      <td>2794</td>\n",
       "      <td>727</td>\n",
       "      <td>751</td>\n",
       "      <td>470</td>\n",
       "      <td>374</td>\n",
       "      <td>578</td>\n",
       "      <td>539</td>\n",
       "      <td>472</td>\n",
       "      <td>449</td>\n",
       "      <td>246</td>\n",
       "      <td>389</td>\n",
       "      <td>191</td>\n",
       "      <td>574</td>\n",
       "      <td>275</td>\n",
       "      <td>1003</td>\n",
       "    </tr>\n",
       "  </tbody>\n",
       "</table>\n",
       "</div>"
      ],
      "text/plain": [
       "   Hours  Bagh.  Nynwa  Kirkuk  Slah El-Din  Anbar  Dyala  Babil  Kerb.  \\\n",
       "0      1   3294    740     668          488    394    598    525    514   \n",
       "1      2   2973    751     753          477    387    570    500    469   \n",
       "2      3   2758    760     727          471    374    604    478    430   \n",
       "3      4   2703    759     717          470    365    546    490    433   \n",
       "4      5   2794    727     751          470    374    578    539    472   \n",
       "\n",
       "   Najaf  Dywan.  Wasit  Muthnna  Thi-Qar  Mesan  Basrah  \n",
       "0    474     246    397      185      573    294    1104  \n",
       "1    437     223    362      177      536    269    1030  \n",
       "2    420     210    347      169      519    229     956  \n",
       "3    420     202    350      172      522    232     953  \n",
       "4    449     246    389      191      574    275    1003  "
      ]
     },
     "execution_count": 135,
     "metadata": {},
     "output_type": "execute_result"
    }
   ],
   "source": [
    "print(datosProduccionBruto)\n",
    "datosProduccionBruto.head()"
   ]
  },
  {
   "cell_type": "markdown",
   "id": "a5d2a49e",
   "metadata": {},
   "source": [
    "Para el total de horas sumaremos el valor de todas las columna, ya que cada columna representa el valor de cada provincia, creando una nueva columna con esto mismo. PODEMOS CREAR OTRO DATASET O DEJARLO AQUI Y VER QUE PROVINCIA ES LA QUE MAS AFECTA A ESTOS DATOS."
   ]
  },
  {
   "cell_type": "code",
   "execution_count": 136,
   "id": "6bde4e90",
   "metadata": {},
   "outputs": [],
   "source": [
    "datosDemandaTotalHoras = pd.DataFrame()\n",
    "datosProduccionTotalHoras = pd.DataFrame()"
   ]
  },
  {
   "cell_type": "code",
   "execution_count": 137,
   "id": "51d15e55",
   "metadata": {},
   "outputs": [],
   "source": [
    "datosDemandaTotalHoras[\"total\"] = datosDemandaBruto.iloc[:, 1:].sum(axis=1)\n",
    "datosProduccionTotalHoras[\"total\"] = datosProduccionBruto.iloc[:, 1:].sum(axis=1)"
   ]
  },
  {
   "cell_type": "code",
   "execution_count": 138,
   "id": "27759597",
   "metadata": {},
   "outputs": [],
   "source": [
    "datosDemandaTotalHoras[\"Hours\"] = datosDemandaBruto[\"Hours\"]\n",
    "datosProduccionTotalHoras[\"Hours\"] = datosProduccionBruto[\"Hours\"]"
   ]
  },
  {
   "cell_type": "code",
   "execution_count": 139,
   "id": "adc47800",
   "metadata": {},
   "outputs": [],
   "source": [
    "datosDemandaTotalSinHoras = pd.DataFrame()\n",
    "datosProduccionTotalSinHoras = pd.DataFrame()"
   ]
  },
  {
   "cell_type": "code",
   "execution_count": 140,
   "id": "fd5ec50e",
   "metadata": {},
   "outputs": [],
   "source": [
    "datosDemandaTotalSinHoras[\"total\"] = datosDemandaBruto.iloc[:, 1:].sum(axis=1)\n",
    "datosProduccionTotalSinHoras[\"total\"] = datosProduccionBruto.iloc[:, 1:].sum(axis=1)"
   ]
  },
  {
   "cell_type": "code",
   "execution_count": 141,
   "id": "1d035f16",
   "metadata": {},
   "outputs": [
    {
     "data": {
      "text/html": [
       "<div>\n",
       "<style scoped>\n",
       "    .dataframe tbody tr th:only-of-type {\n",
       "        vertical-align: middle;\n",
       "    }\n",
       "\n",
       "    .dataframe tbody tr th {\n",
       "        vertical-align: top;\n",
       "    }\n",
       "\n",
       "    .dataframe thead th {\n",
       "        text-align: right;\n",
       "    }\n",
       "</style>\n",
       "<table border=\"1\" class=\"dataframe\">\n",
       "  <thead>\n",
       "    <tr style=\"text-align: right;\">\n",
       "      <th></th>\n",
       "      <th>total</th>\n",
       "      <th>Hours</th>\n",
       "    </tr>\n",
       "  </thead>\n",
       "  <tbody>\n",
       "    <tr>\n",
       "      <th>0</th>\n",
       "      <td>11479</td>\n",
       "      <td>1</td>\n",
       "    </tr>\n",
       "    <tr>\n",
       "      <th>1</th>\n",
       "      <td>10595</td>\n",
       "      <td>2</td>\n",
       "    </tr>\n",
       "    <tr>\n",
       "      <th>2</th>\n",
       "      <td>10132</td>\n",
       "      <td>3</td>\n",
       "    </tr>\n",
       "    <tr>\n",
       "      <th>3</th>\n",
       "      <td>10437</td>\n",
       "      <td>4</td>\n",
       "    </tr>\n",
       "    <tr>\n",
       "      <th>4</th>\n",
       "      <td>11576</td>\n",
       "      <td>5</td>\n",
       "    </tr>\n",
       "  </tbody>\n",
       "</table>\n",
       "</div>"
      ],
      "text/plain": [
       "   total  Hours\n",
       "0  11479      1\n",
       "1  10595      2\n",
       "2  10132      3\n",
       "3  10437      4\n",
       "4  11576      5"
      ]
     },
     "execution_count": 141,
     "metadata": {},
     "output_type": "execute_result"
    }
   ],
   "source": [
    "datosDemandaTotalHoras.head()\n"
   ]
  },
  {
   "cell_type": "code",
   "execution_count": 142,
   "id": "1de599e2",
   "metadata": {},
   "outputs": [
    {
     "data": {
      "text/html": [
       "<div>\n",
       "<style scoped>\n",
       "    .dataframe tbody tr th:only-of-type {\n",
       "        vertical-align: middle;\n",
       "    }\n",
       "\n",
       "    .dataframe tbody tr th {\n",
       "        vertical-align: top;\n",
       "    }\n",
       "\n",
       "    .dataframe thead th {\n",
       "        text-align: right;\n",
       "    }\n",
       "</style>\n",
       "<table border=\"1\" class=\"dataframe\">\n",
       "  <thead>\n",
       "    <tr style=\"text-align: right;\">\n",
       "      <th></th>\n",
       "      <th>total</th>\n",
       "    </tr>\n",
       "  </thead>\n",
       "  <tbody>\n",
       "    <tr>\n",
       "      <th>0</th>\n",
       "      <td>11479</td>\n",
       "    </tr>\n",
       "    <tr>\n",
       "      <th>1</th>\n",
       "      <td>10595</td>\n",
       "    </tr>\n",
       "    <tr>\n",
       "      <th>2</th>\n",
       "      <td>10132</td>\n",
       "    </tr>\n",
       "    <tr>\n",
       "      <th>3</th>\n",
       "      <td>10437</td>\n",
       "    </tr>\n",
       "    <tr>\n",
       "      <th>4</th>\n",
       "      <td>11576</td>\n",
       "    </tr>\n",
       "  </tbody>\n",
       "</table>\n",
       "</div>"
      ],
      "text/plain": [
       "   total\n",
       "0  11479\n",
       "1  10595\n",
       "2  10132\n",
       "3  10437\n",
       "4  11576"
      ]
     },
     "execution_count": 142,
     "metadata": {},
     "output_type": "execute_result"
    }
   ],
   "source": [
    "datosDemandaTotalSinHoras.head()"
   ]
  },
  {
   "cell_type": "markdown",
   "id": "c18e8d9d",
   "metadata": {},
   "source": [
    "Ahora partimos de un nuevo dataset el cual tiene una columna con las demanda/produccion por horas, es decir cada fila es una hora y cada 24 filas es un día. Una vez tenemos estos dos dataset, vamos a pasar estas horas a dias para tener los otros dos dataset faltantes."
   ]
  },
  {
   "cell_type": "code",
   "execution_count": 143,
   "id": "28935f02",
   "metadata": {},
   "outputs": [],
   "source": [
    "suma_24_demanda = []\n",
    "suma_24_produccion = []"
   ]
  },
  {
   "cell_type": "code",
   "execution_count": 144,
   "id": "bd31d318",
   "metadata": {},
   "outputs": [],
   "source": [
    "for i in range(0, len(datosDemandaTotalSinHoras), 24):\n",
    "    end = i + 24\n",
    "    if end > len(datosDemandaTotalSinHoras):\n",
    "        end = len(datosDemandaTotalSinHoras)\n",
    "    suma_24_demanda.append(datosDemandaTotalSinHoras[i:end].sum(axis=0).sum())"
   ]
  },
  {
   "cell_type": "code",
   "execution_count": 145,
   "id": "f3a33be9",
   "metadata": {},
   "outputs": [],
   "source": [
    "for i in range(0, len(datosProduccionTotalSinHoras), 24):\n",
    "    end = i + 24\n",
    "    if end > len(datosProduccionTotalSinHoras):\n",
    "        end = len(datosProduccionTotalSinHoras)\n",
    "    suma_24_produccion.append(datosProduccionTotalSinHoras[i:end].sum(axis=0).sum())"
   ]
  },
  {
   "cell_type": "code",
   "execution_count": 146,
   "id": "0e37a9d5",
   "metadata": {},
   "outputs": [],
   "source": [
    "datosDemandaTotalDias = pd.DataFrame({'Total': suma_24_demanda})\n",
    "datosProduccionTotalDias = pd.DataFrame({'Total': suma_24_produccion})"
   ]
  },
  {
   "cell_type": "code",
   "execution_count": 147,
   "id": "59b07e5d",
   "metadata": {},
   "outputs": [],
   "source": [
    "diasDemanda = pd.date_range(start='2019-01-01', periods=len(suma_24_demanda), freq='D')\n",
    "diasProduccion = pd.date_range(start='2019-01-01', periods=len(suma_24_produccion), freq='D')"
   ]
  },
  {
   "cell_type": "code",
   "execution_count": 148,
   "id": "6e7124b1",
   "metadata": {},
   "outputs": [],
   "source": [
    "datosDemandaTotalDias[\"fecha\"] = diasDemanda\n",
    "datosProduccionTotalDias[\"fecha\"] = diasProduccion"
   ]
  },
  {
   "cell_type": "markdown",
   "id": "7d26d624",
   "metadata": {},
   "source": [
    "Despues de hacer todas estas transformaciones ya tenemos los 4 dataset que queremos: datosDemandaTotalHoras/datosProduccionTotalHoras los cuales tiene la produccion total por ahora y datosDemandaTotalDias/datosProduccionTotalDias los cuales tienen la produccion por dias"
   ]
  },
  {
   "cell_type": "code",
   "execution_count": 149,
   "id": "b6ebc2b1",
   "metadata": {},
   "outputs": [
    {
     "data": {
      "text/html": [
       "<div>\n",
       "<style scoped>\n",
       "    .dataframe tbody tr th:only-of-type {\n",
       "        vertical-align: middle;\n",
       "    }\n",
       "\n",
       "    .dataframe tbody tr th {\n",
       "        vertical-align: top;\n",
       "    }\n",
       "\n",
       "    .dataframe thead th {\n",
       "        text-align: right;\n",
       "    }\n",
       "</style>\n",
       "<table border=\"1\" class=\"dataframe\">\n",
       "  <thead>\n",
       "    <tr style=\"text-align: right;\">\n",
       "      <th></th>\n",
       "      <th>total</th>\n",
       "      <th>Hours</th>\n",
       "    </tr>\n",
       "  </thead>\n",
       "  <tbody>\n",
       "    <tr>\n",
       "      <th>0</th>\n",
       "      <td>11479</td>\n",
       "      <td>1</td>\n",
       "    </tr>\n",
       "    <tr>\n",
       "      <th>1</th>\n",
       "      <td>10595</td>\n",
       "      <td>2</td>\n",
       "    </tr>\n",
       "    <tr>\n",
       "      <th>2</th>\n",
       "      <td>10132</td>\n",
       "      <td>3</td>\n",
       "    </tr>\n",
       "    <tr>\n",
       "      <th>3</th>\n",
       "      <td>10437</td>\n",
       "      <td>4</td>\n",
       "    </tr>\n",
       "    <tr>\n",
       "      <th>4</th>\n",
       "      <td>11576</td>\n",
       "      <td>5</td>\n",
       "    </tr>\n",
       "  </tbody>\n",
       "</table>\n",
       "</div>"
      ],
      "text/plain": [
       "   total  Hours\n",
       "0  11479      1\n",
       "1  10595      2\n",
       "2  10132      3\n",
       "3  10437      4\n",
       "4  11576      5"
      ]
     },
     "execution_count": 149,
     "metadata": {},
     "output_type": "execute_result"
    }
   ],
   "source": [
    "datosDemandaTotalHoras.head()\n"
   ]
  },
  {
   "cell_type": "code",
   "execution_count": 150,
   "id": "867da621",
   "metadata": {},
   "outputs": [
    {
     "data": {
      "text/html": [
       "<div>\n",
       "<style scoped>\n",
       "    .dataframe tbody tr th:only-of-type {\n",
       "        vertical-align: middle;\n",
       "    }\n",
       "\n",
       "    .dataframe tbody tr th {\n",
       "        vertical-align: top;\n",
       "    }\n",
       "\n",
       "    .dataframe thead th {\n",
       "        text-align: right;\n",
       "    }\n",
       "</style>\n",
       "<table border=\"1\" class=\"dataframe\">\n",
       "  <thead>\n",
       "    <tr style=\"text-align: right;\">\n",
       "      <th></th>\n",
       "      <th>total</th>\n",
       "      <th>Hours</th>\n",
       "    </tr>\n",
       "  </thead>\n",
       "  <tbody>\n",
       "    <tr>\n",
       "      <th>0</th>\n",
       "      <td>10494</td>\n",
       "      <td>1</td>\n",
       "    </tr>\n",
       "    <tr>\n",
       "      <th>1</th>\n",
       "      <td>9914</td>\n",
       "      <td>2</td>\n",
       "    </tr>\n",
       "    <tr>\n",
       "      <th>2</th>\n",
       "      <td>9452</td>\n",
       "      <td>3</td>\n",
       "    </tr>\n",
       "    <tr>\n",
       "      <th>3</th>\n",
       "      <td>9334</td>\n",
       "      <td>4</td>\n",
       "    </tr>\n",
       "    <tr>\n",
       "      <th>4</th>\n",
       "      <td>9832</td>\n",
       "      <td>5</td>\n",
       "    </tr>\n",
       "  </tbody>\n",
       "</table>\n",
       "</div>"
      ],
      "text/plain": [
       "   total  Hours\n",
       "0  10494      1\n",
       "1   9914      2\n",
       "2   9452      3\n",
       "3   9334      4\n",
       "4   9832      5"
      ]
     },
     "execution_count": 150,
     "metadata": {},
     "output_type": "execute_result"
    }
   ],
   "source": [
    "datosProduccionTotalHoras.head()"
   ]
  },
  {
   "cell_type": "code",
   "execution_count": 151,
   "id": "ff13d765",
   "metadata": {},
   "outputs": [
    {
     "data": {
      "text/html": [
       "<div>\n",
       "<style scoped>\n",
       "    .dataframe tbody tr th:only-of-type {\n",
       "        vertical-align: middle;\n",
       "    }\n",
       "\n",
       "    .dataframe tbody tr th {\n",
       "        vertical-align: top;\n",
       "    }\n",
       "\n",
       "    .dataframe thead th {\n",
       "        text-align: right;\n",
       "    }\n",
       "</style>\n",
       "<table border=\"1\" class=\"dataframe\">\n",
       "  <thead>\n",
       "    <tr style=\"text-align: right;\">\n",
       "      <th></th>\n",
       "      <th>Total</th>\n",
       "      <th>fecha</th>\n",
       "    </tr>\n",
       "  </thead>\n",
       "  <tbody>\n",
       "    <tr>\n",
       "      <th>0</th>\n",
       "      <td>379726</td>\n",
       "      <td>2019-01-01</td>\n",
       "    </tr>\n",
       "    <tr>\n",
       "      <th>1</th>\n",
       "      <td>383590</td>\n",
       "      <td>2019-01-02</td>\n",
       "    </tr>\n",
       "    <tr>\n",
       "      <th>2</th>\n",
       "      <td>378901</td>\n",
       "      <td>2019-01-03</td>\n",
       "    </tr>\n",
       "    <tr>\n",
       "      <th>3</th>\n",
       "      <td>378180</td>\n",
       "      <td>2019-01-04</td>\n",
       "    </tr>\n",
       "    <tr>\n",
       "      <th>4</th>\n",
       "      <td>385805</td>\n",
       "      <td>2019-01-05</td>\n",
       "    </tr>\n",
       "  </tbody>\n",
       "</table>\n",
       "</div>"
      ],
      "text/plain": [
       "    Total      fecha\n",
       "0  379726 2019-01-01\n",
       "1  383590 2019-01-02\n",
       "2  378901 2019-01-03\n",
       "3  378180 2019-01-04\n",
       "4  385805 2019-01-05"
      ]
     },
     "execution_count": 151,
     "metadata": {},
     "output_type": "execute_result"
    }
   ],
   "source": [
    "datosDemandaTotalDias.head()"
   ]
  },
  {
   "cell_type": "code",
   "execution_count": 152,
   "id": "ce430d2b",
   "metadata": {},
   "outputs": [
    {
     "data": {
      "text/html": [
       "<div>\n",
       "<style scoped>\n",
       "    .dataframe tbody tr th:only-of-type {\n",
       "        vertical-align: middle;\n",
       "    }\n",
       "\n",
       "    .dataframe tbody tr th {\n",
       "        vertical-align: top;\n",
       "    }\n",
       "\n",
       "    .dataframe thead th {\n",
       "        text-align: right;\n",
       "    }\n",
       "</style>\n",
       "<table border=\"1\" class=\"dataframe\">\n",
       "  <thead>\n",
       "    <tr style=\"text-align: right;\">\n",
       "      <th></th>\n",
       "      <th>Total</th>\n",
       "      <th>fecha</th>\n",
       "    </tr>\n",
       "  </thead>\n",
       "  <tbody>\n",
       "    <tr>\n",
       "      <th>0</th>\n",
       "      <td>289005</td>\n",
       "      <td>2019-01-01</td>\n",
       "    </tr>\n",
       "    <tr>\n",
       "      <th>1</th>\n",
       "      <td>288843</td>\n",
       "      <td>2019-01-02</td>\n",
       "    </tr>\n",
       "    <tr>\n",
       "      <th>2</th>\n",
       "      <td>283581</td>\n",
       "      <td>2019-01-03</td>\n",
       "    </tr>\n",
       "    <tr>\n",
       "      <th>3</th>\n",
       "      <td>285621</td>\n",
       "      <td>2019-01-04</td>\n",
       "    </tr>\n",
       "    <tr>\n",
       "      <th>4</th>\n",
       "      <td>283991</td>\n",
       "      <td>2019-01-05</td>\n",
       "    </tr>\n",
       "  </tbody>\n",
       "</table>\n",
       "</div>"
      ],
      "text/plain": [
       "    Total      fecha\n",
       "0  289005 2019-01-01\n",
       "1  288843 2019-01-02\n",
       "2  283581 2019-01-03\n",
       "3  285621 2019-01-04\n",
       "4  283991 2019-01-05"
      ]
     },
     "execution_count": 152,
     "metadata": {},
     "output_type": "execute_result"
    }
   ],
   "source": [
    "datosProduccionTotalDias.head()"
   ]
  },
  {
   "cell_type": "code",
   "execution_count": 153,
   "id": "7917123e",
   "metadata": {},
   "outputs": [],
   "source": [
    "data = pd.merge(datosDemandaTotalDias, datosProduccionTotalDias, on='fecha')"
   ]
  },
  {
   "cell_type": "code",
   "execution_count": 154,
   "id": "8226629d",
   "metadata": {},
   "outputs": [],
   "source": [
    "data = data.rename(columns={'Total_x': 'Demanda','Total_y': 'Produccion'})"
   ]
  },
  {
   "cell_type": "code",
   "execution_count": 155,
   "id": "4b39f50d",
   "metadata": {},
   "outputs": [],
   "source": [
    "data = data.set_index('fecha')"
   ]
  },
  {
   "cell_type": "code",
   "execution_count": 156,
   "id": "3066fdb7",
   "metadata": {},
   "outputs": [
    {
     "data": {
      "text/html": [
       "<div>\n",
       "<style scoped>\n",
       "    .dataframe tbody tr th:only-of-type {\n",
       "        vertical-align: middle;\n",
       "    }\n",
       "\n",
       "    .dataframe tbody tr th {\n",
       "        vertical-align: top;\n",
       "    }\n",
       "\n",
       "    .dataframe thead th {\n",
       "        text-align: right;\n",
       "    }\n",
       "</style>\n",
       "<table border=\"1\" class=\"dataframe\">\n",
       "  <thead>\n",
       "    <tr style=\"text-align: right;\">\n",
       "      <th></th>\n",
       "      <th>Demanda</th>\n",
       "      <th>Produccion</th>\n",
       "    </tr>\n",
       "    <tr>\n",
       "      <th>fecha</th>\n",
       "      <th></th>\n",
       "      <th></th>\n",
       "    </tr>\n",
       "  </thead>\n",
       "  <tbody>\n",
       "    <tr>\n",
       "      <th>2019-01-01</th>\n",
       "      <td>379726</td>\n",
       "      <td>289005</td>\n",
       "    </tr>\n",
       "    <tr>\n",
       "      <th>2019-01-02</th>\n",
       "      <td>383590</td>\n",
       "      <td>288843</td>\n",
       "    </tr>\n",
       "    <tr>\n",
       "      <th>2019-01-03</th>\n",
       "      <td>378901</td>\n",
       "      <td>283581</td>\n",
       "    </tr>\n",
       "    <tr>\n",
       "      <th>2019-01-04</th>\n",
       "      <td>378180</td>\n",
       "      <td>285621</td>\n",
       "    </tr>\n",
       "    <tr>\n",
       "      <th>2019-01-05</th>\n",
       "      <td>385805</td>\n",
       "      <td>283991</td>\n",
       "    </tr>\n",
       "    <tr>\n",
       "      <th>...</th>\n",
       "      <td>...</td>\n",
       "      <td>...</td>\n",
       "    </tr>\n",
       "    <tr>\n",
       "      <th>2021-12-29</th>\n",
       "      <td>411592</td>\n",
       "      <td>261122</td>\n",
       "    </tr>\n",
       "    <tr>\n",
       "      <th>2021-12-30</th>\n",
       "      <td>378184</td>\n",
       "      <td>248905</td>\n",
       "    </tr>\n",
       "    <tr>\n",
       "      <th>2021-12-31</th>\n",
       "      <td>414996</td>\n",
       "      <td>257533</td>\n",
       "    </tr>\n",
       "    <tr>\n",
       "      <th>2022-01-01</th>\n",
       "      <td>437452</td>\n",
       "      <td>272710</td>\n",
       "    </tr>\n",
       "    <tr>\n",
       "      <th>2022-01-02</th>\n",
       "      <td>417780</td>\n",
       "      <td>277922</td>\n",
       "    </tr>\n",
       "  </tbody>\n",
       "</table>\n",
       "<p>1098 rows × 2 columns</p>\n",
       "</div>"
      ],
      "text/plain": [
       "            Demanda  Produccion\n",
       "fecha                          \n",
       "2019-01-01   379726      289005\n",
       "2019-01-02   383590      288843\n",
       "2019-01-03   378901      283581\n",
       "2019-01-04   378180      285621\n",
       "2019-01-05   385805      283991\n",
       "...             ...         ...\n",
       "2021-12-29   411592      261122\n",
       "2021-12-30   378184      248905\n",
       "2021-12-31   414996      257533\n",
       "2022-01-01   437452      272710\n",
       "2022-01-02   417780      277922\n",
       "\n",
       "[1098 rows x 2 columns]"
      ]
     },
     "execution_count": 156,
     "metadata": {},
     "output_type": "execute_result"
    }
   ],
   "source": [
    "data"
   ]
  },
  {
   "cell_type": "code",
   "execution_count": 157,
   "id": "62a1910a",
   "metadata": {},
   "outputs": [],
   "source": [
    "estaciones = {\n",
    "    1: 'Invierno',\n",
    "    2: 'Invierno',\n",
    "    3: 'Invierno',\n",
    "    4: 'Primavera',\n",
    "    5: 'Primavera',\n",
    "    6: 'Verano',\n",
    "    7: 'Verano',\n",
    "    8: 'Verano',\n",
    "    9: 'Verano',\n",
    "    10: 'Otoño',\n",
    "    11: 'Otoño',\n",
    "    12: 'Invierno'\n",
    "}"
   ]
  },
  {
   "cell_type": "code",
   "execution_count": 158,
   "id": "b07e3b51",
   "metadata": {},
   "outputs": [],
   "source": [
    "dataEstacion = data.copy()"
   ]
  },
  {
   "cell_type": "code",
   "execution_count": 159,
   "id": "81c333d3",
   "metadata": {},
   "outputs": [],
   "source": [
    "dataEstacion['estacion'] = dataEstacion.index.month.map(estaciones)"
   ]
  },
  {
   "cell_type": "code",
   "execution_count": 160,
   "id": "f26735f4",
   "metadata": {},
   "outputs": [
    {
     "name": "stdout",
     "output_type": "stream",
     "text": [
      "<class 'pandas.core.frame.DataFrame'>\n",
      "DatetimeIndex: 1098 entries, 2019-01-01 to 2022-01-02\n",
      "Data columns (total 3 columns):\n",
      " #   Column      Non-Null Count  Dtype \n",
      "---  ------      --------------  ----- \n",
      " 0   Demanda     1098 non-null   int64 \n",
      " 1   Produccion  1098 non-null   int64 \n",
      " 2   estacion    1098 non-null   object\n",
      "dtypes: int64(2), object(1)\n",
      "memory usage: 34.3+ KB\n"
     ]
    }
   ],
   "source": [
    "dataEstacion.info()"
   ]
  },
  {
   "cell_type": "code",
   "execution_count": 161,
   "id": "18e03f73",
   "metadata": {},
   "outputs": [
    {
     "data": {
      "text/html": [
       "<div>\n",
       "<style scoped>\n",
       "    .dataframe tbody tr th:only-of-type {\n",
       "        vertical-align: middle;\n",
       "    }\n",
       "\n",
       "    .dataframe tbody tr th {\n",
       "        vertical-align: top;\n",
       "    }\n",
       "\n",
       "    .dataframe thead th {\n",
       "        text-align: right;\n",
       "    }\n",
       "</style>\n",
       "<table border=\"1\" class=\"dataframe\">\n",
       "  <thead>\n",
       "    <tr style=\"text-align: right;\">\n",
       "      <th></th>\n",
       "      <th>Demanda</th>\n",
       "      <th>Produccion</th>\n",
       "      <th>estacion</th>\n",
       "    </tr>\n",
       "    <tr>\n",
       "      <th>fecha</th>\n",
       "      <th></th>\n",
       "      <th></th>\n",
       "      <th></th>\n",
       "    </tr>\n",
       "  </thead>\n",
       "  <tbody>\n",
       "    <tr>\n",
       "      <th>2019-01-01</th>\n",
       "      <td>379726</td>\n",
       "      <td>289005</td>\n",
       "      <td>Invierno</td>\n",
       "    </tr>\n",
       "    <tr>\n",
       "      <th>2019-01-02</th>\n",
       "      <td>383590</td>\n",
       "      <td>288843</td>\n",
       "      <td>Invierno</td>\n",
       "    </tr>\n",
       "    <tr>\n",
       "      <th>2019-01-03</th>\n",
       "      <td>378901</td>\n",
       "      <td>283581</td>\n",
       "      <td>Invierno</td>\n",
       "    </tr>\n",
       "    <tr>\n",
       "      <th>2019-01-04</th>\n",
       "      <td>378180</td>\n",
       "      <td>285621</td>\n",
       "      <td>Invierno</td>\n",
       "    </tr>\n",
       "    <tr>\n",
       "      <th>2019-01-05</th>\n",
       "      <td>385805</td>\n",
       "      <td>283991</td>\n",
       "      <td>Invierno</td>\n",
       "    </tr>\n",
       "    <tr>\n",
       "      <th>...</th>\n",
       "      <td>...</td>\n",
       "      <td>...</td>\n",
       "      <td>...</td>\n",
       "    </tr>\n",
       "    <tr>\n",
       "      <th>2021-12-29</th>\n",
       "      <td>411592</td>\n",
       "      <td>261122</td>\n",
       "      <td>Invierno</td>\n",
       "    </tr>\n",
       "    <tr>\n",
       "      <th>2021-12-30</th>\n",
       "      <td>378184</td>\n",
       "      <td>248905</td>\n",
       "      <td>Invierno</td>\n",
       "    </tr>\n",
       "    <tr>\n",
       "      <th>2021-12-31</th>\n",
       "      <td>414996</td>\n",
       "      <td>257533</td>\n",
       "      <td>Invierno</td>\n",
       "    </tr>\n",
       "    <tr>\n",
       "      <th>2022-01-01</th>\n",
       "      <td>437452</td>\n",
       "      <td>272710</td>\n",
       "      <td>Invierno</td>\n",
       "    </tr>\n",
       "    <tr>\n",
       "      <th>2022-01-02</th>\n",
       "      <td>417780</td>\n",
       "      <td>277922</td>\n",
       "      <td>Invierno</td>\n",
       "    </tr>\n",
       "  </tbody>\n",
       "</table>\n",
       "<p>1098 rows × 3 columns</p>\n",
       "</div>"
      ],
      "text/plain": [
       "            Demanda  Produccion  estacion\n",
       "fecha                                    \n",
       "2019-01-01   379726      289005  Invierno\n",
       "2019-01-02   383590      288843  Invierno\n",
       "2019-01-03   378901      283581  Invierno\n",
       "2019-01-04   378180      285621  Invierno\n",
       "2019-01-05   385805      283991  Invierno\n",
       "...             ...         ...       ...\n",
       "2021-12-29   411592      261122  Invierno\n",
       "2021-12-30   378184      248905  Invierno\n",
       "2021-12-31   414996      257533  Invierno\n",
       "2022-01-01   437452      272710  Invierno\n",
       "2022-01-02   417780      277922  Invierno\n",
       "\n",
       "[1098 rows x 3 columns]"
      ]
     },
     "execution_count": 161,
     "metadata": {},
     "output_type": "execute_result"
    }
   ],
   "source": [
    "dataEstacion"
   ]
  },
  {
   "cell_type": "code",
   "execution_count": 162,
   "id": "d29bb857",
   "metadata": {},
   "outputs": [
    {
     "data": {
      "text/plain": [
       "estacion\n",
       "Invierno     368132.762295\n",
       "Otoño        342338.863388\n",
       "Primavera    365714.278689\n",
       "Verano       540844.855191\n",
       "Name: Demanda, dtype: float64"
      ]
     },
     "execution_count": 162,
     "metadata": {},
     "output_type": "execute_result"
    }
   ],
   "source": [
    "dataEstacion.groupby(['estacion'])['Demanda'].mean()"
   ]
  },
  {
   "cell_type": "code",
   "execution_count": 163,
   "id": "7a7b44ab",
   "metadata": {},
   "outputs": [
    {
     "data": {
      "text/plain": [
       "estacion\n",
       "Invierno     268142.710383\n",
       "Otoño        283917.808743\n",
       "Primavera    306742.420765\n",
       "Verano       403776.814208\n",
       "Name: Produccion, dtype: float64"
      ]
     },
     "execution_count": 163,
     "metadata": {},
     "output_type": "execute_result"
    }
   ],
   "source": [
    "dataEstacion.groupby(['estacion'])['Produccion'].mean()"
   ]
  },
  {
   "cell_type": "code",
   "execution_count": 164,
   "id": "464531d5",
   "metadata": {},
   "outputs": [],
   "source": [
    "dataEstacion = dataEstacion.set_index('estacion')"
   ]
  },
  {
   "cell_type": "code",
   "execution_count": 165,
   "id": "16ebe11d",
   "metadata": {},
   "outputs": [
    {
     "data": {
      "text/plain": [
       "<AxesSubplot:xlabel='estacion'>"
      ]
     },
     "execution_count": 165,
     "metadata": {},
     "output_type": "execute_result"
    },
    {
     "data": {
      "image/png": "[encoded data removed]",
      "text/plain": [
       "<Figure size 1500x500 with 1 Axes>"
      ]
     },
     "metadata": {},
     "output_type": "display_data"
    }
   ],
   "source": [
    "dataEstacion.plot(figsize=(15,5))"
   ]
  },
  {
   "cell_type": "markdown",
   "id": "d2abcbda",
   "metadata": {},
   "source": [
    "# Series Temporales\n"
   ]
  },
  {
   "cell_type": "markdown",
   "id": "089e74c8",
   "metadata": {},
   "source": [
    "Ahora vamos a hacer transformaciones de estos dataset para sacar obtener el dataset final el cual tendrá las columnas de demanda y produccion, tambien cambiaremos el indice a la fecha para trabajar con las series temporales"
   ]
  },
  {
   "cell_type": "code",
   "execution_count": 166,
   "id": "518f14a4",
   "metadata": {},
   "outputs": [],
   "source": [
    "data = data[data.index < pd.to_datetime(\"31-12-2021\")]"
   ]
  },
  {
   "cell_type": "code",
   "execution_count": 167,
   "id": "ec5ecd7a",
   "metadata": {},
   "outputs": [
    {
     "name": "stdout",
     "output_type": "stream",
     "text": [
      "<class 'pandas.core.frame.DataFrame'>\n",
      "DatetimeIndex: 1095 entries, 2019-01-01 to 2021-12-30\n",
      "Data columns (total 2 columns):\n",
      " #   Column      Non-Null Count  Dtype\n",
      "---  ------      --------------  -----\n",
      " 0   Demanda     1095 non-null   int64\n",
      " 1   Produccion  1095 non-null   int64\n",
      "dtypes: int64(2)\n",
      "memory usage: 25.7 KB\n"
     ]
    }
   ],
   "source": [
    "data.info()"
   ]
  },
  {
   "cell_type": "code",
   "execution_count": 168,
   "id": "6bee0aad",
   "metadata": {},
   "outputs": [
    {
     "data": {
      "text/html": [
       "<div>\n",
       "<style scoped>\n",
       "    .dataframe tbody tr th:only-of-type {\n",
       "        vertical-align: middle;\n",
       "    }\n",
       "\n",
       "    .dataframe tbody tr th {\n",
       "        vertical-align: top;\n",
       "    }\n",
       "\n",
       "    .dataframe thead th {\n",
       "        text-align: right;\n",
       "    }\n",
       "</style>\n",
       "<table border=\"1\" class=\"dataframe\">\n",
       "  <thead>\n",
       "    <tr style=\"text-align: right;\">\n",
       "      <th></th>\n",
       "      <th>Demanda</th>\n",
       "      <th>Produccion</th>\n",
       "    </tr>\n",
       "    <tr>\n",
       "      <th>fecha</th>\n",
       "      <th></th>\n",
       "      <th></th>\n",
       "    </tr>\n",
       "  </thead>\n",
       "  <tbody>\n",
       "    <tr>\n",
       "      <th>2019-01-01</th>\n",
       "      <td>379726</td>\n",
       "      <td>289005</td>\n",
       "    </tr>\n",
       "    <tr>\n",
       "      <th>2019-01-02</th>\n",
       "      <td>383590</td>\n",
       "      <td>288843</td>\n",
       "    </tr>\n",
       "    <tr>\n",
       "      <th>2019-01-03</th>\n",
       "      <td>378901</td>\n",
       "      <td>283581</td>\n",
       "    </tr>\n",
       "    <tr>\n",
       "      <th>2019-01-04</th>\n",
       "      <td>378180</td>\n",
       "      <td>285621</td>\n",
       "    </tr>\n",
       "    <tr>\n",
       "      <th>2019-01-05</th>\n",
       "      <td>385805</td>\n",
       "      <td>283991</td>\n",
       "    </tr>\n",
       "    <tr>\n",
       "      <th>...</th>\n",
       "      <td>...</td>\n",
       "      <td>...</td>\n",
       "    </tr>\n",
       "    <tr>\n",
       "      <th>2021-12-26</th>\n",
       "      <td>466243</td>\n",
       "      <td>299610</td>\n",
       "    </tr>\n",
       "    <tr>\n",
       "      <th>2021-12-27</th>\n",
       "      <td>435243</td>\n",
       "      <td>291977</td>\n",
       "    </tr>\n",
       "    <tr>\n",
       "      <th>2021-12-28</th>\n",
       "      <td>420410</td>\n",
       "      <td>279246</td>\n",
       "    </tr>\n",
       "    <tr>\n",
       "      <th>2021-12-29</th>\n",
       "      <td>411592</td>\n",
       "      <td>261122</td>\n",
       "    </tr>\n",
       "    <tr>\n",
       "      <th>2021-12-30</th>\n",
       "      <td>378184</td>\n",
       "      <td>248905</td>\n",
       "    </tr>\n",
       "  </tbody>\n",
       "</table>\n",
       "<p>1095 rows × 2 columns</p>\n",
       "</div>"
      ],
      "text/plain": [
       "            Demanda  Produccion\n",
       "fecha                          \n",
       "2019-01-01   379726      289005\n",
       "2019-01-02   383590      288843\n",
       "2019-01-03   378901      283581\n",
       "2019-01-04   378180      285621\n",
       "2019-01-05   385805      283991\n",
       "...             ...         ...\n",
       "2021-12-26   466243      299610\n",
       "2021-12-27   435243      291977\n",
       "2021-12-28   420410      279246\n",
       "2021-12-29   411592      261122\n",
       "2021-12-30   378184      248905\n",
       "\n",
       "[1095 rows x 2 columns]"
      ]
     },
     "execution_count": 168,
     "metadata": {},
     "output_type": "execute_result"
    }
   ],
   "source": [
    "data"
   ]
  },
  {
   "cell_type": "code",
   "execution_count": 169,
   "id": "3fcfc017",
   "metadata": {},
   "outputs": [
    {
     "data": {
      "text/html": [
       "<div>\n",
       "<style scoped>\n",
       "    .dataframe tbody tr th:only-of-type {\n",
       "        vertical-align: middle;\n",
       "    }\n",
       "\n",
       "    .dataframe tbody tr th {\n",
       "        vertical-align: top;\n",
       "    }\n",
       "\n",
       "    .dataframe thead th {\n",
       "        text-align: right;\n",
       "    }\n",
       "</style>\n",
       "<table border=\"1\" class=\"dataframe\">\n",
       "  <thead>\n",
       "    <tr style=\"text-align: right;\">\n",
       "      <th></th>\n",
       "      <th>Demanda</th>\n",
       "      <th>Produccion</th>\n",
       "    </tr>\n",
       "  </thead>\n",
       "  <tbody>\n",
       "    <tr>\n",
       "      <th>count</th>\n",
       "      <td>1095.000000</td>\n",
       "      <td>1095.000000</td>\n",
       "    </tr>\n",
       "    <tr>\n",
       "      <th>mean</th>\n",
       "      <td>420994.799087</td>\n",
       "      <td>322561.829224</td>\n",
       "    </tr>\n",
       "    <tr>\n",
       "      <th>std</th>\n",
       "      <td>108713.245473</td>\n",
       "      <td>69567.326734</td>\n",
       "    </tr>\n",
       "    <tr>\n",
       "      <th>min</th>\n",
       "      <td>234522.000000</td>\n",
       "      <td>187266.000000</td>\n",
       "    </tr>\n",
       "    <tr>\n",
       "      <th>25%</th>\n",
       "      <td>325740.000000</td>\n",
       "      <td>258997.500000</td>\n",
       "    </tr>\n",
       "    <tr>\n",
       "      <th>50%</th>\n",
       "      <td>411592.000000</td>\n",
       "      <td>303169.000000</td>\n",
       "    </tr>\n",
       "    <tr>\n",
       "      <th>75%</th>\n",
       "      <td>498163.500000</td>\n",
       "      <td>391964.000000</td>\n",
       "    </tr>\n",
       "    <tr>\n",
       "      <th>max</th>\n",
       "      <td>664606.000000</td>\n",
       "      <td>453020.000000</td>\n",
       "    </tr>\n",
       "  </tbody>\n",
       "</table>\n",
       "</div>"
      ],
      "text/plain": [
       "             Demanda     Produccion\n",
       "count    1095.000000    1095.000000\n",
       "mean   420994.799087  322561.829224\n",
       "std    108713.245473   69567.326734\n",
       "min    234522.000000  187266.000000\n",
       "25%    325740.000000  258997.500000\n",
       "50%    411592.000000  303169.000000\n",
       "75%    498163.500000  391964.000000\n",
       "max    664606.000000  453020.000000"
      ]
     },
     "execution_count": 169,
     "metadata": {},
     "output_type": "execute_result"
    }
   ],
   "source": [
    "data.describe()"
   ]
  },
  {
   "cell_type": "markdown",
   "id": "8b3b1ff1",
   "metadata": {},
   "source": [
    "Ya de primera podemos observar que vamos a tener dias donde la demanda supera a la produccion, y ademas de media siempre vamos a tener mayor demanda que produccion"
   ]
  },
  {
   "cell_type": "code",
   "execution_count": 170,
   "id": "1f915439",
   "metadata": {},
   "outputs": [
    {
     "data": {
      "text/html": [
       "<div>\n",
       "<style scoped>\n",
       "    .dataframe tbody tr th:only-of-type {\n",
       "        vertical-align: middle;\n",
       "    }\n",
       "\n",
       "    .dataframe tbody tr th {\n",
       "        vertical-align: top;\n",
       "    }\n",
       "\n",
       "    .dataframe thead th {\n",
       "        text-align: right;\n",
       "    }\n",
       "</style>\n",
       "<table border=\"1\" class=\"dataframe\">\n",
       "  <thead>\n",
       "    <tr style=\"text-align: right;\">\n",
       "      <th></th>\n",
       "      <th>Demanda</th>\n",
       "      <th>Produccion</th>\n",
       "    </tr>\n",
       "    <tr>\n",
       "      <th>fecha</th>\n",
       "      <th></th>\n",
       "      <th></th>\n",
       "    </tr>\n",
       "  </thead>\n",
       "  <tbody>\n",
       "    <tr>\n",
       "      <th>2019-01-31</th>\n",
       "      <td>12344034</td>\n",
       "      <td>8892026</td>\n",
       "    </tr>\n",
       "    <tr>\n",
       "      <th>2019-02-28</th>\n",
       "      <td>10327355</td>\n",
       "      <td>7753904</td>\n",
       "    </tr>\n",
       "    <tr>\n",
       "      <th>2019-03-31</th>\n",
       "      <td>9566047</td>\n",
       "      <td>7603419</td>\n",
       "    </tr>\n",
       "    <tr>\n",
       "      <th>2019-04-30</th>\n",
       "      <td>8329040</td>\n",
       "      <td>6860510</td>\n",
       "    </tr>\n",
       "    <tr>\n",
       "      <th>2019-05-31</th>\n",
       "      <td>11823599</td>\n",
       "      <td>10597214</td>\n",
       "    </tr>\n",
       "    <tr>\n",
       "      <th>2019-06-30</th>\n",
       "      <td>14146614</td>\n",
       "      <td>11740792</td>\n",
       "    </tr>\n",
       "    <tr>\n",
       "      <th>2019-07-31</th>\n",
       "      <td>15465729</td>\n",
       "      <td>12511220</td>\n",
       "    </tr>\n",
       "    <tr>\n",
       "      <th>2019-08-31</th>\n",
       "      <td>15627938</td>\n",
       "      <td>12676743</td>\n",
       "    </tr>\n",
       "    <tr>\n",
       "      <th>2019-09-30</th>\n",
       "      <td>14477503</td>\n",
       "      <td>11977411</td>\n",
       "    </tr>\n",
       "    <tr>\n",
       "      <th>2019-10-31</th>\n",
       "      <td>11810422</td>\n",
       "      <td>9998288</td>\n",
       "    </tr>\n",
       "    <tr>\n",
       "      <th>2019-11-30</th>\n",
       "      <td>7949894</td>\n",
       "      <td>7243726</td>\n",
       "    </tr>\n",
       "    <tr>\n",
       "      <th>2019-12-31</th>\n",
       "      <td>11446699</td>\n",
       "      <td>8653209</td>\n",
       "    </tr>\n",
       "    <tr>\n",
       "      <th>2020-01-31</th>\n",
       "      <td>13489781</td>\n",
       "      <td>9110785</td>\n",
       "    </tr>\n",
       "    <tr>\n",
       "      <th>2020-02-29</th>\n",
       "      <td>11022374</td>\n",
       "      <td>8862696</td>\n",
       "    </tr>\n",
       "    <tr>\n",
       "      <th>2020-03-31</th>\n",
       "      <td>8662324</td>\n",
       "      <td>7728448</td>\n",
       "    </tr>\n",
       "    <tr>\n",
       "      <th>2020-04-30</th>\n",
       "      <td>8747987</td>\n",
       "      <td>8081607</td>\n",
       "    </tr>\n",
       "    <tr>\n",
       "      <th>2020-05-31</th>\n",
       "      <td>12767656</td>\n",
       "      <td>10977659</td>\n",
       "    </tr>\n",
       "    <tr>\n",
       "      <th>2020-06-30</th>\n",
       "      <td>14905798</td>\n",
       "      <td>11627558</td>\n",
       "    </tr>\n",
       "    <tr>\n",
       "      <th>2020-07-31</th>\n",
       "      <td>18199501</td>\n",
       "      <td>12252714</td>\n",
       "    </tr>\n",
       "    <tr>\n",
       "      <th>2020-08-31</th>\n",
       "      <td>17827320</td>\n",
       "      <td>12969990</td>\n",
       "    </tr>\n",
       "    <tr>\n",
       "      <th>2020-09-30</th>\n",
       "      <td>16403785</td>\n",
       "      <td>12160900</td>\n",
       "    </tr>\n",
       "    <tr>\n",
       "      <th>2020-10-31</th>\n",
       "      <td>10320331</td>\n",
       "      <td>9483095</td>\n",
       "    </tr>\n",
       "    <tr>\n",
       "      <th>2020-11-30</th>\n",
       "      <td>8397757</td>\n",
       "      <td>7106362</td>\n",
       "    </tr>\n",
       "    <tr>\n",
       "      <th>2020-12-31</th>\n",
       "      <td>11644426</td>\n",
       "      <td>7536600</td>\n",
       "    </tr>\n",
       "    <tr>\n",
       "      <th>2021-01-31</th>\n",
       "      <td>13005501</td>\n",
       "      <td>8091202</td>\n",
       "    </tr>\n",
       "    <tr>\n",
       "      <th>2021-02-28</th>\n",
       "      <td>10390139</td>\n",
       "      <td>7253635</td>\n",
       "    </tr>\n",
       "    <tr>\n",
       "      <th>2021-03-31</th>\n",
       "      <td>9342708</td>\n",
       "      <td>7317690</td>\n",
       "    </tr>\n",
       "    <tr>\n",
       "      <th>2021-04-30</th>\n",
       "      <td>10272893</td>\n",
       "      <td>8450198</td>\n",
       "    </tr>\n",
       "    <tr>\n",
       "      <th>2021-05-31</th>\n",
       "      <td>14984538</td>\n",
       "      <td>11166675</td>\n",
       "    </tr>\n",
       "    <tr>\n",
       "      <th>2021-06-30</th>\n",
       "      <td>16670675</td>\n",
       "      <td>11921123</td>\n",
       "    </tr>\n",
       "    <tr>\n",
       "      <th>2021-07-31</th>\n",
       "      <td>19392643</td>\n",
       "      <td>13231958</td>\n",
       "    </tr>\n",
       "    <tr>\n",
       "      <th>2021-08-31</th>\n",
       "      <td>19935514</td>\n",
       "      <td>13392505</td>\n",
       "    </tr>\n",
       "    <tr>\n",
       "      <th>2021-09-30</th>\n",
       "      <td>14896197</td>\n",
       "      <td>11319400</td>\n",
       "    </tr>\n",
       "    <tr>\n",
       "      <th>2021-10-31</th>\n",
       "      <td>14652679</td>\n",
       "      <td>10581169</td>\n",
       "    </tr>\n",
       "    <tr>\n",
       "      <th>2021-11-30</th>\n",
       "      <td>9516929</td>\n",
       "      <td>7544319</td>\n",
       "    </tr>\n",
       "    <tr>\n",
       "      <th>2021-12-31</th>\n",
       "      <td>12224975</td>\n",
       "      <td>8528453</td>\n",
       "    </tr>\n",
       "  </tbody>\n",
       "</table>\n",
       "</div>"
      ],
      "text/plain": [
       "             Demanda  Produccion\n",
       "fecha                           \n",
       "2019-01-31  12344034     8892026\n",
       "2019-02-28  10327355     7753904\n",
       "2019-03-31   9566047     7603419\n",
       "2019-04-30   8329040     6860510\n",
       "2019-05-31  11823599    10597214\n",
       "2019-06-30  14146614    11740792\n",
       "2019-07-31  15465729    12511220\n",
       "2019-08-31  15627938    12676743\n",
       "2019-09-30  14477503    11977411\n",
       "2019-10-31  11810422     9998288\n",
       "2019-11-30   7949894     7243726\n",
       "2019-12-31  11446699     8653209\n",
       "2020-01-31  13489781     9110785\n",
       "2020-02-29  11022374     8862696\n",
       "2020-03-31   8662324     7728448\n",
       "2020-04-30   8747987     8081607\n",
       "2020-05-31  12767656    10977659\n",
       "2020-06-30  14905798    11627558\n",
       "2020-07-31  18199501    12252714\n",
       "2020-08-31  17827320    12969990\n",
       "2020-09-30  16403785    12160900\n",
       "2020-10-31  10320331     9483095\n",
       "2020-11-30   8397757     7106362\n",
       "2020-12-31  11644426     7536600\n",
       "2021-01-31  13005501     8091202\n",
       "2021-02-28  10390139     7253635\n",
       "2021-03-31   9342708     7317690\n",
       "2021-04-30  10272893     8450198\n",
       "2021-05-31  14984538    11166675\n",
       "2021-06-30  16670675    11921123\n",
       "2021-07-31  19392643    13231958\n",
       "2021-08-31  19935514    13392505\n",
       "2021-09-30  14896197    11319400\n",
       "2021-10-31  14652679    10581169\n",
       "2021-11-30   9516929     7544319\n",
       "2021-12-31  12224975     8528453"
      ]
     },
     "execution_count": 170,
     "metadata": {},
     "output_type": "execute_result"
    }
   ],
   "source": [
    "dataMes= data.resample('m').sum()\n",
    "dataMes"
   ]
  },
  {
   "cell_type": "code",
   "execution_count": 171,
   "id": "5c1c5cfb",
   "metadata": {},
   "outputs": [
    {
     "data": {
      "text/html": [
       "<div>\n",
       "<style scoped>\n",
       "    .dataframe tbody tr th:only-of-type {\n",
       "        vertical-align: middle;\n",
       "    }\n",
       "\n",
       "    .dataframe tbody tr th {\n",
       "        vertical-align: top;\n",
       "    }\n",
       "\n",
       "    .dataframe thead th {\n",
       "        text-align: right;\n",
       "    }\n",
       "</style>\n",
       "<table border=\"1\" class=\"dataframe\">\n",
       "  <thead>\n",
       "    <tr style=\"text-align: right;\">\n",
       "      <th></th>\n",
       "      <th>Demanda</th>\n",
       "      <th>Produccion</th>\n",
       "    </tr>\n",
       "    <tr>\n",
       "      <th>fecha</th>\n",
       "      <th></th>\n",
       "      <th></th>\n",
       "    </tr>\n",
       "  </thead>\n",
       "  <tbody>\n",
       "    <tr>\n",
       "      <th>2019-12-31</th>\n",
       "      <td>143314874</td>\n",
       "      <td>116508462</td>\n",
       "    </tr>\n",
       "    <tr>\n",
       "      <th>2020-12-31</th>\n",
       "      <td>152389040</td>\n",
       "      <td>117898414</td>\n",
       "    </tr>\n",
       "    <tr>\n",
       "      <th>2021-12-31</th>\n",
       "      <td>165285391</td>\n",
       "      <td>118798327</td>\n",
       "    </tr>\n",
       "  </tbody>\n",
       "</table>\n",
       "</div>"
      ],
      "text/plain": [
       "              Demanda  Produccion\n",
       "fecha                            \n",
       "2019-12-31  143314874   116508462\n",
       "2020-12-31  152389040   117898414\n",
       "2021-12-31  165285391   118798327"
      ]
     },
     "execution_count": 171,
     "metadata": {},
     "output_type": "execute_result"
    }
   ],
   "source": [
    "data.resample('y').sum()"
   ]
  },
  {
   "cell_type": "code",
   "execution_count": 172,
   "id": "e7095911",
   "metadata": {},
   "outputs": [
    {
     "data": {
      "text/plain": [
       "<AxesSubplot:xlabel='fecha'>"
      ]
     },
     "execution_count": 172,
     "metadata": {},
     "output_type": "execute_result"
    },
    {
     "data": {
      "image/png": "[encoded data removed]",
      "text/plain": [
       "<Figure size 1500x500 with 1 Axes>"
      ]
     },
     "metadata": {},
     "output_type": "display_data"
    }
   ],
   "source": [
    "data.plot(figsize=(15,5))"
   ]
  },
  {
   "cell_type": "code",
   "execution_count": 173,
   "id": "475c108f",
   "metadata": {},
   "outputs": [
    {
     "data": {
      "text/plain": [
       "<AxesSubplot:>"
      ]
     },
     "execution_count": 173,
     "metadata": {},
     "output_type": "execute_result"
    },
    {
     "data": {
      "image/png": "[encoded data removed]",
      "text/plain": [
       "<Figure size 640x480 with 1 Axes>"
      ]
     },
     "metadata": {},
     "output_type": "display_data"
    }
   ],
   "source": [
    "data.plot.box()"
   ]
  },
  {
   "cell_type": "markdown",
   "id": "e13e02c6",
   "metadata": {},
   "source": [
    "Vemos que la produccion nunca abaste la demanda, ademas nos fijamos que en los meses de verano siempre tenemos un pico de demanda que ademas aumenta con los años mientras que la produccion de mantiene"
   ]
  },
  {
   "cell_type": "markdown",
   "id": "319f51f5",
   "metadata": {},
   "source": [
    "Vamos a pasar a comprobar si nuestra serie de tiempo es estacionario o no. Para ello vamos a seguir el modelo Dickey-Fuller"
   ]
  },
  {
   "cell_type": "code",
   "execution_count": 174,
   "id": "91a52ae0",
   "metadata": {},
   "outputs": [],
   "source": [
    "def test_stationarity(timeseries):\n",
    "    \n",
    "    rolmean = timeseries.rolling(12).mean()\n",
    "    rolstd = timeseries.rolling(12).std()\n",
    "    orig = plt.plot(timeseries, color='blue',label='Original')\n",
    "    mean = plt.plot(rolmean, color='red', label='Media móvil')\n",
    "    std = plt.plot(rolstd, color='black', label = 'Desviacion estandar')\n",
    "    plt.legend(loc='best')\n",
    "    plt.title('Media móvil & Desviacion estandar')\n",
    "    plt.show(block=False)\n",
    "    \n",
    "    print ('Resultados del Dickey-Fuller Test:')\n",
    "   \n",
    "    dftest = adfuller(timeseries, autolag='AIC')\n",
    "    dfoutput = pd.Series(dftest[0:4], index=['Estadístico de prueba','p-value','#Lags Used','Numero de observaciones'])\n",
    "    for key,value in dftest[4].items():\n",
    "        dfoutput['Valores criticos (%s)'%key] = value\n",
    "    print(dfoutput)"
   ]
  },
  {
   "cell_type": "code",
   "execution_count": 175,
   "id": "8f7aa885",
   "metadata": {},
   "outputs": [
    {
     "data": {
      "image/png": "[encoded data removed]",
      "text/plain": [
       "<Figure size 640x480 with 1 Axes>"
      ]
     },
     "metadata": {},
     "output_type": "display_data"
    },
    {
     "name": "stdout",
     "output_type": "stream",
     "text": [
      "Resultados del Dickey-Fuller Test:\n",
      "Estadístico de prueba        -3.080073\n",
      "p-value                       0.028063\n",
      "#Lags Used                   16.000000\n",
      "Numero de observaciones    1078.000000\n",
      "Valores criticos (1%)        -3.436431\n",
      "Valores criticos (5%)        -2.864225\n",
      "Valores criticos (10%)       -2.568200\n",
      "dtype: float64\n"
     ]
    }
   ],
   "source": [
    "adfullerDemanda = test_stationarity(data['Demanda'])"
   ]
  },
  {
   "cell_type": "markdown",
   "id": "c3c36fb3",
   "metadata": {},
   "source": [
    "Según estos resultados podemos afirmar que el dataset según la demanda es estacionario por diversos motivos, el p-value nos indica que tenemos una probabilidad muy baja del 0,268% de que los resultados observados en la serie de tiempo se deban al azar lo que nos indica que podemos rechazar la hipotesis nula. Luego el estadístico de prueba es menor que los valores críticos para los niveles de significación de 1% y 5% y no difiere mucho del 10% por lo que volvemos a rechazar la hipotesis nula. "
   ]
  },
  {
   "cell_type": "code",
   "execution_count": 176,
   "id": "21a1429b",
   "metadata": {},
   "outputs": [
    {
     "data": {
      "image/png": "[encoded data removed]",
      "text/plain": [
       "<Figure size 640x480 with 1 Axes>"
      ]
     },
     "metadata": {},
     "output_type": "display_data"
    },
    {
     "name": "stdout",
     "output_type": "stream",
     "text": [
      "Resultados del Dickey-Fuller Test:\n",
      "Estadístico de prueba        -2.022303\n",
      "p-value                       0.276880\n",
      "#Lags Used                    4.000000\n",
      "Numero de observaciones    1090.000000\n",
      "Valores criticos (1%)        -3.436364\n",
      "Valores criticos (5%)        -2.864195\n",
      "Valores criticos (10%)       -2.568184\n",
      "dtype: float64\n"
     ]
    }
   ],
   "source": [
    "adfullerProduccion = test_stationarity(data['Produccion'])"
   ]
  },
  {
   "cell_type": "markdown",
   "id": "88d071d5",
   "metadata": {},
   "source": [
    "Con la produccion vemos que ocurre todo lo contrario, el p-value es mayor que el valor de significancia del 0,05 y ademas nuestro estadistico de prueba es mayor que todos los valores criticos. Por lo cual decidimos que la serie de tiempo no es estacionaria."
   ]
  },
  {
   "cell_type": "markdown",
   "id": "4050f1e3",
   "metadata": {},
   "source": [
    "## ARIMA"
   ]
  },
  {
   "cell_type": "markdown",
   "id": "a866f2c3",
   "metadata": {},
   "source": [
    "Sabiendo que la demanda si es estacionaria, vamos a aplicarle un modelo de  regresion autorregresiva integrada de media movil (ARIMA)"
   ]
  },
  {
   "cell_type": "code",
   "execution_count": 177,
   "id": "5eeb4722",
   "metadata": {},
   "outputs": [],
   "source": [
    "dataArima= dataMes['Demanda']\n"
   ]
  },
  {
   "cell_type": "code",
   "execution_count": 178,
   "id": "17d1b463",
   "metadata": {},
   "outputs": [
    {
     "data": {
      "text/plain": [
       "fecha\n",
       "2019-01-31    12344034\n",
       "2019-02-28    10327355\n",
       "2019-03-31     9566047\n",
       "2019-04-30     8329040\n",
       "2019-05-31    11823599\n",
       "2019-06-30    14146614\n",
       "2019-07-31    15465729\n",
       "2019-08-31    15627938\n",
       "2019-09-30    14477503\n",
       "2019-10-31    11810422\n",
       "2019-11-30     7949894\n",
       "2019-12-31    11446699\n",
       "2020-01-31    13489781\n",
       "2020-02-29    11022374\n",
       "2020-03-31     8662324\n",
       "2020-04-30     8747987\n",
       "2020-05-31    12767656\n",
       "2020-06-30    14905798\n",
       "2020-07-31    18199501\n",
       "2020-08-31    17827320\n",
       "2020-09-30    16403785\n",
       "2020-10-31    10320331\n",
       "2020-11-30     8397757\n",
       "2020-12-31    11644426\n",
       "2021-01-31    13005501\n",
       "2021-02-28    10390139\n",
       "2021-03-31     9342708\n",
       "2021-04-30    10272893\n",
       "2021-05-31    14984538\n",
       "2021-06-30    16670675\n",
       "2021-07-31    19392643\n",
       "2021-08-31    19935514\n",
       "2021-09-30    14896197\n",
       "2021-10-31    14652679\n",
       "2021-11-30     9516929\n",
       "2021-12-31    12224975\n",
       "Freq: M, Name: Demanda, dtype: int64"
      ]
     },
     "execution_count": 178,
     "metadata": {},
     "output_type": "execute_result"
    }
   ],
   "source": [
    "dataArima"
   ]
  },
  {
   "cell_type": "code",
   "execution_count": 179,
   "id": "1057300b",
   "metadata": {},
   "outputs": [],
   "source": [
    "train_data_arima = dataArima[:int(len(dataArima)*0.8)]\n",
    "test_data_arima = dataArima[int(len(dataArima)*0.8):]\n"
   ]
  },
  {
   "cell_type": "code",
   "execution_count": 180,
   "id": "dd6e2092",
   "metadata": {},
   "outputs": [],
   "source": [
    "def modelo_arima(p,d,q):\n",
    "    model = ARIMA(train_data_arima, order=(p,d,q))\n",
    "    model_fit = model.fit()\n",
    "    print(model_fit.summary())"
   ]
  },
  {
   "cell_type": "code",
   "execution_count": 181,
   "id": "1ea7cc21",
   "metadata": {},
   "outputs": [
    {
     "name": "stdout",
     "output_type": "stream",
     "text": [
      "                               SARIMAX Results                                \n",
      "==============================================================================\n",
      "Dep. Variable:                Demanda   No. Observations:                   28\n",
      "Model:                 ARIMA(1, 1, 1)   Log Likelihood                -436.052\n",
      "Date:                Sun, 05 Feb 2023   AIC                            878.104\n",
      "Time:                        20:25:49   BIC                            881.991\n",
      "Sample:                    01-31-2019   HQIC                           879.260\n",
      "                         - 04-30-2021                                         \n",
      "Covariance Type:                  opg                                         \n",
      "==============================================================================\n",
      "                 coef    std err          z      P>|z|      [0.025      0.975]\n",
      "------------------------------------------------------------------------------\n",
      "ar.L1         -0.2176      1.231     -0.177      0.860      -2.631       2.196\n",
      "ma.L1          0.3382      1.249      0.271      0.787      -2.109       2.786\n",
      "sigma2      5.968e+12   4.28e-13   1.39e+25      0.000    5.97e+12    5.97e+12\n",
      "===================================================================================\n",
      "Ljung-Box (L1) (Q):                   1.16   Jarque-Bera (JB):                 0.40\n",
      "Prob(Q):                              0.28   Prob(JB):                         0.82\n",
      "Heteroskedasticity (H):               1.48   Skew:                            -0.14\n",
      "Prob(H) (two-sided):                  0.57   Kurtosis:                         2.48\n",
      "===================================================================================\n",
      "\n",
      "Warnings:\n",
      "[1] Covariance matrix calculated using the outer product of gradients (complex-step).\n",
      "[2] Covariance matrix is singular or near-singular, with condition number 5.77e+41. Standard errors may be unstable.\n",
      "                               SARIMAX Results                                \n",
      "==============================================================================\n",
      "Dep. Variable:                Demanda   No. Observations:                   28\n",
      "Model:                 ARIMA(2, 1, 1)   Log Likelihood                -434.471\n",
      "Date:                Sun, 05 Feb 2023   AIC                            876.943\n",
      "Time:                        20:25:49   BIC                            882.126\n",
      "Sample:                    01-31-2019   HQIC                           878.484\n",
      "                         - 04-30-2021                                         \n",
      "Covariance Type:                  opg                                         \n",
      "==============================================================================\n",
      "                 coef    std err          z      P>|z|      [0.025      0.975]\n",
      "------------------------------------------------------------------------------\n",
      "ar.L1          0.5195      0.286      1.817      0.069      -0.041       1.080\n",
      "ar.L2         -0.2779      0.117     -2.370      0.018      -0.508      -0.048\n",
      "ma.L1         -0.4523      0.329     -1.374      0.170      -1.098       0.193\n",
      "sigma2      4.429e+12   6.86e-14   6.46e+25      0.000    4.43e+12    4.43e+12\n",
      "===================================================================================\n",
      "Ljung-Box (L1) (Q):                   0.88   Jarque-Bera (JB):                 0.61\n",
      "Prob(Q):                              0.35   Prob(JB):                         0.74\n",
      "Heteroskedasticity (H):               1.02   Skew:                            -0.32\n",
      "Prob(H) (two-sided):                  0.97   Kurtosis:                         2.64\n",
      "===================================================================================\n",
      "\n",
      "Warnings:\n",
      "[1] Covariance matrix calculated using the outer product of gradients (complex-step).\n",
      "[2] Covariance matrix is singular or near-singular, with condition number 9.33e+42. Standard errors may be unstable.\n",
      "                               SARIMAX Results                                \n",
      "==============================================================================\n",
      "Dep. Variable:                Demanda   No. Observations:                   28\n",
      "Model:                 ARIMA(2, 1, 2)   Log Likelihood                -431.166\n",
      "Date:                Sun, 05 Feb 2023   AIC                            872.333\n",
      "Time:                        20:25:49   BIC                            878.812\n",
      "Sample:                    01-31-2019   HQIC                           874.260\n",
      "                         - 04-30-2021                                         \n",
      "Covariance Type:                  opg                                         \n",
      "==============================================================================\n",
      "                 coef    std err          z      P>|z|      [0.025      0.975]\n",
      "------------------------------------------------------------------------------\n",
      "ar.L1          0.9822      0.116      8.442      0.000       0.754       1.210\n",
      "ar.L2         -0.9858      0.097    -10.189      0.000      -1.175      -0.796\n",
      "ma.L1         -1.0289      0.355     -2.896      0.004      -1.725      -0.333\n",
      "ma.L2          0.9677      0.406      2.385      0.017       0.173       1.763\n",
      "sigma2      4.956e+12   1.07e-13   4.62e+25      0.000    4.96e+12    4.96e+12\n",
      "===================================================================================\n",
      "Ljung-Box (L1) (Q):                   1.03   Jarque-Bera (JB):                 2.16\n",
      "Prob(Q):                              0.31   Prob(JB):                         0.34\n",
      "Heteroskedasticity (H):               2.11   Skew:                            -0.68\n",
      "Prob(H) (two-sided):                  0.28   Kurtosis:                         3.23\n",
      "===================================================================================\n",
      "\n",
      "Warnings:\n",
      "[1] Covariance matrix calculated using the outer product of gradients (complex-step).\n",
      "[2] Covariance matrix is singular or near-singular, with condition number 1.41e+41. Standard errors may be unstable.\n"
     ]
    }
   ],
   "source": [
    "modelo_arima(1,1,1)\n",
    "modelo_arima(2,1,1)\n",
    "modelo_arima(2,1,2)\n"
   ]
  },
  {
   "cell_type": "markdown",
   "id": "5598f032",
   "metadata": {},
   "source": [
    "Vamos a probar con una funcion que nos saca lo mejores valores"
   ]
  },
  {
   "cell_type": "markdown",
   "id": "ae9af908",
   "metadata": {},
   "source": [
    "Vemos que el mejor AIC lo tiene el modelo para los valores (2,1,2)"
   ]
  },
  {
   "cell_type": "code",
   "execution_count": 182,
   "id": "d678f0f8",
   "metadata": {},
   "outputs": [],
   "source": [
    "modelfinal = ARIMA(train_data_arima, order=(2, 1, 2))\n",
    "model_fit1 = modelfinal.fit()"
   ]
  },
  {
   "cell_type": "code",
   "execution_count": 183,
   "id": "88045e46",
   "metadata": {},
   "outputs": [],
   "source": [
    "forecast = model_fit1.forecast(steps=10)[0]\n"
   ]
  },
  {
   "cell_type": "code",
   "execution_count": 184,
   "id": "807afbd3",
   "metadata": {},
   "outputs": [
    {
     "name": "stdout",
     "output_type": "stream",
     "text": [
      "11083109.210077316\n"
     ]
    }
   ],
   "source": [
    "print(forecast)"
   ]
  },
  {
   "cell_type": "code",
   "execution_count": 185,
   "id": "d379cc01",
   "metadata": {},
   "outputs": [
    {
     "data": {
      "text/plain": [
       "2021-05-31    1.108311e+07\n",
       "2021-06-30    1.302891e+07\n",
       "2021-07-31    1.414135e+07\n",
       "2021-08-31    1.331579e+07\n",
       "2021-09-30    1.140824e+07\n",
       "2021-10-31    1.034849e+07\n",
       "2021-11-30    1.118810e+07\n",
       "2021-12-31    1.305750e+07\n",
       "Freq: M, Name: predicted_mean, dtype: float64"
      ]
     },
     "execution_count": 185,
     "metadata": {},
     "output_type": "execute_result"
    }
   ],
   "source": [
    "predictions = model_fit1.predict(start=len(train_data_arima), end=len(dataArima)-1, typ='levels')\n",
    "predictions"
   ]
  },
  {
   "cell_type": "code",
   "execution_count": 240,
   "id": "0c2c1f52",
   "metadata": {},
   "outputs": [
    {
     "name": "stdout",
     "output_type": "stream",
     "text": [
      "MSE: 16757269390052.26\n"
     ]
    }
   ],
   "source": [
    "mse = mean_squared_error(test_data_arima, predictions)\n",
    "print('MSE:', mse)"
   ]
  },
  {
   "cell_type": "code",
   "execution_count": 241,
   "id": "66d9f266",
   "metadata": {},
   "outputs": [],
   "source": [
    "error = np.mean(np.abs((test_data_arima - predictions) / test_data_arima)) * 100\n",
    "accuracy = 100 - error"
   ]
  },
  {
   "cell_type": "code",
   "execution_count": 242,
   "id": "30b0077f",
   "metadata": {},
   "outputs": [
    {
     "name": "stdout",
     "output_type": "stream",
     "text": [
      "Precision modelo ARIMA es: 76.83425210441922\n",
      "El error es: 23.16574789558078\n",
      "El error cuadrático mse: 16757269390052.26 kw\n"
     ]
    }
   ],
   "source": [
    "print(f\"Precision modelo ARIMA es: {accuracy}\" )\n",
    "print(f\"El error es: {error}\")\n",
    "print(f\"El error cuadrático mse: {mse} kw\")"
   ]
  },
  {
   "cell_type": "code",
   "execution_count": 189,
   "id": "1f65f557",
   "metadata": {},
   "outputs": [
    {
     "data": {
      "image/png": "[encoded data removed]",
      "text/plain": [
       "<Figure size 640x480 with 1 Axes>"
      ]
     },
     "metadata": {},
     "output_type": "display_data"
    }
   ],
   "source": [
    "plt.plot(dataArima.index[int(len(dataArima)*0.8):], test_data_arima, label='Valores reales')\n",
    "plt.plot(dataArima.index[int(len(dataArima)*0.8):], predictions, label='Predicciones')\n",
    "plt.legend()\n",
    "plt.show()"
   ]
  },
  {
   "cell_type": "markdown",
   "id": "0c70fdfa",
   "metadata": {},
   "source": [
    "PRIMERO HAGO ARIMA Y LUEGO REDES NEURONALES"
   ]
  },
  {
   "cell_type": "markdown",
   "id": "ed581e0b",
   "metadata": {},
   "source": [
    "Estudiando un poco la relación que existe entre la demanda y la produccion encontramos que esta última siempre va a estar condicionada por la demanda ya que no se puede dar el caso de que la produccion sea mayor que la demanda. Vamos a aplicar un modelo de Deep learning conocido como Redes neuronales recurrentes(RNN) EXPLICAR UN POCO MAS DE ESTO"
   ]
  },
  {
   "cell_type": "code",
   "execution_count": 190,
   "id": "855df210",
   "metadata": {},
   "outputs": [],
   "source": [
    "#data['Demanda'] = data['Demanda'].astype(float)\n",
    "#data['Produccion'] = data['Produccion'].astype(float)"
   ]
  },
  {
   "cell_type": "code",
   "execution_count": 191,
   "id": "50e6fc82",
   "metadata": {},
   "outputs": [],
   "source": [
    "scaler = MinMaxScaler(feature_range=(0, 1))\n",
    "data['Demanda'] = scaler.fit_transform(data[['Demanda']])\n",
    "data['Produccion'] = scaler.fit_transform(data[['Produccion']])"
   ]
  },
  {
   "cell_type": "code",
   "execution_count": 192,
   "id": "a0c93ece",
   "metadata": {},
   "outputs": [],
   "source": [
    "timesteps = 30"
   ]
  },
  {
   "cell_type": "code",
   "execution_count": 193,
   "id": "ad87f3e7",
   "metadata": {},
   "outputs": [],
   "source": [
    "x = []\n",
    "y = []\n",
    "for i in range(timesteps, len(data)):\n",
    "    x.append(data[i-timesteps:i][['Demanda', 'Produccion']].values)\n",
    "    y.append(data['Produccion'][i])"
   ]
  },
  {
   "cell_type": "code",
   "execution_count": 194,
   "id": "755a825b",
   "metadata": {},
   "outputs": [],
   "source": [
    "x = np.array(x)\n",
    "y = np.array(y)"
   ]
  },
  {
   "cell_type": "code",
   "execution_count": 195,
   "id": "5f4e8a5d",
   "metadata": {},
   "outputs": [],
   "source": [
    "train_size = int(len(data) * 0.7)\n",
    "x_train = x[:train_size, :, :]\n",
    "y_train = y[:train_size]\n",
    "x_test = x[train_size:, :, :]\n",
    "y_test = y[train_size:]"
   ]
  },
  {
   "cell_type": "code",
   "execution_count": 196,
   "id": "1520e256",
   "metadata": {},
   "outputs": [],
   "source": [
    "model = Sequential()\n",
    "model.add(LSTM(50, return_sequences=True, input_shape=(x_train.shape[1], x_train.shape[2])))\n",
    "model.add(LSTM(50))\n",
    "model.add(Dense(1))\n",
    "model.compile(loss='mean_squared_error', optimizer='adam')"
   ]
  },
  {
   "cell_type": "code",
   "execution_count": 197,
   "id": "775bec8e",
   "metadata": {},
   "outputs": [
    {
     "data": {
      "text/plain": [
       "<keras.callbacks.History at 0x23159432f40>"
      ]
     },
     "execution_count": 197,
     "metadata": {},
     "output_type": "execute_result"
    }
   ],
   "source": [
    "model.fit(x_train, y_train, epochs=100, batch_size=32, verbose=0)"
   ]
  },
  {
   "cell_type": "code",
   "execution_count": 198,
   "id": "d4fa358f",
   "metadata": {},
   "outputs": [
    {
     "name": "stdout",
     "output_type": "stream",
     "text": [
      "10/10 [==============================] - 1s 11ms/step\n"
     ]
    }
   ],
   "source": [
    "y_pred = model.predict(x_test)"
   ]
  },
  {
   "cell_type": "code",
   "execution_count": 199,
   "id": "0e863375",
   "metadata": {},
   "outputs": [],
   "source": [
    "y_pred = scaler.inverse_transform(y_pred.reshape(-1, 1))\n",
    "y_test = scaler.inverse_transform(y_test.reshape(-1, 1))"
   ]
  },
  {
   "cell_type": "code",
   "execution_count": 202,
   "id": "242ac8c5",
   "metadata": {},
   "outputs": [],
   "source": [
    "error = np.mean(np.abs((y_test - y_pred) / y_test)) * 100\n",
    "accuracy = 100 - error\n"
   ]
  },
  {
   "cell_type": "code",
   "execution_count": 206,
   "id": "ec913cdb",
   "metadata": {},
   "outputs": [],
   "source": [
    "mse = np.mean((y_pred - y_test)**2)"
   ]
  },
  {
   "cell_type": "code",
   "execution_count": 210,
   "id": "b19d122b",
   "metadata": {},
   "outputs": [
    {
     "name": "stdout",
     "output_type": "stream",
     "text": [
      "Precision de la RNN por días es: 96.32200140249401\n",
      "El error es: 3.6779985975059937\n",
      "El error cuadrático mse: 327508254.6172928 kw\n"
     ]
    }
   ],
   "source": [
    "print(f\"Precision de la RNN por días es: {accuracy}\" )\n",
    "print(f\"El error es: {error}\")\n",
    "print(f\"El error cuadrático mse: {mse} kw\")"
   ]
  },
  {
   "cell_type": "code",
   "execution_count": 200,
   "id": "cb2bc886",
   "metadata": {},
   "outputs": [
    {
     "data": {
      "text/plain": [
       "array([[245026.98],\n",
       "       [247202.27],\n",
       "       [245451.38],\n",
       "       [242285.94],\n",
       "       [241608.86],\n",
       "       [235729.81],\n",
       "       [230414.19],\n",
       "       [228753.6 ],\n",
       "       [226480.75],\n",
       "       [221018.4 ],\n",
       "       [216204.58],\n",
       "       [210102.78],\n",
       "       [213439.83],\n",
       "       [217572.58],\n",
       "       [222297.06],\n",
       "       [226152.  ],\n",
       "       [228427.44],\n",
       "       [230086.45],\n",
       "       [232176.25],\n",
       "       [235152.6 ],\n",
       "       [239106.98],\n",
       "       [237894.94],\n",
       "       [238917.02],\n",
       "       [239629.7 ],\n",
       "       [235611.52],\n",
       "       [238909.4 ],\n",
       "       [244794.94],\n",
       "       [248854.72],\n",
       "       [250568.17],\n",
       "       [249538.22],\n",
       "       [248833.33],\n",
       "       [249784.12],\n",
       "       [252921.66],\n",
       "       [258526.66],\n",
       "       [262360.22],\n",
       "       [266182.62],\n",
       "       [263396.78],\n",
       "       [261657.3 ],\n",
       "       [256586.23],\n",
       "       [254651.83],\n",
       "       [250854.92],\n",
       "       [254195.17],\n",
       "       [267700.56],\n",
       "       [278716.47],\n",
       "       [288517.75],\n",
       "       [292839.75],\n",
       "       [293697.66],\n",
       "       [298634.8 ],\n",
       "       [308219.84],\n",
       "       [311795.5 ],\n",
       "       [318875.97],\n",
       "       [323362.6 ],\n",
       "       [321679.34],\n",
       "       [327426.22],\n",
       "       [330845.84],\n",
       "       [335836.75],\n",
       "       [337115.9 ],\n",
       "       [337047.84],\n",
       "       [329329.8 ],\n",
       "       [339935.44],\n",
       "       [337389.34],\n",
       "       [333809.12],\n",
       "       [337312.38],\n",
       "       [339891.  ],\n",
       "       [344409.03],\n",
       "       [343334.22],\n",
       "       [343309.44],\n",
       "       [343886.12],\n",
       "       [345875.1 ],\n",
       "       [347355.62],\n",
       "       [345652.16],\n",
       "       [345167.97],\n",
       "       [345083.47],\n",
       "       [355973.66],\n",
       "       [371917.38],\n",
       "       [376526.12],\n",
       "       [376066.38],\n",
       "       [373288.  ],\n",
       "       [366945.44],\n",
       "       [363650.44],\n",
       "       [369190.75],\n",
       "       [377690.03],\n",
       "       [389515.44],\n",
       "       [392912.38],\n",
       "       [389111.53],\n",
       "       [390705.72],\n",
       "       [387506.2 ],\n",
       "       [378855.12],\n",
       "       [381622.78],\n",
       "       [384427.22],\n",
       "       [387086.7 ],\n",
       "       [390041.5 ],\n",
       "       [396841.1 ],\n",
       "       [392894.53],\n",
       "       [391984.1 ],\n",
       "       [392687.97],\n",
       "       [402301.66],\n",
       "       [407711.62],\n",
       "       [408330.72],\n",
       "       [406659.1 ],\n",
       "       [403641.53],\n",
       "       [398490.  ],\n",
       "       [402728.94],\n",
       "       [402716.  ],\n",
       "       [412530.72],\n",
       "       [414533.88],\n",
       "       [419766.06],\n",
       "       [422201.94],\n",
       "       [382715.1 ],\n",
       "       [359996.2 ],\n",
       "       [384316.28],\n",
       "       [389079.53],\n",
       "       [390241.72],\n",
       "       [384509.97],\n",
       "       [375848.94],\n",
       "       [390371.53],\n",
       "       [369231.1 ],\n",
       "       [373646.06],\n",
       "       [380510.22],\n",
       "       [337212.1 ],\n",
       "       [377796.75],\n",
       "       [406513.6 ],\n",
       "       [418256.97],\n",
       "       [422511.1 ],\n",
       "       [428597.9 ],\n",
       "       [427841.53],\n",
       "       [427771.2 ],\n",
       "       [432468.16],\n",
       "       [438788.16],\n",
       "       [431230.97],\n",
       "       [432597.  ],\n",
       "       [431172.9 ],\n",
       "       [436495.  ],\n",
       "       [446425.9 ],\n",
       "       [440063.78],\n",
       "       [435780.47],\n",
       "       [429728.4 ],\n",
       "       [427894.62],\n",
       "       [428139.03],\n",
       "       [434558.6 ],\n",
       "       [434672.7 ],\n",
       "       [418610.16],\n",
       "       [426399.03],\n",
       "       [426663.28],\n",
       "       [427709.2 ],\n",
       "       [421196.25],\n",
       "       [430191.94],\n",
       "       [429950.03],\n",
       "       [433642.56],\n",
       "       [428922.5 ],\n",
       "       [432517.66],\n",
       "       [428698.5 ],\n",
       "       [426832.66],\n",
       "       [423566.  ],\n",
       "       [415263.22],\n",
       "       [416546.38],\n",
       "       [402417.34],\n",
       "       [416527.7 ],\n",
       "       [416237.  ],\n",
       "       [387331.47],\n",
       "       [395023.22],\n",
       "       [410931.72],\n",
       "       [414706.3 ],\n",
       "       [422764.75],\n",
       "       [428360.44],\n",
       "       [432657.06],\n",
       "       [437846.4 ],\n",
       "       [437767.56],\n",
       "       [438894.72],\n",
       "       [439606.75],\n",
       "       [440776.53],\n",
       "       [438413.25],\n",
       "       [443921.62],\n",
       "       [436726.72],\n",
       "       [434467.22],\n",
       "       [437606.2 ],\n",
       "       [439964.16],\n",
       "       [437852.53],\n",
       "       [438210.7 ],\n",
       "       [444048.88],\n",
       "       [380496.62],\n",
       "       [359720.56],\n",
       "       [375466.22],\n",
       "       [406740.4 ],\n",
       "       [421838.78],\n",
       "       [403879.4 ],\n",
       "       [388721.7 ],\n",
       "       [372647.2 ],\n",
       "       [364284.06],\n",
       "       [362428.5 ],\n",
       "       [362652.7 ],\n",
       "       [366944.88],\n",
       "       [365753.16],\n",
       "       [364830.  ],\n",
       "       [367992.16],\n",
       "       [369428.38],\n",
       "       [362833.8 ],\n",
       "       [357583.72],\n",
       "       [356042.84],\n",
       "       [349946.34],\n",
       "       [349665.75],\n",
       "       [355410.1 ],\n",
       "       [356651.06],\n",
       "       [357174.3 ],\n",
       "       [359725.56],\n",
       "       [358525.7 ],\n",
       "       [348838.8 ],\n",
       "       [349349.62],\n",
       "       [378779.4 ],\n",
       "       [377465.62],\n",
       "       [280795.78],\n",
       "       [266197.84],\n",
       "       [279704.53],\n",
       "       [291911.94],\n",
       "       [300071.03],\n",
       "       [301617.25],\n",
       "       [306847.62],\n",
       "       [315607.1 ],\n",
       "       [317917.53],\n",
       "       [301599.9 ],\n",
       "       [298816.4 ],\n",
       "       [312852.9 ],\n",
       "       [329699.22],\n",
       "       [338874.25],\n",
       "       [349662.06],\n",
       "       [352237.  ],\n",
       "       [350124.4 ],\n",
       "       [350378.2 ],\n",
       "       [356361.78],\n",
       "       [359022.38],\n",
       "       [361961.9 ],\n",
       "       [362172.28],\n",
       "       [364853.94],\n",
       "       [368698.84],\n",
       "       [362429.53],\n",
       "       [366329.72],\n",
       "       [366525.4 ],\n",
       "       [367489.56],\n",
       "       [372950.53],\n",
       "       [367439.62],\n",
       "       [377965.88],\n",
       "       [286005.56],\n",
       "       [267633.38],\n",
       "       [270640.8 ],\n",
       "       [273825.9 ],\n",
       "       [270552.88],\n",
       "       [270336.1 ],\n",
       "       [267902.34],\n",
       "       [265562.47],\n",
       "       [262903.88],\n",
       "       [258696.25],\n",
       "       [250014.61],\n",
       "       [243118.81],\n",
       "       [240809.83],\n",
       "       [216519.81],\n",
       "       [218366.86],\n",
       "       [224536.39],\n",
       "       [229581.14],\n",
       "       [230623.55],\n",
       "       [234071.38],\n",
       "       [238764.95],\n",
       "       [237846.62],\n",
       "       [234232.98],\n",
       "       [232614.64],\n",
       "       [230194.05],\n",
       "       [225897.02],\n",
       "       [219781.17],\n",
       "       [223319.86],\n",
       "       [228610.84],\n",
       "       [234596.17],\n",
       "       [230952.52],\n",
       "       [226876.6 ],\n",
       "       [259647.5 ],\n",
       "       [280928.47],\n",
       "       [285333.44],\n",
       "       [283987.66],\n",
       "       [281007.16],\n",
       "       [276502.12],\n",
       "       [275959.84],\n",
       "       [280137.1 ],\n",
       "       [284329.  ],\n",
       "       [289113.12],\n",
       "       [296060.66],\n",
       "       [298091.5 ],\n",
       "       [299712.25],\n",
       "       [294950.78],\n",
       "       [296063.5 ],\n",
       "       [294336.28],\n",
       "       [292797.97],\n",
       "       [298496.66],\n",
       "       [302453.78],\n",
       "       [301844.7 ],\n",
       "       [300807.4 ],\n",
       "       [295073.72],\n",
       "       [293255.12],\n",
       "       [298461.06],\n",
       "       [292690.8 ],\n",
       "       [282024.75],\n",
       "       [268448.7 ]], dtype=float32)"
      ]
     },
     "execution_count": 200,
     "metadata": {},
     "output_type": "execute_result"
    }
   ],
   "source": [
    "y_pred"
   ]
  },
  {
   "cell_type": "code",
   "execution_count": 201,
   "id": "e8f0377b",
   "metadata": {},
   "outputs": [
    {
     "data": {
      "image/png": "[encoded data removed]",
      "text/plain": [
       "<Figure size 640x480 with 1 Axes>"
      ]
     },
     "metadata": {},
     "output_type": "display_data"
    }
   ],
   "source": [
    "plt.plot(y_test, label='Real')\n",
    "plt.plot(y_pred, label='Predicho')\n",
    "plt.xlabel('Dias')\n",
    "plt.ylabel('Energia Producida')\n",
    "plt.legend()\n",
    "plt.show()"
   ]
  },
  {
   "cell_type": "markdown",
   "id": "3b681ebb",
   "metadata": {},
   "source": [
    "## RNN por mes "
   ]
  },
  {
   "cell_type": "markdown",
   "id": "c9afd13c",
   "metadata": {},
   "source": [
    "El codigo está perfecto no tocarlo, solo cambiar nombres"
   ]
  },
  {
   "cell_type": "code",
   "execution_count": 228,
   "id": "13fc622b",
   "metadata": {},
   "outputs": [],
   "source": [
    "X = dataMes.drop(\"Demanda\", axis=1)\n",
    "y = dataMes[\"Demanda\"]"
   ]
  },
  {
   "cell_type": "code",
   "execution_count": 229,
   "id": "a8ae7a20",
   "metadata": {},
   "outputs": [
    {
     "data": {
      "text/html": [
       "<div>\n",
       "<style scoped>\n",
       "    .dataframe tbody tr th:only-of-type {\n",
       "        vertical-align: middle;\n",
       "    }\n",
       "\n",
       "    .dataframe tbody tr th {\n",
       "        vertical-align: top;\n",
       "    }\n",
       "\n",
       "    .dataframe thead th {\n",
       "        text-align: right;\n",
       "    }\n",
       "</style>\n",
       "<table border=\"1\" class=\"dataframe\">\n",
       "  <thead>\n",
       "    <tr style=\"text-align: right;\">\n",
       "      <th></th>\n",
       "      <th>Demanda</th>\n",
       "      <th>Produccion</th>\n",
       "    </tr>\n",
       "    <tr>\n",
       "      <th>fecha</th>\n",
       "      <th></th>\n",
       "      <th></th>\n",
       "    </tr>\n",
       "  </thead>\n",
       "  <tbody>\n",
       "    <tr>\n",
       "      <th>2019-01-31</th>\n",
       "      <td>12344034</td>\n",
       "      <td>8892026</td>\n",
       "    </tr>\n",
       "    <tr>\n",
       "      <th>2019-02-28</th>\n",
       "      <td>10327355</td>\n",
       "      <td>7753904</td>\n",
       "    </tr>\n",
       "    <tr>\n",
       "      <th>2019-03-31</th>\n",
       "      <td>9566047</td>\n",
       "      <td>7603419</td>\n",
       "    </tr>\n",
       "    <tr>\n",
       "      <th>2019-04-30</th>\n",
       "      <td>8329040</td>\n",
       "      <td>6860510</td>\n",
       "    </tr>\n",
       "    <tr>\n",
       "      <th>2019-05-31</th>\n",
       "      <td>11823599</td>\n",
       "      <td>10597214</td>\n",
       "    </tr>\n",
       "    <tr>\n",
       "      <th>2019-06-30</th>\n",
       "      <td>14146614</td>\n",
       "      <td>11740792</td>\n",
       "    </tr>\n",
       "    <tr>\n",
       "      <th>2019-07-31</th>\n",
       "      <td>15465729</td>\n",
       "      <td>12511220</td>\n",
       "    </tr>\n",
       "    <tr>\n",
       "      <th>2019-08-31</th>\n",
       "      <td>15627938</td>\n",
       "      <td>12676743</td>\n",
       "    </tr>\n",
       "    <tr>\n",
       "      <th>2019-09-30</th>\n",
       "      <td>14477503</td>\n",
       "      <td>11977411</td>\n",
       "    </tr>\n",
       "    <tr>\n",
       "      <th>2019-10-31</th>\n",
       "      <td>11810422</td>\n",
       "      <td>9998288</td>\n",
       "    </tr>\n",
       "    <tr>\n",
       "      <th>2019-11-30</th>\n",
       "      <td>7949894</td>\n",
       "      <td>7243726</td>\n",
       "    </tr>\n",
       "    <tr>\n",
       "      <th>2019-12-31</th>\n",
       "      <td>11446699</td>\n",
       "      <td>8653209</td>\n",
       "    </tr>\n",
       "    <tr>\n",
       "      <th>2020-01-31</th>\n",
       "      <td>13489781</td>\n",
       "      <td>9110785</td>\n",
       "    </tr>\n",
       "    <tr>\n",
       "      <th>2020-02-29</th>\n",
       "      <td>11022374</td>\n",
       "      <td>8862696</td>\n",
       "    </tr>\n",
       "    <tr>\n",
       "      <th>2020-03-31</th>\n",
       "      <td>8662324</td>\n",
       "      <td>7728448</td>\n",
       "    </tr>\n",
       "    <tr>\n",
       "      <th>2020-04-30</th>\n",
       "      <td>8747987</td>\n",
       "      <td>8081607</td>\n",
       "    </tr>\n",
       "    <tr>\n",
       "      <th>2020-05-31</th>\n",
       "      <td>12767656</td>\n",
       "      <td>10977659</td>\n",
       "    </tr>\n",
       "    <tr>\n",
       "      <th>2020-06-30</th>\n",
       "      <td>14905798</td>\n",
       "      <td>11627558</td>\n",
       "    </tr>\n",
       "    <tr>\n",
       "      <th>2020-07-31</th>\n",
       "      <td>18199501</td>\n",
       "      <td>12252714</td>\n",
       "    </tr>\n",
       "    <tr>\n",
       "      <th>2020-08-31</th>\n",
       "      <td>17827320</td>\n",
       "      <td>12969990</td>\n",
       "    </tr>\n",
       "    <tr>\n",
       "      <th>2020-09-30</th>\n",
       "      <td>16403785</td>\n",
       "      <td>12160900</td>\n",
       "    </tr>\n",
       "    <tr>\n",
       "      <th>2020-10-31</th>\n",
       "      <td>10320331</td>\n",
       "      <td>9483095</td>\n",
       "    </tr>\n",
       "    <tr>\n",
       "      <th>2020-11-30</th>\n",
       "      <td>8397757</td>\n",
       "      <td>7106362</td>\n",
       "    </tr>\n",
       "    <tr>\n",
       "      <th>2020-12-31</th>\n",
       "      <td>11644426</td>\n",
       "      <td>7536600</td>\n",
       "    </tr>\n",
       "    <tr>\n",
       "      <th>2021-01-31</th>\n",
       "      <td>13005501</td>\n",
       "      <td>8091202</td>\n",
       "    </tr>\n",
       "    <tr>\n",
       "      <th>2021-02-28</th>\n",
       "      <td>10390139</td>\n",
       "      <td>7253635</td>\n",
       "    </tr>\n",
       "    <tr>\n",
       "      <th>2021-03-31</th>\n",
       "      <td>9342708</td>\n",
       "      <td>7317690</td>\n",
       "    </tr>\n",
       "    <tr>\n",
       "      <th>2021-04-30</th>\n",
       "      <td>10272893</td>\n",
       "      <td>8450198</td>\n",
       "    </tr>\n",
       "    <tr>\n",
       "      <th>2021-05-31</th>\n",
       "      <td>14984538</td>\n",
       "      <td>11166675</td>\n",
       "    </tr>\n",
       "    <tr>\n",
       "      <th>2021-06-30</th>\n",
       "      <td>16670675</td>\n",
       "      <td>11921123</td>\n",
       "    </tr>\n",
       "    <tr>\n",
       "      <th>2021-07-31</th>\n",
       "      <td>19392643</td>\n",
       "      <td>13231958</td>\n",
       "    </tr>\n",
       "    <tr>\n",
       "      <th>2021-08-31</th>\n",
       "      <td>19935514</td>\n",
       "      <td>13392505</td>\n",
       "    </tr>\n",
       "    <tr>\n",
       "      <th>2021-09-30</th>\n",
       "      <td>14896197</td>\n",
       "      <td>11319400</td>\n",
       "    </tr>\n",
       "    <tr>\n",
       "      <th>2021-10-31</th>\n",
       "      <td>14652679</td>\n",
       "      <td>10581169</td>\n",
       "    </tr>\n",
       "    <tr>\n",
       "      <th>2021-11-30</th>\n",
       "      <td>9516929</td>\n",
       "      <td>7544319</td>\n",
       "    </tr>\n",
       "    <tr>\n",
       "      <th>2021-12-31</th>\n",
       "      <td>12224975</td>\n",
       "      <td>8528453</td>\n",
       "    </tr>\n",
       "  </tbody>\n",
       "</table>\n",
       "</div>"
      ],
      "text/plain": [
       "             Demanda  Produccion\n",
       "fecha                           \n",
       "2019-01-31  12344034     8892026\n",
       "2019-02-28  10327355     7753904\n",
       "2019-03-31   9566047     7603419\n",
       "2019-04-30   8329040     6860510\n",
       "2019-05-31  11823599    10597214\n",
       "2019-06-30  14146614    11740792\n",
       "2019-07-31  15465729    12511220\n",
       "2019-08-31  15627938    12676743\n",
       "2019-09-30  14477503    11977411\n",
       "2019-10-31  11810422     9998288\n",
       "2019-11-30   7949894     7243726\n",
       "2019-12-31  11446699     8653209\n",
       "2020-01-31  13489781     9110785\n",
       "2020-02-29  11022374     8862696\n",
       "2020-03-31   8662324     7728448\n",
       "2020-04-30   8747987     8081607\n",
       "2020-05-31  12767656    10977659\n",
       "2020-06-30  14905798    11627558\n",
       "2020-07-31  18199501    12252714\n",
       "2020-08-31  17827320    12969990\n",
       "2020-09-30  16403785    12160900\n",
       "2020-10-31  10320331     9483095\n",
       "2020-11-30   8397757     7106362\n",
       "2020-12-31  11644426     7536600\n",
       "2021-01-31  13005501     8091202\n",
       "2021-02-28  10390139     7253635\n",
       "2021-03-31   9342708     7317690\n",
       "2021-04-30  10272893     8450198\n",
       "2021-05-31  14984538    11166675\n",
       "2021-06-30  16670675    11921123\n",
       "2021-07-31  19392643    13231958\n",
       "2021-08-31  19935514    13392505\n",
       "2021-09-30  14896197    11319400\n",
       "2021-10-31  14652679    10581169\n",
       "2021-11-30   9516929     7544319\n",
       "2021-12-31  12224975     8528453"
      ]
     },
     "execution_count": 229,
     "metadata": {},
     "output_type": "execute_result"
    }
   ],
   "source": [
    "dataMes"
   ]
  },
  {
   "cell_type": "code",
   "execution_count": 230,
   "id": "308e9fea",
   "metadata": {},
   "outputs": [],
   "source": [
    "from sklearn.preprocessing import MinMaxScaler\n",
    "scaler = MinMaxScaler()\n",
    "X = scaler.fit_transform(X)\n",
    "y = scaler.fit_transform(y.values.reshape(-1, 1))"
   ]
  },
  {
   "cell_type": "code",
   "execution_count": 231,
   "id": "951707e6",
   "metadata": {},
   "outputs": [],
   "source": [
    "from sklearn.model_selection import train_test_split\n",
    "X_train, X_test, y_train, y_test = train_test_split(X, y, test_size=0.2)"
   ]
  },
  {
   "cell_type": "code",
   "execution_count": 232,
   "id": "ea8227d0",
   "metadata": {},
   "outputs": [],
   "source": [
    "X_train = X_train.reshape(-1, 1, X_train.shape[1])\n",
    "X_test = X_test.reshape(-1, 1, X_test.shape[1])"
   ]
  },
  {
   "cell_type": "code",
   "execution_count": 233,
   "id": "a36ca8d7",
   "metadata": {},
   "outputs": [],
   "source": [
    "from keras.models import Sequential\n",
    "from keras.layers import LSTM, Dense\n",
    "model = Sequential()\n",
    "model.add(LSTM(32, input_shape=(X_train.shape[1], X_train.shape[2])))\n",
    "model.add(Dense(1))\n",
    "model.compile(loss='mean_squared_error', optimizer='adam')"
   ]
  },
  {
   "cell_type": "code",
   "execution_count": 234,
   "id": "8e58c1cb",
   "metadata": {},
   "outputs": [],
   "source": [
    "history = model.fit(X_train, y_train, epochs=50, batch_size=32, validation_data=(X_test, y_test), verbose=0)"
   ]
  },
  {
   "cell_type": "code",
   "execution_count": 235,
   "id": "7853cc45",
   "metadata": {},
   "outputs": [
    {
     "name": "stdout",
     "output_type": "stream",
     "text": [
      "Train Loss: 0.08579961210489273\n",
      "Test Loss: 0.14992891252040863\n"
     ]
    }
   ],
   "source": [
    "train_loss = model.evaluate(X_train, y_train, verbose=0)\n",
    "test_loss = model.evaluate(X_test, y_test, verbose=0)\n",
    "print(\"Train Loss:\", train_loss)\n",
    "print(\"Test Loss:\", test_loss)"
   ]
  },
  {
   "cell_type": "code",
   "execution_count": 236,
   "id": "37ac022f",
   "metadata": {},
   "outputs": [
    {
     "name": "stdout",
     "output_type": "stream",
     "text": [
      "1/1 [==============================] - 0s 338ms/step\n"
     ]
    }
   ],
   "source": [
    "y_pred = model.predict(X_test)"
   ]
  },
  {
   "cell_type": "code",
   "execution_count": 237,
   "id": "cd83fe51",
   "metadata": {},
   "outputs": [],
   "source": [
    "y_pred = scaler.inverse_transform(y_pred)\n",
    "y_test = scaler.inverse_transform(y_test)"
   ]
  },
  {
   "cell_type": "code",
   "execution_count": 238,
   "id": "17c41b26",
   "metadata": {
    "scrolled": true
   },
   "outputs": [
    {
     "data": {
      "image/png": "[encoded data removed]",
      "text/plain": [
       "<Figure size 640x480 with 1 Axes>"
      ]
     },
     "metadata": {},
     "output_type": "display_data"
    }
   ],
   "source": [
    "plt.plot(y_test, label='Valor real')\n",
    "plt.plot(y_pred, label='Predicción')\n",
    "plt.legend()\n",
    "plt.show()"
   ]
  },
  {
   "cell_type": "code",
   "execution_count": 239,
   "id": "6a881f6c",
   "metadata": {},
   "outputs": [],
   "source": [
    "error = np.mean(np.abs((y_test - y_pred) / y_test)) * 100\n",
    "accuracy = 100 - error"
   ]
  },
  {
   "cell_type": "code",
   "execution_count": 222,
   "id": "08951cf6",
   "metadata": {},
   "outputs": [],
   "source": [
    "mse = np.mean((y_pred - y_test)**2)"
   ]
  },
  {
   "cell_type": "code",
   "execution_count": 223,
   "id": "66313a68",
   "metadata": {},
   "outputs": [
    {
     "data": {
      "text/plain": [
       "19.500508039048555"
      ]
     },
     "execution_count": 223,
     "metadata": {},
     "output_type": "execute_result"
    }
   ],
   "source": [
    "error"
   ]
  },
  {
   "cell_type": "code",
   "execution_count": 224,
   "id": "dad6c9bc",
   "metadata": {},
   "outputs": [
    {
     "data": {
      "text/plain": [
       "80.49949196095145"
      ]
     },
     "execution_count": 224,
     "metadata": {},
     "output_type": "execute_result"
    }
   ],
   "source": [
    "accuracy"
   ]
  },
  {
   "cell_type": "code",
   "execution_count": null,
   "id": "21ebc8fb",
   "metadata": {},
   "outputs": [],
   "source": [
    "mse"
   ]
  },
  {
   "cell_type": "code",
   "execution_count": 243,
   "id": "88994042",
   "metadata": {},
   "outputs": [
    {
     "name": "stdout",
     "output_type": "stream",
     "text": [
      "Precision de la RNN por meses es: 76.83425210441922\n",
      "El error es: 23.16574789558078\n",
      "El error cuadrático mse: 16757269390052.26 kw\n"
     ]
    }
   ],
   "source": [
    "print(f\"Precision de la RNN por meses es: {accuracy}\" )\n",
    "print(f\"El error es: {error}\")\n",
    "print(f\"El error cuadrático mse: {mse} kw\")"
   ]
  },
  {
   "cell_type": "code",
   "execution_count": null,
   "id": "8c6062e9",
   "metadata": {},
   "outputs": [],
   "source": []
  }
 ],
 "metadata": {
  "kernelspec": {
   "display_name": "Python 3 (ipykernel)",
   "language": "python",
   "name": "python3"
  },
  "language_info": {
   "codemirror_mode": {
    "name": "ipython",
    "version": 3
   },
   "file_extension": ".py",
   "mimetype": "text/x-python",
   "name": "python",
   "nbconvert_exporter": "python",
   "pygments_lexer": "ipython3",
   "version": "3.9.13"
  }
 },
 "nbformat": 4,
 "nbformat_minor": 5
}
